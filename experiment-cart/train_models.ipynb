{
 "cells": [
  {
   "cell_type": "code",
   "execution_count": 1,
   "metadata": {
    "scrolled": true
   },
   "outputs": [
    {
     "name": "stdout",
     "output_type": "stream",
     "text": [
      "model contains 1398972 parameters\n",
      "Successfully loaded data from /home/ca15/lagrangian-nn/experiment-cart/cartpole-pixels-dataset.pkl\n"
     ]
    },
    {
     "name": "stderr",
     "output_type": "stream",
     "text": [
      "100%|██████████| 50001/50001 [13:13<00:00, 62.98it/s]\n"
     ]
    },
    {
     "name": "stdout",
     "output_type": "stream",
     "text": [
      "Final train loss 5.2878e-07 +/- 6.1024e-11\n",
      "Final test loss 4.4393e-07 +/- 4.4706e-11\n"
     ]
    }
   ],
   "source": [
    "%run train_hnn.py --gpu 0"
   ]
  },
  {
   "cell_type": "code",
   "execution_count": 2,
   "metadata": {},
   "outputs": [
    {
     "name": "stdout",
     "output_type": "stream",
     "text": [
      "model contains 1532925 parameters\n",
      "Successfully loaded data from /home/ca15/lagrangian-nn/experiment-cart/cartpole-pixels-dataset.pkl\n"
     ]
    },
    {
     "name": "stderr",
     "output_type": "stream",
     "text": [
      "100%|██████████| 50001/50001 [23:13<00:00, 35.89it/s]\n"
     ]
    },
    {
     "name": "stdout",
     "output_type": "stream",
     "text": [
      "Final train loss 5.2800e-07 +/- 6.0932e-11\n",
      "Final test loss 4.4290e-07 +/- 4.4562e-11\n"
     ]
    }
   ],
   "source": [
    "%run train_symodenet.py --gpu 0"
   ]
  },
  {
   "cell_type": "code",
   "execution_count": 3,
   "metadata": {},
   "outputs": [
    {
     "name": "stdout",
     "output_type": "stream",
     "text": [
      "model contains 1347594 parameters\n",
      "Successfully loaded data from /home/ca15/lagrangian-nn/experiment-cart/cartpole-pixels-dataset.pkl\n"
     ]
    },
    {
     "name": "stderr",
     "output_type": "stream",
     "text": [
      "100%|██████████| 50001/50001 [22:32<00:00, 36.97it/s]\n"
     ]
    },
    {
     "name": "stdout",
     "output_type": "stream",
     "text": [
      "Final train loss 5.2741e-07 +/- 6.0939e-11\n",
      "Final test loss 4.4058e-07 +/- 4.4099e-11\n"
     ]
    }
   ],
   "source": [
    "%run train_lagnet.py --gpu 0"
   ]
  },
  {
   "cell_type": "code",
   "execution_count": null,
   "metadata": {},
   "outputs": [],
   "source": []
  }
 ],
 "metadata": {
  "kernelspec": {
   "display_name": "Python 3",
   "language": "python",
   "name": "python3"
  },
  "language_info": {
   "codemirror_mode": {
    "name": "ipython",
    "version": 3
   },
   "file_extension": ".py",
   "mimetype": "text/x-python",
   "name": "python",
   "nbconvert_exporter": "python",
   "pygments_lexer": "ipython3",
   "version": "3.6.8"
  }
 },
 "nbformat": 4,
 "nbformat_minor": 4
}
