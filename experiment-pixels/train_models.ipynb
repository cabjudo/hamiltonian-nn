{
 "cells": [
  {
   "cell_type": "code",
   "execution_count": 33,
   "metadata": {
    "scrolled": true
   },
   "outputs": [
    {
     "name": "stdout",
     "output_type": "stream",
     "text": [
      "['python', 'train_hnn.py', '--dyn_network_type', 'LagNet', '--dyn_input_dim', '2', '--dyn_weight', '1.0', '--structure_weight', '1.0', '--max_angle', '0.5235987755982988', '--ae_network_type', 'vae', '--env_name', 'pendulum', '--learn_rate', '0.001', '--vae_weight', '0.001']\n",
      "['python', 'train_hnn.py', '--dyn_network_type', 'LagNet', '--dyn_input_dim', '2', '--dyn_weight', '1.0', '--structure_weight', '1.0', '--max_angle', '1.0471975511965976', '--ae_network_type', 'vae', '--env_name', 'pendulum', '--learn_rate', '0.001', '--vae_weight', '0.001']\n",
      "['python', 'train_hnn.py', '--dyn_network_type', 'LagNet', '--dyn_input_dim', '2', '--dyn_weight', '1.0', '--structure_weight', '1.0', '--max_angle', '1.5707963267948966', '--ae_network_type', 'vae', '--env_name', 'pendulum', '--learn_rate', '0.001', '--vae_weight', '0.001']\n",
      "['python', 'train_hnn.py', '--dyn_network_type', 'LagNet', '--dyn_input_dim', '2', '--dyn_weight', '1.0', '--structure_weight', '1.0', '--max_angle', '3.141592653589793', '--ae_network_type', 'vae', '--env_name', 'pendulum', '--learn_rate', '0.001', '--vae_weight', '0.001']\n",
      "['python', 'train_hnn.py', '--dyn_network_type', 'LagNet', '--dyn_input_dim', '4', '--dyn_weight', '1.0', '--structure_weight', '1.0', '--max_angle', '0.5235987755982988', '--ae_network_type', 'vae', '--env_name', 'pendulum', '--learn_rate', '0.001', '--vae_weight', '0.001']\n",
      "['python', 'train_hnn.py', '--dyn_network_type', 'LagNet', '--dyn_input_dim', '4', '--dyn_weight', '1.0', '--structure_weight', '1.0', '--max_angle', '1.0471975511965976', '--ae_network_type', 'vae', '--env_name', 'pendulum', '--learn_rate', '0.001', '--vae_weight', '0.001']\n",
      "['python', 'train_hnn.py', '--dyn_network_type', 'LagNet', '--dyn_input_dim', '4', '--dyn_weight', '1.0', '--structure_weight', '1.0', '--max_angle', '1.5707963267948966', '--ae_network_type', 'vae', '--env_name', 'pendulum', '--learn_rate', '0.001', '--vae_weight', '0.001']\n",
      "['python', 'train_hnn.py', '--dyn_network_type', 'LagNet', '--dyn_input_dim', '4', '--dyn_weight', '1.0', '--structure_weight', '1.0', '--max_angle', '3.141592653589793', '--ae_network_type', 'vae', '--env_name', 'pendulum', '--learn_rate', '0.001', '--vae_weight', '0.001']\n",
      "['python', 'train_hnn.py', '--dyn_network_type', 'LagNet', '--dyn_input_dim', '6', '--dyn_weight', '1.0', '--structure_weight', '1.0', '--max_angle', '0.5235987755982988', '--ae_network_type', 'vae', '--env_name', 'pendulum', '--learn_rate', '0.001', '--vae_weight', '0.001']\n",
      "['python', 'train_hnn.py', '--dyn_network_type', 'LagNet', '--dyn_input_dim', '6', '--dyn_weight', '1.0', '--structure_weight', '1.0', '--max_angle', '1.0471975511965976', '--ae_network_type', 'vae', '--env_name', 'pendulum', '--learn_rate', '0.001', '--vae_weight', '0.001']\n",
      "['python', 'train_hnn.py', '--dyn_network_type', 'LagNet', '--dyn_input_dim', '6', '--dyn_weight', '1.0', '--structure_weight', '1.0', '--max_angle', '1.5707963267948966', '--ae_network_type', 'vae', '--env_name', 'pendulum', '--learn_rate', '0.001', '--vae_weight', '0.001']\n",
      "['python', 'train_hnn.py', '--dyn_network_type', 'LagNet', '--dyn_input_dim', '6', '--dyn_weight', '1.0', '--structure_weight', '1.0', '--max_angle', '3.141592653589793', '--ae_network_type', 'vae', '--env_name', 'pendulum', '--learn_rate', '0.001', '--vae_weight', '0.001']\n",
      "['python', 'train_hnn.py', '--dyn_network_type', 'LagNet', '--dyn_input_dim', '2', '--dyn_weight', '1.0', '--structure_weight', '1.0', '--max_angle', '0.5235987755982988', '--ae_network_type', 'mlp', '--env_name', 'pendulum', '--learn_rate', '0.001', '--vae_weight', '0.001']\n",
      "['python', 'train_hnn.py', '--dyn_network_type', 'LagNet', '--dyn_input_dim', '2', '--dyn_weight', '1.0', '--structure_weight', '1.0', '--max_angle', '1.0471975511965976', '--ae_network_type', 'mlp', '--env_name', 'pendulum', '--learn_rate', '0.001', '--vae_weight', '0.001']\n",
      "['python', 'train_hnn.py', '--dyn_network_type', 'LagNet', '--dyn_input_dim', '2', '--dyn_weight', '1.0', '--structure_weight', '1.0', '--max_angle', '1.5707963267948966', '--ae_network_type', 'mlp', '--env_name', 'pendulum', '--learn_rate', '0.001', '--vae_weight', '0.001']\n",
      "['python', 'train_hnn.py', '--dyn_network_type', 'LagNet', '--dyn_input_dim', '2', '--dyn_weight', '1.0', '--structure_weight', '1.0', '--max_angle', '3.141592653589793', '--ae_network_type', 'mlp', '--env_name', 'pendulum', '--learn_rate', '0.001', '--vae_weight', '0.001']\n",
      "['python', 'train_hnn.py', '--dyn_network_type', 'LagNet', '--dyn_input_dim', '4', '--dyn_weight', '1.0', '--structure_weight', '1.0', '--max_angle', '0.5235987755982988', '--ae_network_type', 'mlp', '--env_name', 'pendulum', '--learn_rate', '0.001', '--vae_weight', '0.001']\n",
      "['python', 'train_hnn.py', '--dyn_network_type', 'LagNet', '--dyn_input_dim', '4', '--dyn_weight', '1.0', '--structure_weight', '1.0', '--max_angle', '1.0471975511965976', '--ae_network_type', 'mlp', '--env_name', 'pendulum', '--learn_rate', '0.001', '--vae_weight', '0.001']\n",
      "['python', 'train_hnn.py', '--dyn_network_type', 'LagNet', '--dyn_input_dim', '4', '--dyn_weight', '1.0', '--structure_weight', '1.0', '--max_angle', '1.5707963267948966', '--ae_network_type', 'mlp', '--env_name', 'pendulum', '--learn_rate', '0.001', '--vae_weight', '0.001']\n",
      "['python', 'train_hnn.py', '--dyn_network_type', 'LagNet', '--dyn_input_dim', '4', '--dyn_weight', '1.0', '--structure_weight', '1.0', '--max_angle', '3.141592653589793', '--ae_network_type', 'mlp', '--env_name', 'pendulum', '--learn_rate', '0.001', '--vae_weight', '0.001']\n",
      "['python', 'train_hnn.py', '--dyn_network_type', 'LagNet', '--dyn_input_dim', '6', '--dyn_weight', '1.0', '--structure_weight', '1.0', '--max_angle', '0.5235987755982988', '--ae_network_type', 'mlp', '--env_name', 'pendulum', '--learn_rate', '0.001', '--vae_weight', '0.001']\n",
      "['python', 'train_hnn.py', '--dyn_network_type', 'LagNet', '--dyn_input_dim', '6', '--dyn_weight', '1.0', '--structure_weight', '1.0', '--max_angle', '1.0471975511965976', '--ae_network_type', 'mlp', '--env_name', 'pendulum', '--learn_rate', '0.001', '--vae_weight', '0.001']\n",
      "['python', 'train_hnn.py', '--dyn_network_type', 'LagNet', '--dyn_input_dim', '6', '--dyn_weight', '1.0', '--structure_weight', '1.0', '--max_angle', '1.5707963267948966', '--ae_network_type', 'mlp', '--env_name', 'pendulum', '--learn_rate', '0.001', '--vae_weight', '0.001']\n",
      "['python', 'train_hnn.py', '--dyn_network_type', 'LagNet', '--dyn_input_dim', '6', '--dyn_weight', '1.0', '--structure_weight', '1.0', '--max_angle', '3.141592653589793', '--ae_network_type', 'mlp', '--env_name', 'pendulum', '--learn_rate', '0.001', '--vae_weight', '0.001']\n",
      "['python', 'train_hnn.py', '--dyn_network_type', 'LagNet', '--dyn_input_dim', '4', '--dyn_weight', '1.0', '--structure_weight', '1.0', '--max_angle', '0.5235987755982988', '--ae_network_type', 'vae', '--env_name', 'acrobot', '--learn_rate', '0.001', '--vae_weight', '0.001']\n",
      "['python', 'train_hnn.py', '--dyn_network_type', 'LagNet', '--dyn_input_dim', '6', '--dyn_weight', '1.0', '--structure_weight', '1.0', '--max_angle', '0.5235987755982988', '--ae_network_type', 'vae', '--env_name', 'acrobot', '--learn_rate', '0.001', '--vae_weight', '0.001']\n",
      "['python', 'train_hnn.py', '--dyn_network_type', 'LagNet', '--dyn_input_dim', '4', '--dyn_weight', '1.0', '--structure_weight', '1.0', '--max_angle', '0.5235987755982988', '--ae_network_type', 'mlp', '--env_name', 'acrobot', '--learn_rate', '0.001', '--vae_weight', '0.001']\n",
      "['python', 'train_hnn.py', '--dyn_network_type', 'LagNet', '--dyn_input_dim', '6', '--dyn_weight', '1.0', '--structure_weight', '1.0', '--max_angle', '0.5235987755982988', '--ae_network_type', 'mlp', '--env_name', 'acrobot', '--learn_rate', '0.001', '--vae_weight', '0.001']\n",
      "['python', 'train_hnn.py', '--dyn_network_type', 'LagNet', '--dyn_input_dim', '2', '--dyn_weight', '0.1', '--structure_weight', '1.0', '--max_angle', '0.5235987755982988', '--ae_network_type', 'vae', '--env_name', 'pendulum', '--learn_rate', '0.001', '--vae_weight', '0.001']\n",
      "['python', 'train_hnn.py', '--dyn_network_type', 'LagNet', '--dyn_input_dim', '2', '--dyn_weight', '0.1', '--structure_weight', '1.0', '--max_angle', '1.0471975511965976', '--ae_network_type', 'vae', '--env_name', 'pendulum', '--learn_rate', '0.001', '--vae_weight', '0.001']\n"
     ]
    },
    {
     "name": "stdout",
     "output_type": "stream",
     "text": [
      "['python', 'train_hnn.py', '--dyn_network_type', 'LagNet', '--dyn_input_dim', '2', '--dyn_weight', '0.1', '--structure_weight', '1.0', '--max_angle', '1.5707963267948966', '--ae_network_type', 'vae', '--env_name', 'pendulum', '--learn_rate', '0.001', '--vae_weight', '0.001']\n",
      "['python', 'train_hnn.py', '--dyn_network_type', 'LagNet', '--dyn_input_dim', '2', '--dyn_weight', '0.1', '--structure_weight', '1.0', '--max_angle', '3.141592653589793', '--ae_network_type', 'vae', '--env_name', 'pendulum', '--learn_rate', '0.001', '--vae_weight', '0.001']\n",
      "['python', 'train_hnn.py', '--dyn_network_type', 'LagNet', '--dyn_input_dim', '4', '--dyn_weight', '0.1', '--structure_weight', '1.0', '--max_angle', '0.5235987755982988', '--ae_network_type', 'vae', '--env_name', 'pendulum', '--learn_rate', '0.001', '--vae_weight', '0.001']\n",
      "['python', 'train_hnn.py', '--dyn_network_type', 'LagNet', '--dyn_input_dim', '4', '--dyn_weight', '0.1', '--structure_weight', '1.0', '--max_angle', '1.0471975511965976', '--ae_network_type', 'vae', '--env_name', 'pendulum', '--learn_rate', '0.001', '--vae_weight', '0.001']\n",
      "['python', 'train_hnn.py', '--dyn_network_type', 'LagNet', '--dyn_input_dim', '4', '--dyn_weight', '0.1', '--structure_weight', '1.0', '--max_angle', '1.5707963267948966', '--ae_network_type', 'vae', '--env_name', 'pendulum', '--learn_rate', '0.001', '--vae_weight', '0.001']\n",
      "['python', 'train_hnn.py', '--dyn_network_type', 'LagNet', '--dyn_input_dim', '4', '--dyn_weight', '0.1', '--structure_weight', '1.0', '--max_angle', '3.141592653589793', '--ae_network_type', 'vae', '--env_name', 'pendulum', '--learn_rate', '0.001', '--vae_weight', '0.001']\n",
      "['python', 'train_hnn.py', '--dyn_network_type', 'LagNet', '--dyn_input_dim', '6', '--dyn_weight', '0.1', '--structure_weight', '1.0', '--max_angle', '0.5235987755982988', '--ae_network_type', 'vae', '--env_name', 'pendulum', '--learn_rate', '0.001', '--vae_weight', '0.001']\n",
      "['python', 'train_hnn.py', '--dyn_network_type', 'LagNet', '--dyn_input_dim', '6', '--dyn_weight', '0.1', '--structure_weight', '1.0', '--max_angle', '1.0471975511965976', '--ae_network_type', 'vae', '--env_name', 'pendulum', '--learn_rate', '0.001', '--vae_weight', '0.001']\n",
      "['python', 'train_hnn.py', '--dyn_network_type', 'LagNet', '--dyn_input_dim', '6', '--dyn_weight', '0.1', '--structure_weight', '1.0', '--max_angle', '1.5707963267948966', '--ae_network_type', 'vae', '--env_name', 'pendulum', '--learn_rate', '0.001', '--vae_weight', '0.001']\n",
      "['python', 'train_hnn.py', '--dyn_network_type', 'LagNet', '--dyn_input_dim', '6', '--dyn_weight', '0.1', '--structure_weight', '1.0', '--max_angle', '3.141592653589793', '--ae_network_type', 'vae', '--env_name', 'pendulum', '--learn_rate', '0.001', '--vae_weight', '0.001']\n",
      "['python', 'train_hnn.py', '--dyn_network_type', 'LagNet', '--dyn_input_dim', '2', '--dyn_weight', '0.1', '--structure_weight', '1.0', '--max_angle', '0.5235987755982988', '--ae_network_type', 'mlp', '--env_name', 'pendulum', '--learn_rate', '0.001', '--vae_weight', '0.001']\n",
      "['python', 'train_hnn.py', '--dyn_network_type', 'LagNet', '--dyn_input_dim', '2', '--dyn_weight', '0.1', '--structure_weight', '1.0', '--max_angle', '1.0471975511965976', '--ae_network_type', 'mlp', '--env_name', 'pendulum', '--learn_rate', '0.001', '--vae_weight', '0.001']\n",
      "['python', 'train_hnn.py', '--dyn_network_type', 'LagNet', '--dyn_input_dim', '2', '--dyn_weight', '0.1', '--structure_weight', '1.0', '--max_angle', '1.5707963267948966', '--ae_network_type', 'mlp', '--env_name', 'pendulum', '--learn_rate', '0.001', '--vae_weight', '0.001']\n",
      "['python', 'train_hnn.py', '--dyn_network_type', 'LagNet', '--dyn_input_dim', '2', '--dyn_weight', '0.1', '--structure_weight', '1.0', '--max_angle', '3.141592653589793', '--ae_network_type', 'mlp', '--env_name', 'pendulum', '--learn_rate', '0.001', '--vae_weight', '0.001']\n",
      "['python', 'train_hnn.py', '--dyn_network_type', 'LagNet', '--dyn_input_dim', '4', '--dyn_weight', '0.1', '--structure_weight', '1.0', '--max_angle', '0.5235987755982988', '--ae_network_type', 'mlp', '--env_name', 'pendulum', '--learn_rate', '0.001', '--vae_weight', '0.001']\n",
      "['python', 'train_hnn.py', '--dyn_network_type', 'LagNet', '--dyn_input_dim', '4', '--dyn_weight', '0.1', '--structure_weight', '1.0', '--max_angle', '1.0471975511965976', '--ae_network_type', 'mlp', '--env_name', 'pendulum', '--learn_rate', '0.001', '--vae_weight', '0.001']\n",
      "['python', 'train_hnn.py', '--dyn_network_type', 'LagNet', '--dyn_input_dim', '4', '--dyn_weight', '0.1', '--structure_weight', '1.0', '--max_angle', '1.5707963267948966', '--ae_network_type', 'mlp', '--env_name', 'pendulum', '--learn_rate', '0.001', '--vae_weight', '0.001']\n",
      "['python', 'train_hnn.py', '--dyn_network_type', 'LagNet', '--dyn_input_dim', '4', '--dyn_weight', '0.1', '--structure_weight', '1.0', '--max_angle', '3.141592653589793', '--ae_network_type', 'mlp', '--env_name', 'pendulum', '--learn_rate', '0.001', '--vae_weight', '0.001']\n",
      "['python', 'train_hnn.py', '--dyn_network_type', 'LagNet', '--dyn_input_dim', '6', '--dyn_weight', '0.1', '--structure_weight', '1.0', '--max_angle', '0.5235987755982988', '--ae_network_type', 'mlp', '--env_name', 'pendulum', '--learn_rate', '0.001', '--vae_weight', '0.001']\n",
      "['python', 'train_hnn.py', '--dyn_network_type', 'LagNet', '--dyn_input_dim', '6', '--dyn_weight', '0.1', '--structure_weight', '1.0', '--max_angle', '1.0471975511965976', '--ae_network_type', 'mlp', '--env_name', 'pendulum', '--learn_rate', '0.001', '--vae_weight', '0.001']\n",
      "['python', 'train_hnn.py', '--dyn_network_type', 'LagNet', '--dyn_input_dim', '6', '--dyn_weight', '0.1', '--structure_weight', '1.0', '--max_angle', '1.5707963267948966', '--ae_network_type', 'mlp', '--env_name', 'pendulum', '--learn_rate', '0.001', '--vae_weight', '0.001']\n",
      "['python', 'train_hnn.py', '--dyn_network_type', 'LagNet', '--dyn_input_dim', '6', '--dyn_weight', '0.1', '--structure_weight', '1.0', '--max_angle', '3.141592653589793', '--ae_network_type', 'mlp', '--env_name', 'pendulum', '--learn_rate', '0.001', '--vae_weight', '0.001']\n",
      "['python', 'train_hnn.py', '--dyn_network_type', 'LagNet', '--dyn_input_dim', '4', '--dyn_weight', '0.1', '--structure_weight', '1.0', '--max_angle', '0.5235987755982988', '--ae_network_type', 'vae', '--env_name', 'acrobot', '--learn_rate', '0.001', '--vae_weight', '0.001']\n",
      "['python', 'train_hnn.py', '--dyn_network_type', 'LagNet', '--dyn_input_dim', '6', '--dyn_weight', '0.1', '--structure_weight', '1.0', '--max_angle', '0.5235987755982988', '--ae_network_type', 'vae', '--env_name', 'acrobot', '--learn_rate', '0.001', '--vae_weight', '0.001']\n",
      "['python', 'train_hnn.py', '--dyn_network_type', 'LagNet', '--dyn_input_dim', '4', '--dyn_weight', '0.1', '--structure_weight', '1.0', '--max_angle', '0.5235987755982988', '--ae_network_type', 'mlp', '--env_name', 'acrobot', '--learn_rate', '0.001', '--vae_weight', '0.001']\n",
      "['python', 'train_hnn.py', '--dyn_network_type', 'LagNet', '--dyn_input_dim', '6', '--dyn_weight', '0.1', '--structure_weight', '1.0', '--max_angle', '0.5235987755982988', '--ae_network_type', 'mlp', '--env_name', 'acrobot', '--learn_rate', '0.001', '--vae_weight', '0.001']\n",
      "['python', 'train_hnn.py', '--dyn_network_type', 'LagNet', '--dyn_input_dim', '2', '--dyn_weight', '0.01', '--structure_weight', '1.0', '--max_angle', '0.5235987755982988', '--ae_network_type', 'vae', '--env_name', 'pendulum', '--learn_rate', '0.001', '--vae_weight', '0.001']\n",
      "['python', 'train_hnn.py', '--dyn_network_type', 'LagNet', '--dyn_input_dim', '2', '--dyn_weight', '0.01', '--structure_weight', '1.0', '--max_angle', '1.0471975511965976', '--ae_network_type', 'vae', '--env_name', 'pendulum', '--learn_rate', '0.001', '--vae_weight', '0.001']\n",
      "['python', 'train_hnn.py', '--dyn_network_type', 'LagNet', '--dyn_input_dim', '2', '--dyn_weight', '0.01', '--structure_weight', '1.0', '--max_angle', '1.5707963267948966', '--ae_network_type', 'vae', '--env_name', 'pendulum', '--learn_rate', '0.001', '--vae_weight', '0.001']\n",
      "['python', 'train_hnn.py', '--dyn_network_type', 'LagNet', '--dyn_input_dim', '2', '--dyn_weight', '0.01', '--structure_weight', '1.0', '--max_angle', '3.141592653589793', '--ae_network_type', 'vae', '--env_name', 'pendulum', '--learn_rate', '0.001', '--vae_weight', '0.001']\n"
     ]
    },
    {
     "name": "stdout",
     "output_type": "stream",
     "text": [
      "['python', 'train_hnn.py', '--dyn_network_type', 'LagNet', '--dyn_input_dim', '4', '--dyn_weight', '0.01', '--structure_weight', '1.0', '--max_angle', '0.5235987755982988', '--ae_network_type', 'vae', '--env_name', 'pendulum', '--learn_rate', '0.001', '--vae_weight', '0.001']\n",
      "['python', 'train_hnn.py', '--dyn_network_type', 'LagNet', '--dyn_input_dim', '4', '--dyn_weight', '0.01', '--structure_weight', '1.0', '--max_angle', '1.0471975511965976', '--ae_network_type', 'vae', '--env_name', 'pendulum', '--learn_rate', '0.001', '--vae_weight', '0.001']\n",
      "['python', 'train_hnn.py', '--dyn_network_type', 'LagNet', '--dyn_input_dim', '4', '--dyn_weight', '0.01', '--structure_weight', '1.0', '--max_angle', '1.5707963267948966', '--ae_network_type', 'vae', '--env_name', 'pendulum', '--learn_rate', '0.001', '--vae_weight', '0.001']\n",
      "['python', 'train_hnn.py', '--dyn_network_type', 'LagNet', '--dyn_input_dim', '4', '--dyn_weight', '0.01', '--structure_weight', '1.0', '--max_angle', '3.141592653589793', '--ae_network_type', 'vae', '--env_name', 'pendulum', '--learn_rate', '0.001', '--vae_weight', '0.001']\n",
      "['python', 'train_hnn.py', '--dyn_network_type', 'LagNet', '--dyn_input_dim', '6', '--dyn_weight', '0.01', '--structure_weight', '1.0', '--max_angle', '0.5235987755982988', '--ae_network_type', 'vae', '--env_name', 'pendulum', '--learn_rate', '0.001', '--vae_weight', '0.001']\n",
      "['python', 'train_hnn.py', '--dyn_network_type', 'LagNet', '--dyn_input_dim', '6', '--dyn_weight', '0.01', '--structure_weight', '1.0', '--max_angle', '1.0471975511965976', '--ae_network_type', 'vae', '--env_name', 'pendulum', '--learn_rate', '0.001', '--vae_weight', '0.001']\n",
      "['python', 'train_hnn.py', '--dyn_network_type', 'LagNet', '--dyn_input_dim', '6', '--dyn_weight', '0.01', '--structure_weight', '1.0', '--max_angle', '1.5707963267948966', '--ae_network_type', 'vae', '--env_name', 'pendulum', '--learn_rate', '0.001', '--vae_weight', '0.001']\n",
      "['python', 'train_hnn.py', '--dyn_network_type', 'LagNet', '--dyn_input_dim', '6', '--dyn_weight', '0.01', '--structure_weight', '1.0', '--max_angle', '3.141592653589793', '--ae_network_type', 'vae', '--env_name', 'pendulum', '--learn_rate', '0.001', '--vae_weight', '0.001']\n",
      "['python', 'train_hnn.py', '--dyn_network_type', 'LagNet', '--dyn_input_dim', '2', '--dyn_weight', '0.01', '--structure_weight', '1.0', '--max_angle', '0.5235987755982988', '--ae_network_type', 'mlp', '--env_name', 'pendulum', '--learn_rate', '0.001', '--vae_weight', '0.001']\n",
      "['python', 'train_hnn.py', '--dyn_network_type', 'LagNet', '--dyn_input_dim', '2', '--dyn_weight', '0.01', '--structure_weight', '1.0', '--max_angle', '1.0471975511965976', '--ae_network_type', 'mlp', '--env_name', 'pendulum', '--learn_rate', '0.001', '--vae_weight', '0.001']\n",
      "['python', 'train_hnn.py', '--dyn_network_type', 'LagNet', '--dyn_input_dim', '2', '--dyn_weight', '0.01', '--structure_weight', '1.0', '--max_angle', '1.5707963267948966', '--ae_network_type', 'mlp', '--env_name', 'pendulum', '--learn_rate', '0.001', '--vae_weight', '0.001']\n",
      "['python', 'train_hnn.py', '--dyn_network_type', 'LagNet', '--dyn_input_dim', '2', '--dyn_weight', '0.01', '--structure_weight', '1.0', '--max_angle', '3.141592653589793', '--ae_network_type', 'mlp', '--env_name', 'pendulum', '--learn_rate', '0.001', '--vae_weight', '0.001']\n",
      "['python', 'train_hnn.py', '--dyn_network_type', 'LagNet', '--dyn_input_dim', '4', '--dyn_weight', '0.01', '--structure_weight', '1.0', '--max_angle', '0.5235987755982988', '--ae_network_type', 'mlp', '--env_name', 'pendulum', '--learn_rate', '0.001', '--vae_weight', '0.001']\n",
      "['python', 'train_hnn.py', '--dyn_network_type', 'LagNet', '--dyn_input_dim', '4', '--dyn_weight', '0.01', '--structure_weight', '1.0', '--max_angle', '1.0471975511965976', '--ae_network_type', 'mlp', '--env_name', 'pendulum', '--learn_rate', '0.001', '--vae_weight', '0.001']\n",
      "['python', 'train_hnn.py', '--dyn_network_type', 'LagNet', '--dyn_input_dim', '4', '--dyn_weight', '0.01', '--structure_weight', '1.0', '--max_angle', '1.5707963267948966', '--ae_network_type', 'mlp', '--env_name', 'pendulum', '--learn_rate', '0.001', '--vae_weight', '0.001']\n",
      "['python', 'train_hnn.py', '--dyn_network_type', 'LagNet', '--dyn_input_dim', '4', '--dyn_weight', '0.01', '--structure_weight', '1.0', '--max_angle', '3.141592653589793', '--ae_network_type', 'mlp', '--env_name', 'pendulum', '--learn_rate', '0.001', '--vae_weight', '0.001']\n",
      "['python', 'train_hnn.py', '--dyn_network_type', 'LagNet', '--dyn_input_dim', '6', '--dyn_weight', '0.01', '--structure_weight', '1.0', '--max_angle', '0.5235987755982988', '--ae_network_type', 'mlp', '--env_name', 'pendulum', '--learn_rate', '0.001', '--vae_weight', '0.001']\n",
      "['python', 'train_hnn.py', '--dyn_network_type', 'LagNet', '--dyn_input_dim', '6', '--dyn_weight', '0.01', '--structure_weight', '1.0', '--max_angle', '1.0471975511965976', '--ae_network_type', 'mlp', '--env_name', 'pendulum', '--learn_rate', '0.001', '--vae_weight', '0.001']\n",
      "['python', 'train_hnn.py', '--dyn_network_type', 'LagNet', '--dyn_input_dim', '6', '--dyn_weight', '0.01', '--structure_weight', '1.0', '--max_angle', '1.5707963267948966', '--ae_network_type', 'mlp', '--env_name', 'pendulum', '--learn_rate', '0.001', '--vae_weight', '0.001']\n",
      "['python', 'train_hnn.py', '--dyn_network_type', 'LagNet', '--dyn_input_dim', '6', '--dyn_weight', '0.01', '--structure_weight', '1.0', '--max_angle', '3.141592653589793', '--ae_network_type', 'mlp', '--env_name', 'pendulum', '--learn_rate', '0.001', '--vae_weight', '0.001']\n",
      "['python', 'train_hnn.py', '--dyn_network_type', 'LagNet', '--dyn_input_dim', '4', '--dyn_weight', '0.01', '--structure_weight', '1.0', '--max_angle', '0.5235987755982988', '--ae_network_type', 'vae', '--env_name', 'acrobot', '--learn_rate', '0.001', '--vae_weight', '0.001']\n",
      "['python', 'train_hnn.py', '--dyn_network_type', 'LagNet', '--dyn_input_dim', '6', '--dyn_weight', '0.01', '--structure_weight', '1.0', '--max_angle', '0.5235987755982988', '--ae_network_type', 'vae', '--env_name', 'acrobot', '--learn_rate', '0.001', '--vae_weight', '0.001']\n",
      "['python', 'train_hnn.py', '--dyn_network_type', 'LagNet', '--dyn_input_dim', '4', '--dyn_weight', '0.01', '--structure_weight', '1.0', '--max_angle', '0.5235987755982988', '--ae_network_type', 'mlp', '--env_name', 'acrobot', '--learn_rate', '0.001', '--vae_weight', '0.001']\n",
      "['python', 'train_hnn.py', '--dyn_network_type', 'LagNet', '--dyn_input_dim', '6', '--dyn_weight', '0.01', '--structure_weight', '1.0', '--max_angle', '0.5235987755982988', '--ae_network_type', 'mlp', '--env_name', 'acrobot', '--learn_rate', '0.001', '--vae_weight', '0.001']\n",
      "['python', 'train_hnn.py', '--dyn_network_type', 'LagNet', '--dyn_input_dim', '2', '--dyn_weight', '1.0', '--structure_weight', '1.0', '--max_angle', '0.5235987755982988', '--ae_network_type', 'vae', '--env_name', 'pendulum', '--learn_rate', '0.0001', '--vae_weight', '0.001']\n",
      "['python', 'train_hnn.py', '--dyn_network_type', 'LagNet', '--dyn_input_dim', '2', '--dyn_weight', '1.0', '--structure_weight', '1.0', '--max_angle', '1.0471975511965976', '--ae_network_type', 'vae', '--env_name', 'pendulum', '--learn_rate', '0.0001', '--vae_weight', '0.001']\n",
      "['python', 'train_hnn.py', '--dyn_network_type', 'LagNet', '--dyn_input_dim', '2', '--dyn_weight', '1.0', '--structure_weight', '1.0', '--max_angle', '1.5707963267948966', '--ae_network_type', 'vae', '--env_name', 'pendulum', '--learn_rate', '0.0001', '--vae_weight', '0.001']\n",
      "['python', 'train_hnn.py', '--dyn_network_type', 'LagNet', '--dyn_input_dim', '2', '--dyn_weight', '1.0', '--structure_weight', '1.0', '--max_angle', '3.141592653589793', '--ae_network_type', 'vae', '--env_name', 'pendulum', '--learn_rate', '0.0001', '--vae_weight', '0.001']\n",
      "['python', 'train_hnn.py', '--dyn_network_type', 'LagNet', '--dyn_input_dim', '4', '--dyn_weight', '1.0', '--structure_weight', '1.0', '--max_angle', '0.5235987755982988', '--ae_network_type', 'vae', '--env_name', 'pendulum', '--learn_rate', '0.0001', '--vae_weight', '0.001']\n",
      "['python', 'train_hnn.py', '--dyn_network_type', 'LagNet', '--dyn_input_dim', '4', '--dyn_weight', '1.0', '--structure_weight', '1.0', '--max_angle', '1.0471975511965976', '--ae_network_type', 'vae', '--env_name', 'pendulum', '--learn_rate', '0.0001', '--vae_weight', '0.001']\n"
     ]
    },
    {
     "name": "stdout",
     "output_type": "stream",
     "text": [
      "['python', 'train_hnn.py', '--dyn_network_type', 'LagNet', '--dyn_input_dim', '4', '--dyn_weight', '1.0', '--structure_weight', '1.0', '--max_angle', '1.5707963267948966', '--ae_network_type', 'vae', '--env_name', 'pendulum', '--learn_rate', '0.0001', '--vae_weight', '0.001']\n",
      "['python', 'train_hnn.py', '--dyn_network_type', 'LagNet', '--dyn_input_dim', '4', '--dyn_weight', '1.0', '--structure_weight', '1.0', '--max_angle', '3.141592653589793', '--ae_network_type', 'vae', '--env_name', 'pendulum', '--learn_rate', '0.0001', '--vae_weight', '0.001']\n",
      "['python', 'train_hnn.py', '--dyn_network_type', 'LagNet', '--dyn_input_dim', '6', '--dyn_weight', '1.0', '--structure_weight', '1.0', '--max_angle', '0.5235987755982988', '--ae_network_type', 'vae', '--env_name', 'pendulum', '--learn_rate', '0.0001', '--vae_weight', '0.001']\n",
      "['python', 'train_hnn.py', '--dyn_network_type', 'LagNet', '--dyn_input_dim', '6', '--dyn_weight', '1.0', '--structure_weight', '1.0', '--max_angle', '1.0471975511965976', '--ae_network_type', 'vae', '--env_name', 'pendulum', '--learn_rate', '0.0001', '--vae_weight', '0.001']\n",
      "['python', 'train_hnn.py', '--dyn_network_type', 'LagNet', '--dyn_input_dim', '6', '--dyn_weight', '1.0', '--structure_weight', '1.0', '--max_angle', '1.5707963267948966', '--ae_network_type', 'vae', '--env_name', 'pendulum', '--learn_rate', '0.0001', '--vae_weight', '0.001']\n",
      "['python', 'train_hnn.py', '--dyn_network_type', 'LagNet', '--dyn_input_dim', '6', '--dyn_weight', '1.0', '--structure_weight', '1.0', '--max_angle', '3.141592653589793', '--ae_network_type', 'vae', '--env_name', 'pendulum', '--learn_rate', '0.0001', '--vae_weight', '0.001']\n",
      "['python', 'train_hnn.py', '--dyn_network_type', 'LagNet', '--dyn_input_dim', '2', '--dyn_weight', '1.0', '--structure_weight', '1.0', '--max_angle', '0.5235987755982988', '--ae_network_type', 'mlp', '--env_name', 'pendulum', '--learn_rate', '0.0001', '--vae_weight', '0.001']\n",
      "['python', 'train_hnn.py', '--dyn_network_type', 'LagNet', '--dyn_input_dim', '2', '--dyn_weight', '1.0', '--structure_weight', '1.0', '--max_angle', '1.0471975511965976', '--ae_network_type', 'mlp', '--env_name', 'pendulum', '--learn_rate', '0.0001', '--vae_weight', '0.001']\n",
      "['python', 'train_hnn.py', '--dyn_network_type', 'LagNet', '--dyn_input_dim', '2', '--dyn_weight', '1.0', '--structure_weight', '1.0', '--max_angle', '1.5707963267948966', '--ae_network_type', 'mlp', '--env_name', 'pendulum', '--learn_rate', '0.0001', '--vae_weight', '0.001']\n",
      "['python', 'train_hnn.py', '--dyn_network_type', 'LagNet', '--dyn_input_dim', '2', '--dyn_weight', '1.0', '--structure_weight', '1.0', '--max_angle', '3.141592653589793', '--ae_network_type', 'mlp', '--env_name', 'pendulum', '--learn_rate', '0.0001', '--vae_weight', '0.001']\n",
      "['python', 'train_hnn.py', '--dyn_network_type', 'LagNet', '--dyn_input_dim', '4', '--dyn_weight', '1.0', '--structure_weight', '1.0', '--max_angle', '0.5235987755982988', '--ae_network_type', 'mlp', '--env_name', 'pendulum', '--learn_rate', '0.0001', '--vae_weight', '0.001']\n",
      "['python', 'train_hnn.py', '--dyn_network_type', 'LagNet', '--dyn_input_dim', '4', '--dyn_weight', '1.0', '--structure_weight', '1.0', '--max_angle', '1.0471975511965976', '--ae_network_type', 'mlp', '--env_name', 'pendulum', '--learn_rate', '0.0001', '--vae_weight', '0.001']\n",
      "['python', 'train_hnn.py', '--dyn_network_type', 'LagNet', '--dyn_input_dim', '4', '--dyn_weight', '1.0', '--structure_weight', '1.0', '--max_angle', '1.5707963267948966', '--ae_network_type', 'mlp', '--env_name', 'pendulum', '--learn_rate', '0.0001', '--vae_weight', '0.001']\n",
      "['python', 'train_hnn.py', '--dyn_network_type', 'LagNet', '--dyn_input_dim', '4', '--dyn_weight', '1.0', '--structure_weight', '1.0', '--max_angle', '3.141592653589793', '--ae_network_type', 'mlp', '--env_name', 'pendulum', '--learn_rate', '0.0001', '--vae_weight', '0.001']\n",
      "['python', 'train_hnn.py', '--dyn_network_type', 'LagNet', '--dyn_input_dim', '6', '--dyn_weight', '1.0', '--structure_weight', '1.0', '--max_angle', '0.5235987755982988', '--ae_network_type', 'mlp', '--env_name', 'pendulum', '--learn_rate', '0.0001', '--vae_weight', '0.001']\n",
      "['python', 'train_hnn.py', '--dyn_network_type', 'LagNet', '--dyn_input_dim', '6', '--dyn_weight', '1.0', '--structure_weight', '1.0', '--max_angle', '1.0471975511965976', '--ae_network_type', 'mlp', '--env_name', 'pendulum', '--learn_rate', '0.0001', '--vae_weight', '0.001']\n",
      "['python', 'train_hnn.py', '--dyn_network_type', 'LagNet', '--dyn_input_dim', '6', '--dyn_weight', '1.0', '--structure_weight', '1.0', '--max_angle', '1.5707963267948966', '--ae_network_type', 'mlp', '--env_name', 'pendulum', '--learn_rate', '0.0001', '--vae_weight', '0.001']\n",
      "['python', 'train_hnn.py', '--dyn_network_type', 'LagNet', '--dyn_input_dim', '6', '--dyn_weight', '1.0', '--structure_weight', '1.0', '--max_angle', '3.141592653589793', '--ae_network_type', 'mlp', '--env_name', 'pendulum', '--learn_rate', '0.0001', '--vae_weight', '0.001']\n",
      "['python', 'train_hnn.py', '--dyn_network_type', 'LagNet', '--dyn_input_dim', '4', '--dyn_weight', '1.0', '--structure_weight', '1.0', '--max_angle', '0.5235987755982988', '--ae_network_type', 'vae', '--env_name', 'acrobot', '--learn_rate', '0.0001', '--vae_weight', '0.001']\n",
      "['python', 'train_hnn.py', '--dyn_network_type', 'LagNet', '--dyn_input_dim', '6', '--dyn_weight', '1.0', '--structure_weight', '1.0', '--max_angle', '0.5235987755982988', '--ae_network_type', 'vae', '--env_name', 'acrobot', '--learn_rate', '0.0001', '--vae_weight', '0.001']\n",
      "['python', 'train_hnn.py', '--dyn_network_type', 'LagNet', '--dyn_input_dim', '4', '--dyn_weight', '1.0', '--structure_weight', '1.0', '--max_angle', '0.5235987755982988', '--ae_network_type', 'mlp', '--env_name', 'acrobot', '--learn_rate', '0.0001', '--vae_weight', '0.001']\n",
      "['python', 'train_hnn.py', '--dyn_network_type', 'LagNet', '--dyn_input_dim', '6', '--dyn_weight', '1.0', '--structure_weight', '1.0', '--max_angle', '0.5235987755982988', '--ae_network_type', 'mlp', '--env_name', 'acrobot', '--learn_rate', '0.0001', '--vae_weight', '0.001']\n",
      "['python', 'train_hnn.py', '--dyn_network_type', 'LagNet', '--dyn_input_dim', '2', '--dyn_weight', '0.1', '--structure_weight', '1.0', '--max_angle', '0.5235987755982988', '--ae_network_type', 'vae', '--env_name', 'pendulum', '--learn_rate', '0.0001', '--vae_weight', '0.001']\n",
      "['python', 'train_hnn.py', '--dyn_network_type', 'LagNet', '--dyn_input_dim', '2', '--dyn_weight', '0.1', '--structure_weight', '1.0', '--max_angle', '1.0471975511965976', '--ae_network_type', 'vae', '--env_name', 'pendulum', '--learn_rate', '0.0001', '--vae_weight', '0.001']\n",
      "['python', 'train_hnn.py', '--dyn_network_type', 'LagNet', '--dyn_input_dim', '2', '--dyn_weight', '0.1', '--structure_weight', '1.0', '--max_angle', '1.5707963267948966', '--ae_network_type', 'vae', '--env_name', 'pendulum', '--learn_rate', '0.0001', '--vae_weight', '0.001']\n",
      "['python', 'train_hnn.py', '--dyn_network_type', 'LagNet', '--dyn_input_dim', '2', '--dyn_weight', '0.1', '--structure_weight', '1.0', '--max_angle', '3.141592653589793', '--ae_network_type', 'vae', '--env_name', 'pendulum', '--learn_rate', '0.0001', '--vae_weight', '0.001']\n",
      "['python', 'train_hnn.py', '--dyn_network_type', 'LagNet', '--dyn_input_dim', '4', '--dyn_weight', '0.1', '--structure_weight', '1.0', '--max_angle', '0.5235987755982988', '--ae_network_type', 'vae', '--env_name', 'pendulum', '--learn_rate', '0.0001', '--vae_weight', '0.001']\n",
      "['python', 'train_hnn.py', '--dyn_network_type', 'LagNet', '--dyn_input_dim', '4', '--dyn_weight', '0.1', '--structure_weight', '1.0', '--max_angle', '1.0471975511965976', '--ae_network_type', 'vae', '--env_name', 'pendulum', '--learn_rate', '0.0001', '--vae_weight', '0.001']\n",
      "['python', 'train_hnn.py', '--dyn_network_type', 'LagNet', '--dyn_input_dim', '4', '--dyn_weight', '0.1', '--structure_weight', '1.0', '--max_angle', '1.5707963267948966', '--ae_network_type', 'vae', '--env_name', 'pendulum', '--learn_rate', '0.0001', '--vae_weight', '0.001']\n",
      "['python', 'train_hnn.py', '--dyn_network_type', 'LagNet', '--dyn_input_dim', '4', '--dyn_weight', '0.1', '--structure_weight', '1.0', '--max_angle', '3.141592653589793', '--ae_network_type', 'vae', '--env_name', 'pendulum', '--learn_rate', '0.0001', '--vae_weight', '0.001']\n"
     ]
    },
    {
     "name": "stdout",
     "output_type": "stream",
     "text": [
      "['python', 'train_hnn.py', '--dyn_network_type', 'LagNet', '--dyn_input_dim', '6', '--dyn_weight', '0.1', '--structure_weight', '1.0', '--max_angle', '0.5235987755982988', '--ae_network_type', 'vae', '--env_name', 'pendulum', '--learn_rate', '0.0001', '--vae_weight', '0.001']\n",
      "['python', 'train_hnn.py', '--dyn_network_type', 'LagNet', '--dyn_input_dim', '6', '--dyn_weight', '0.1', '--structure_weight', '1.0', '--max_angle', '1.0471975511965976', '--ae_network_type', 'vae', '--env_name', 'pendulum', '--learn_rate', '0.0001', '--vae_weight', '0.001']\n",
      "['python', 'train_hnn.py', '--dyn_network_type', 'LagNet', '--dyn_input_dim', '6', '--dyn_weight', '0.1', '--structure_weight', '1.0', '--max_angle', '1.5707963267948966', '--ae_network_type', 'vae', '--env_name', 'pendulum', '--learn_rate', '0.0001', '--vae_weight', '0.001']\n",
      "['python', 'train_hnn.py', '--dyn_network_type', 'LagNet', '--dyn_input_dim', '6', '--dyn_weight', '0.1', '--structure_weight', '1.0', '--max_angle', '3.141592653589793', '--ae_network_type', 'vae', '--env_name', 'pendulum', '--learn_rate', '0.0001', '--vae_weight', '0.001']\n",
      "['python', 'train_hnn.py', '--dyn_network_type', 'LagNet', '--dyn_input_dim', '2', '--dyn_weight', '0.1', '--structure_weight', '1.0', '--max_angle', '0.5235987755982988', '--ae_network_type', 'mlp', '--env_name', 'pendulum', '--learn_rate', '0.0001', '--vae_weight', '0.001']\n",
      "['python', 'train_hnn.py', '--dyn_network_type', 'LagNet', '--dyn_input_dim', '2', '--dyn_weight', '0.1', '--structure_weight', '1.0', '--max_angle', '1.0471975511965976', '--ae_network_type', 'mlp', '--env_name', 'pendulum', '--learn_rate', '0.0001', '--vae_weight', '0.001']\n",
      "['python', 'train_hnn.py', '--dyn_network_type', 'LagNet', '--dyn_input_dim', '2', '--dyn_weight', '0.1', '--structure_weight', '1.0', '--max_angle', '1.5707963267948966', '--ae_network_type', 'mlp', '--env_name', 'pendulum', '--learn_rate', '0.0001', '--vae_weight', '0.001']\n",
      "['python', 'train_hnn.py', '--dyn_network_type', 'LagNet', '--dyn_input_dim', '2', '--dyn_weight', '0.1', '--structure_weight', '1.0', '--max_angle', '3.141592653589793', '--ae_network_type', 'mlp', '--env_name', 'pendulum', '--learn_rate', '0.0001', '--vae_weight', '0.001']\n",
      "['python', 'train_hnn.py', '--dyn_network_type', 'LagNet', '--dyn_input_dim', '4', '--dyn_weight', '0.1', '--structure_weight', '1.0', '--max_angle', '0.5235987755982988', '--ae_network_type', 'mlp', '--env_name', 'pendulum', '--learn_rate', '0.0001', '--vae_weight', '0.001']\n",
      "['python', 'train_hnn.py', '--dyn_network_type', 'LagNet', '--dyn_input_dim', '4', '--dyn_weight', '0.1', '--structure_weight', '1.0', '--max_angle', '1.0471975511965976', '--ae_network_type', 'mlp', '--env_name', 'pendulum', '--learn_rate', '0.0001', '--vae_weight', '0.001']\n",
      "['python', 'train_hnn.py', '--dyn_network_type', 'LagNet', '--dyn_input_dim', '4', '--dyn_weight', '0.1', '--structure_weight', '1.0', '--max_angle', '1.5707963267948966', '--ae_network_type', 'mlp', '--env_name', 'pendulum', '--learn_rate', '0.0001', '--vae_weight', '0.001']\n",
      "['python', 'train_hnn.py', '--dyn_network_type', 'LagNet', '--dyn_input_dim', '4', '--dyn_weight', '0.1', '--structure_weight', '1.0', '--max_angle', '3.141592653589793', '--ae_network_type', 'mlp', '--env_name', 'pendulum', '--learn_rate', '0.0001', '--vae_weight', '0.001']\n",
      "['python', 'train_hnn.py', '--dyn_network_type', 'LagNet', '--dyn_input_dim', '6', '--dyn_weight', '0.1', '--structure_weight', '1.0', '--max_angle', '0.5235987755982988', '--ae_network_type', 'mlp', '--env_name', 'pendulum', '--learn_rate', '0.0001', '--vae_weight', '0.001']\n",
      "['python', 'train_hnn.py', '--dyn_network_type', 'LagNet', '--dyn_input_dim', '6', '--dyn_weight', '0.1', '--structure_weight', '1.0', '--max_angle', '1.0471975511965976', '--ae_network_type', 'mlp', '--env_name', 'pendulum', '--learn_rate', '0.0001', '--vae_weight', '0.001']\n",
      "['python', 'train_hnn.py', '--dyn_network_type', 'LagNet', '--dyn_input_dim', '6', '--dyn_weight', '0.1', '--structure_weight', '1.0', '--max_angle', '1.5707963267948966', '--ae_network_type', 'mlp', '--env_name', 'pendulum', '--learn_rate', '0.0001', '--vae_weight', '0.001']\n",
      "['python', 'train_hnn.py', '--dyn_network_type', 'LagNet', '--dyn_input_dim', '6', '--dyn_weight', '0.1', '--structure_weight', '1.0', '--max_angle', '3.141592653589793', '--ae_network_type', 'mlp', '--env_name', 'pendulum', '--learn_rate', '0.0001', '--vae_weight', '0.001']\n",
      "['python', 'train_hnn.py', '--dyn_network_type', 'LagNet', '--dyn_input_dim', '4', '--dyn_weight', '0.1', '--structure_weight', '1.0', '--max_angle', '0.5235987755982988', '--ae_network_type', 'vae', '--env_name', 'acrobot', '--learn_rate', '0.0001', '--vae_weight', '0.001']\n",
      "['python', 'train_hnn.py', '--dyn_network_type', 'LagNet', '--dyn_input_dim', '6', '--dyn_weight', '0.1', '--structure_weight', '1.0', '--max_angle', '0.5235987755982988', '--ae_network_type', 'vae', '--env_name', 'acrobot', '--learn_rate', '0.0001', '--vae_weight', '0.001']\n",
      "['python', 'train_hnn.py', '--dyn_network_type', 'LagNet', '--dyn_input_dim', '4', '--dyn_weight', '0.1', '--structure_weight', '1.0', '--max_angle', '0.5235987755982988', '--ae_network_type', 'mlp', '--env_name', 'acrobot', '--learn_rate', '0.0001', '--vae_weight', '0.001']\n",
      "['python', 'train_hnn.py', '--dyn_network_type', 'LagNet', '--dyn_input_dim', '6', '--dyn_weight', '0.1', '--structure_weight', '1.0', '--max_angle', '0.5235987755982988', '--ae_network_type', 'mlp', '--env_name', 'acrobot', '--learn_rate', '0.0001', '--vae_weight', '0.001']\n",
      "['python', 'train_hnn.py', '--dyn_network_type', 'LagNet', '--dyn_input_dim', '2', '--dyn_weight', '0.01', '--structure_weight', '1.0', '--max_angle', '0.5235987755982988', '--ae_network_type', 'vae', '--env_name', 'pendulum', '--learn_rate', '0.0001', '--vae_weight', '0.001']\n",
      "['python', 'train_hnn.py', '--dyn_network_type', 'LagNet', '--dyn_input_dim', '2', '--dyn_weight', '0.01', '--structure_weight', '1.0', '--max_angle', '1.0471975511965976', '--ae_network_type', 'vae', '--env_name', 'pendulum', '--learn_rate', '0.0001', '--vae_weight', '0.001']\n",
      "['python', 'train_hnn.py', '--dyn_network_type', 'LagNet', '--dyn_input_dim', '2', '--dyn_weight', '0.01', '--structure_weight', '1.0', '--max_angle', '1.5707963267948966', '--ae_network_type', 'vae', '--env_name', 'pendulum', '--learn_rate', '0.0001', '--vae_weight', '0.001']\n",
      "['python', 'train_hnn.py', '--dyn_network_type', 'LagNet', '--dyn_input_dim', '2', '--dyn_weight', '0.01', '--structure_weight', '1.0', '--max_angle', '3.141592653589793', '--ae_network_type', 'vae', '--env_name', 'pendulum', '--learn_rate', '0.0001', '--vae_weight', '0.001']\n",
      "['python', 'train_hnn.py', '--dyn_network_type', 'LagNet', '--dyn_input_dim', '4', '--dyn_weight', '0.01', '--structure_weight', '1.0', '--max_angle', '0.5235987755982988', '--ae_network_type', 'vae', '--env_name', 'pendulum', '--learn_rate', '0.0001', '--vae_weight', '0.001']\n",
      "['python', 'train_hnn.py', '--dyn_network_type', 'LagNet', '--dyn_input_dim', '4', '--dyn_weight', '0.01', '--structure_weight', '1.0', '--max_angle', '1.0471975511965976', '--ae_network_type', 'vae', '--env_name', 'pendulum', '--learn_rate', '0.0001', '--vae_weight', '0.001']\n",
      "['python', 'train_hnn.py', '--dyn_network_type', 'LagNet', '--dyn_input_dim', '4', '--dyn_weight', '0.01', '--structure_weight', '1.0', '--max_angle', '1.5707963267948966', '--ae_network_type', 'vae', '--env_name', 'pendulum', '--learn_rate', '0.0001', '--vae_weight', '0.001']\n",
      "['python', 'train_hnn.py', '--dyn_network_type', 'LagNet', '--dyn_input_dim', '4', '--dyn_weight', '0.01', '--structure_weight', '1.0', '--max_angle', '3.141592653589793', '--ae_network_type', 'vae', '--env_name', 'pendulum', '--learn_rate', '0.0001', '--vae_weight', '0.001']\n",
      "['python', 'train_hnn.py', '--dyn_network_type', 'LagNet', '--dyn_input_dim', '6', '--dyn_weight', '0.01', '--structure_weight', '1.0', '--max_angle', '0.5235987755982988', '--ae_network_type', 'vae', '--env_name', 'pendulum', '--learn_rate', '0.0001', '--vae_weight', '0.001']\n",
      "['python', 'train_hnn.py', '--dyn_network_type', 'LagNet', '--dyn_input_dim', '6', '--dyn_weight', '0.01', '--structure_weight', '1.0', '--max_angle', '1.0471975511965976', '--ae_network_type', 'vae', '--env_name', 'pendulum', '--learn_rate', '0.0001', '--vae_weight', '0.001']\n"
     ]
    },
    {
     "name": "stdout",
     "output_type": "stream",
     "text": [
      "['python', 'train_hnn.py', '--dyn_network_type', 'LagNet', '--dyn_input_dim', '6', '--dyn_weight', '0.01', '--structure_weight', '1.0', '--max_angle', '1.5707963267948966', '--ae_network_type', 'vae', '--env_name', 'pendulum', '--learn_rate', '0.0001', '--vae_weight', '0.001']\n",
      "['python', 'train_hnn.py', '--dyn_network_type', 'LagNet', '--dyn_input_dim', '6', '--dyn_weight', '0.01', '--structure_weight', '1.0', '--max_angle', '3.141592653589793', '--ae_network_type', 'vae', '--env_name', 'pendulum', '--learn_rate', '0.0001', '--vae_weight', '0.001']\n",
      "['python', 'train_hnn.py', '--dyn_network_type', 'LagNet', '--dyn_input_dim', '2', '--dyn_weight', '0.01', '--structure_weight', '1.0', '--max_angle', '0.5235987755982988', '--ae_network_type', 'mlp', '--env_name', 'pendulum', '--learn_rate', '0.0001', '--vae_weight', '0.001']\n",
      "['python', 'train_hnn.py', '--dyn_network_type', 'LagNet', '--dyn_input_dim', '2', '--dyn_weight', '0.01', '--structure_weight', '1.0', '--max_angle', '1.0471975511965976', '--ae_network_type', 'mlp', '--env_name', 'pendulum', '--learn_rate', '0.0001', '--vae_weight', '0.001']\n",
      "['python', 'train_hnn.py', '--dyn_network_type', 'LagNet', '--dyn_input_dim', '2', '--dyn_weight', '0.01', '--structure_weight', '1.0', '--max_angle', '1.5707963267948966', '--ae_network_type', 'mlp', '--env_name', 'pendulum', '--learn_rate', '0.0001', '--vae_weight', '0.001']\n",
      "['python', 'train_hnn.py', '--dyn_network_type', 'LagNet', '--dyn_input_dim', '2', '--dyn_weight', '0.01', '--structure_weight', '1.0', '--max_angle', '3.141592653589793', '--ae_network_type', 'mlp', '--env_name', 'pendulum', '--learn_rate', '0.0001', '--vae_weight', '0.001']\n",
      "['python', 'train_hnn.py', '--dyn_network_type', 'LagNet', '--dyn_input_dim', '4', '--dyn_weight', '0.01', '--structure_weight', '1.0', '--max_angle', '0.5235987755982988', '--ae_network_type', 'mlp', '--env_name', 'pendulum', '--learn_rate', '0.0001', '--vae_weight', '0.001']\n",
      "['python', 'train_hnn.py', '--dyn_network_type', 'LagNet', '--dyn_input_dim', '4', '--dyn_weight', '0.01', '--structure_weight', '1.0', '--max_angle', '1.0471975511965976', '--ae_network_type', 'mlp', '--env_name', 'pendulum', '--learn_rate', '0.0001', '--vae_weight', '0.001']\n",
      "['python', 'train_hnn.py', '--dyn_network_type', 'LagNet', '--dyn_input_dim', '4', '--dyn_weight', '0.01', '--structure_weight', '1.0', '--max_angle', '1.5707963267948966', '--ae_network_type', 'mlp', '--env_name', 'pendulum', '--learn_rate', '0.0001', '--vae_weight', '0.001']\n",
      "['python', 'train_hnn.py', '--dyn_network_type', 'LagNet', '--dyn_input_dim', '4', '--dyn_weight', '0.01', '--structure_weight', '1.0', '--max_angle', '3.141592653589793', '--ae_network_type', 'mlp', '--env_name', 'pendulum', '--learn_rate', '0.0001', '--vae_weight', '0.001']\n",
      "['python', 'train_hnn.py', '--dyn_network_type', 'LagNet', '--dyn_input_dim', '6', '--dyn_weight', '0.01', '--structure_weight', '1.0', '--max_angle', '0.5235987755982988', '--ae_network_type', 'mlp', '--env_name', 'pendulum', '--learn_rate', '0.0001', '--vae_weight', '0.001']\n",
      "['python', 'train_hnn.py', '--dyn_network_type', 'LagNet', '--dyn_input_dim', '6', '--dyn_weight', '0.01', '--structure_weight', '1.0', '--max_angle', '1.0471975511965976', '--ae_network_type', 'mlp', '--env_name', 'pendulum', '--learn_rate', '0.0001', '--vae_weight', '0.001']\n",
      "['python', 'train_hnn.py', '--dyn_network_type', 'LagNet', '--dyn_input_dim', '6', '--dyn_weight', '0.01', '--structure_weight', '1.0', '--max_angle', '1.5707963267948966', '--ae_network_type', 'mlp', '--env_name', 'pendulum', '--learn_rate', '0.0001', '--vae_weight', '0.001']\n",
      "['python', 'train_hnn.py', '--dyn_network_type', 'LagNet', '--dyn_input_dim', '6', '--dyn_weight', '0.01', '--structure_weight', '1.0', '--max_angle', '3.141592653589793', '--ae_network_type', 'mlp', '--env_name', 'pendulum', '--learn_rate', '0.0001', '--vae_weight', '0.001']\n",
      "['python', 'train_hnn.py', '--dyn_network_type', 'LagNet', '--dyn_input_dim', '4', '--dyn_weight', '0.01', '--structure_weight', '1.0', '--max_angle', '0.5235987755982988', '--ae_network_type', 'vae', '--env_name', 'acrobot', '--learn_rate', '0.0001', '--vae_weight', '0.001']\n",
      "['python', 'train_hnn.py', '--dyn_network_type', 'LagNet', '--dyn_input_dim', '6', '--dyn_weight', '0.01', '--structure_weight', '1.0', '--max_angle', '0.5235987755982988', '--ae_network_type', 'vae', '--env_name', 'acrobot', '--learn_rate', '0.0001', '--vae_weight', '0.001']\n",
      "['python', 'train_hnn.py', '--dyn_network_type', 'LagNet', '--dyn_input_dim', '4', '--dyn_weight', '0.01', '--structure_weight', '1.0', '--max_angle', '0.5235987755982988', '--ae_network_type', 'mlp', '--env_name', 'acrobot', '--learn_rate', '0.0001', '--vae_weight', '0.001']\n",
      "['python', 'train_hnn.py', '--dyn_network_type', 'LagNet', '--dyn_input_dim', '6', '--dyn_weight', '0.01', '--structure_weight', '1.0', '--max_angle', '0.5235987755982988', '--ae_network_type', 'mlp', '--env_name', 'acrobot', '--learn_rate', '0.0001', '--vae_weight', '0.001']\n",
      "['python', 'train_hnn.py', '--dyn_network_type', 'LagNet', '--dyn_input_dim', '2', '--dyn_weight', '1.0', '--structure_weight', '1.0', '--max_angle', '0.5235987755982988', '--ae_network_type', 'vae', '--env_name', 'pendulum', '--learn_rate', '1e-05', '--vae_weight', '0.001']\n",
      "['python', 'train_hnn.py', '--dyn_network_type', 'LagNet', '--dyn_input_dim', '2', '--dyn_weight', '1.0', '--structure_weight', '1.0', '--max_angle', '1.0471975511965976', '--ae_network_type', 'vae', '--env_name', 'pendulum', '--learn_rate', '1e-05', '--vae_weight', '0.001']\n",
      "['python', 'train_hnn.py', '--dyn_network_type', 'LagNet', '--dyn_input_dim', '2', '--dyn_weight', '1.0', '--structure_weight', '1.0', '--max_angle', '1.5707963267948966', '--ae_network_type', 'vae', '--env_name', 'pendulum', '--learn_rate', '1e-05', '--vae_weight', '0.001']\n",
      "['python', 'train_hnn.py', '--dyn_network_type', 'LagNet', '--dyn_input_dim', '2', '--dyn_weight', '1.0', '--structure_weight', '1.0', '--max_angle', '3.141592653589793', '--ae_network_type', 'vae', '--env_name', 'pendulum', '--learn_rate', '1e-05', '--vae_weight', '0.001']\n",
      "['python', 'train_hnn.py', '--dyn_network_type', 'LagNet', '--dyn_input_dim', '4', '--dyn_weight', '1.0', '--structure_weight', '1.0', '--max_angle', '0.5235987755982988', '--ae_network_type', 'vae', '--env_name', 'pendulum', '--learn_rate', '1e-05', '--vae_weight', '0.001']\n",
      "['python', 'train_hnn.py', '--dyn_network_type', 'LagNet', '--dyn_input_dim', '4', '--dyn_weight', '1.0', '--structure_weight', '1.0', '--max_angle', '1.0471975511965976', '--ae_network_type', 'vae', '--env_name', 'pendulum', '--learn_rate', '1e-05', '--vae_weight', '0.001']\n",
      "['python', 'train_hnn.py', '--dyn_network_type', 'LagNet', '--dyn_input_dim', '4', '--dyn_weight', '1.0', '--structure_weight', '1.0', '--max_angle', '1.5707963267948966', '--ae_network_type', 'vae', '--env_name', 'pendulum', '--learn_rate', '1e-05', '--vae_weight', '0.001']\n",
      "['python', 'train_hnn.py', '--dyn_network_type', 'LagNet', '--dyn_input_dim', '4', '--dyn_weight', '1.0', '--structure_weight', '1.0', '--max_angle', '3.141592653589793', '--ae_network_type', 'vae', '--env_name', 'pendulum', '--learn_rate', '1e-05', '--vae_weight', '0.001']\n",
      "['python', 'train_hnn.py', '--dyn_network_type', 'LagNet', '--dyn_input_dim', '6', '--dyn_weight', '1.0', '--structure_weight', '1.0', '--max_angle', '0.5235987755982988', '--ae_network_type', 'vae', '--env_name', 'pendulum', '--learn_rate', '1e-05', '--vae_weight', '0.001']\n",
      "['python', 'train_hnn.py', '--dyn_network_type', 'LagNet', '--dyn_input_dim', '6', '--dyn_weight', '1.0', '--structure_weight', '1.0', '--max_angle', '1.0471975511965976', '--ae_network_type', 'vae', '--env_name', 'pendulum', '--learn_rate', '1e-05', '--vae_weight', '0.001']\n",
      "['python', 'train_hnn.py', '--dyn_network_type', 'LagNet', '--dyn_input_dim', '6', '--dyn_weight', '1.0', '--structure_weight', '1.0', '--max_angle', '1.5707963267948966', '--ae_network_type', 'vae', '--env_name', 'pendulum', '--learn_rate', '1e-05', '--vae_weight', '0.001']\n",
      "['python', 'train_hnn.py', '--dyn_network_type', 'LagNet', '--dyn_input_dim', '6', '--dyn_weight', '1.0', '--structure_weight', '1.0', '--max_angle', '3.141592653589793', '--ae_network_type', 'vae', '--env_name', 'pendulum', '--learn_rate', '1e-05', '--vae_weight', '0.001']\n"
     ]
    },
    {
     "name": "stdout",
     "output_type": "stream",
     "text": [
      "['python', 'train_hnn.py', '--dyn_network_type', 'LagNet', '--dyn_input_dim', '2', '--dyn_weight', '1.0', '--structure_weight', '1.0', '--max_angle', '0.5235987755982988', '--ae_network_type', 'mlp', '--env_name', 'pendulum', '--learn_rate', '1e-05', '--vae_weight', '0.001']\n",
      "['python', 'train_hnn.py', '--dyn_network_type', 'LagNet', '--dyn_input_dim', '2', '--dyn_weight', '1.0', '--structure_weight', '1.0', '--max_angle', '1.0471975511965976', '--ae_network_type', 'mlp', '--env_name', 'pendulum', '--learn_rate', '1e-05', '--vae_weight', '0.001']\n",
      "['python', 'train_hnn.py', '--dyn_network_type', 'LagNet', '--dyn_input_dim', '2', '--dyn_weight', '1.0', '--structure_weight', '1.0', '--max_angle', '1.5707963267948966', '--ae_network_type', 'mlp', '--env_name', 'pendulum', '--learn_rate', '1e-05', '--vae_weight', '0.001']\n",
      "['python', 'train_hnn.py', '--dyn_network_type', 'LagNet', '--dyn_input_dim', '2', '--dyn_weight', '1.0', '--structure_weight', '1.0', '--max_angle', '3.141592653589793', '--ae_network_type', 'mlp', '--env_name', 'pendulum', '--learn_rate', '1e-05', '--vae_weight', '0.001']\n",
      "['python', 'train_hnn.py', '--dyn_network_type', 'LagNet', '--dyn_input_dim', '4', '--dyn_weight', '1.0', '--structure_weight', '1.0', '--max_angle', '0.5235987755982988', '--ae_network_type', 'mlp', '--env_name', 'pendulum', '--learn_rate', '1e-05', '--vae_weight', '0.001']\n",
      "['python', 'train_hnn.py', '--dyn_network_type', 'LagNet', '--dyn_input_dim', '4', '--dyn_weight', '1.0', '--structure_weight', '1.0', '--max_angle', '1.0471975511965976', '--ae_network_type', 'mlp', '--env_name', 'pendulum', '--learn_rate', '1e-05', '--vae_weight', '0.001']\n",
      "['python', 'train_hnn.py', '--dyn_network_type', 'LagNet', '--dyn_input_dim', '4', '--dyn_weight', '1.0', '--structure_weight', '1.0', '--max_angle', '1.5707963267948966', '--ae_network_type', 'mlp', '--env_name', 'pendulum', '--learn_rate', '1e-05', '--vae_weight', '0.001']\n",
      "['python', 'train_hnn.py', '--dyn_network_type', 'LagNet', '--dyn_input_dim', '4', '--dyn_weight', '1.0', '--structure_weight', '1.0', '--max_angle', '3.141592653589793', '--ae_network_type', 'mlp', '--env_name', 'pendulum', '--learn_rate', '1e-05', '--vae_weight', '0.001']\n",
      "['python', 'train_hnn.py', '--dyn_network_type', 'LagNet', '--dyn_input_dim', '6', '--dyn_weight', '1.0', '--structure_weight', '1.0', '--max_angle', '0.5235987755982988', '--ae_network_type', 'mlp', '--env_name', 'pendulum', '--learn_rate', '1e-05', '--vae_weight', '0.001']\n",
      "['python', 'train_hnn.py', '--dyn_network_type', 'LagNet', '--dyn_input_dim', '6', '--dyn_weight', '1.0', '--structure_weight', '1.0', '--max_angle', '1.0471975511965976', '--ae_network_type', 'mlp', '--env_name', 'pendulum', '--learn_rate', '1e-05', '--vae_weight', '0.001']\n",
      "['python', 'train_hnn.py', '--dyn_network_type', 'LagNet', '--dyn_input_dim', '6', '--dyn_weight', '1.0', '--structure_weight', '1.0', '--max_angle', '1.5707963267948966', '--ae_network_type', 'mlp', '--env_name', 'pendulum', '--learn_rate', '1e-05', '--vae_weight', '0.001']\n",
      "['python', 'train_hnn.py', '--dyn_network_type', 'LagNet', '--dyn_input_dim', '6', '--dyn_weight', '1.0', '--structure_weight', '1.0', '--max_angle', '3.141592653589793', '--ae_network_type', 'mlp', '--env_name', 'pendulum', '--learn_rate', '1e-05', '--vae_weight', '0.001']\n",
      "['python', 'train_hnn.py', '--dyn_network_type', 'LagNet', '--dyn_input_dim', '4', '--dyn_weight', '1.0', '--structure_weight', '1.0', '--max_angle', '0.5235987755982988', '--ae_network_type', 'vae', '--env_name', 'acrobot', '--learn_rate', '1e-05', '--vae_weight', '0.001']\n",
      "['python', 'train_hnn.py', '--dyn_network_type', 'LagNet', '--dyn_input_dim', '6', '--dyn_weight', '1.0', '--structure_weight', '1.0', '--max_angle', '0.5235987755982988', '--ae_network_type', 'vae', '--env_name', 'acrobot', '--learn_rate', '1e-05', '--vae_weight', '0.001']\n",
      "['python', 'train_hnn.py', '--dyn_network_type', 'LagNet', '--dyn_input_dim', '4', '--dyn_weight', '1.0', '--structure_weight', '1.0', '--max_angle', '0.5235987755982988', '--ae_network_type', 'mlp', '--env_name', 'acrobot', '--learn_rate', '1e-05', '--vae_weight', '0.001']\n",
      "['python', 'train_hnn.py', '--dyn_network_type', 'LagNet', '--dyn_input_dim', '6', '--dyn_weight', '1.0', '--structure_weight', '1.0', '--max_angle', '0.5235987755982988', '--ae_network_type', 'mlp', '--env_name', 'acrobot', '--learn_rate', '1e-05', '--vae_weight', '0.001']\n",
      "['python', 'train_hnn.py', '--dyn_network_type', 'LagNet', '--dyn_input_dim', '2', '--dyn_weight', '0.1', '--structure_weight', '1.0', '--max_angle', '0.5235987755982988', '--ae_network_type', 'vae', '--env_name', 'pendulum', '--learn_rate', '1e-05', '--vae_weight', '0.001']\n",
      "['python', 'train_hnn.py', '--dyn_network_type', 'LagNet', '--dyn_input_dim', '2', '--dyn_weight', '0.1', '--structure_weight', '1.0', '--max_angle', '1.0471975511965976', '--ae_network_type', 'vae', '--env_name', 'pendulum', '--learn_rate', '1e-05', '--vae_weight', '0.001']\n",
      "['python', 'train_hnn.py', '--dyn_network_type', 'LagNet', '--dyn_input_dim', '2', '--dyn_weight', '0.1', '--structure_weight', '1.0', '--max_angle', '1.5707963267948966', '--ae_network_type', 'vae', '--env_name', 'pendulum', '--learn_rate', '1e-05', '--vae_weight', '0.001']\n",
      "['python', 'train_hnn.py', '--dyn_network_type', 'LagNet', '--dyn_input_dim', '2', '--dyn_weight', '0.1', '--structure_weight', '1.0', '--max_angle', '3.141592653589793', '--ae_network_type', 'vae', '--env_name', 'pendulum', '--learn_rate', '1e-05', '--vae_weight', '0.001']\n",
      "['python', 'train_hnn.py', '--dyn_network_type', 'LagNet', '--dyn_input_dim', '4', '--dyn_weight', '0.1', '--structure_weight', '1.0', '--max_angle', '0.5235987755982988', '--ae_network_type', 'vae', '--env_name', 'pendulum', '--learn_rate', '1e-05', '--vae_weight', '0.001']\n",
      "['python', 'train_hnn.py', '--dyn_network_type', 'LagNet', '--dyn_input_dim', '4', '--dyn_weight', '0.1', '--structure_weight', '1.0', '--max_angle', '1.0471975511965976', '--ae_network_type', 'vae', '--env_name', 'pendulum', '--learn_rate', '1e-05', '--vae_weight', '0.001']\n",
      "['python', 'train_hnn.py', '--dyn_network_type', 'LagNet', '--dyn_input_dim', '4', '--dyn_weight', '0.1', '--structure_weight', '1.0', '--max_angle', '1.5707963267948966', '--ae_network_type', 'vae', '--env_name', 'pendulum', '--learn_rate', '1e-05', '--vae_weight', '0.001']\n",
      "['python', 'train_hnn.py', '--dyn_network_type', 'LagNet', '--dyn_input_dim', '4', '--dyn_weight', '0.1', '--structure_weight', '1.0', '--max_angle', '3.141592653589793', '--ae_network_type', 'vae', '--env_name', 'pendulum', '--learn_rate', '1e-05', '--vae_weight', '0.001']\n",
      "['python', 'train_hnn.py', '--dyn_network_type', 'LagNet', '--dyn_input_dim', '6', '--dyn_weight', '0.1', '--structure_weight', '1.0', '--max_angle', '0.5235987755982988', '--ae_network_type', 'vae', '--env_name', 'pendulum', '--learn_rate', '1e-05', '--vae_weight', '0.001']\n",
      "['python', 'train_hnn.py', '--dyn_network_type', 'LagNet', '--dyn_input_dim', '6', '--dyn_weight', '0.1', '--structure_weight', '1.0', '--max_angle', '1.0471975511965976', '--ae_network_type', 'vae', '--env_name', 'pendulum', '--learn_rate', '1e-05', '--vae_weight', '0.001']\n",
      "['python', 'train_hnn.py', '--dyn_network_type', 'LagNet', '--dyn_input_dim', '6', '--dyn_weight', '0.1', '--structure_weight', '1.0', '--max_angle', '1.5707963267948966', '--ae_network_type', 'vae', '--env_name', 'pendulum', '--learn_rate', '1e-05', '--vae_weight', '0.001']\n",
      "['python', 'train_hnn.py', '--dyn_network_type', 'LagNet', '--dyn_input_dim', '6', '--dyn_weight', '0.1', '--structure_weight', '1.0', '--max_angle', '3.141592653589793', '--ae_network_type', 'vae', '--env_name', 'pendulum', '--learn_rate', '1e-05', '--vae_weight', '0.001']\n",
      "['python', 'train_hnn.py', '--dyn_network_type', 'LagNet', '--dyn_input_dim', '2', '--dyn_weight', '0.1', '--structure_weight', '1.0', '--max_angle', '0.5235987755982988', '--ae_network_type', 'mlp', '--env_name', 'pendulum', '--learn_rate', '1e-05', '--vae_weight', '0.001']\n",
      "['python', 'train_hnn.py', '--dyn_network_type', 'LagNet', '--dyn_input_dim', '2', '--dyn_weight', '0.1', '--structure_weight', '1.0', '--max_angle', '1.0471975511965976', '--ae_network_type', 'mlp', '--env_name', 'pendulum', '--learn_rate', '1e-05', '--vae_weight', '0.001']\n"
     ]
    },
    {
     "name": "stdout",
     "output_type": "stream",
     "text": [
      "['python', 'train_hnn.py', '--dyn_network_type', 'LagNet', '--dyn_input_dim', '2', '--dyn_weight', '0.1', '--structure_weight', '1.0', '--max_angle', '1.5707963267948966', '--ae_network_type', 'mlp', '--env_name', 'pendulum', '--learn_rate', '1e-05', '--vae_weight', '0.001']\n",
      "['python', 'train_hnn.py', '--dyn_network_type', 'LagNet', '--dyn_input_dim', '2', '--dyn_weight', '0.1', '--structure_weight', '1.0', '--max_angle', '3.141592653589793', '--ae_network_type', 'mlp', '--env_name', 'pendulum', '--learn_rate', '1e-05', '--vae_weight', '0.001']\n",
      "['python', 'train_hnn.py', '--dyn_network_type', 'LagNet', '--dyn_input_dim', '4', '--dyn_weight', '0.1', '--structure_weight', '1.0', '--max_angle', '0.5235987755982988', '--ae_network_type', 'mlp', '--env_name', 'pendulum', '--learn_rate', '1e-05', '--vae_weight', '0.001']\n",
      "['python', 'train_hnn.py', '--dyn_network_type', 'LagNet', '--dyn_input_dim', '4', '--dyn_weight', '0.1', '--structure_weight', '1.0', '--max_angle', '1.0471975511965976', '--ae_network_type', 'mlp', '--env_name', 'pendulum', '--learn_rate', '1e-05', '--vae_weight', '0.001']\n",
      "['python', 'train_hnn.py', '--dyn_network_type', 'LagNet', '--dyn_input_dim', '4', '--dyn_weight', '0.1', '--structure_weight', '1.0', '--max_angle', '1.5707963267948966', '--ae_network_type', 'mlp', '--env_name', 'pendulum', '--learn_rate', '1e-05', '--vae_weight', '0.001']\n",
      "['python', 'train_hnn.py', '--dyn_network_type', 'LagNet', '--dyn_input_dim', '4', '--dyn_weight', '0.1', '--structure_weight', '1.0', '--max_angle', '3.141592653589793', '--ae_network_type', 'mlp', '--env_name', 'pendulum', '--learn_rate', '1e-05', '--vae_weight', '0.001']\n",
      "['python', 'train_hnn.py', '--dyn_network_type', 'LagNet', '--dyn_input_dim', '6', '--dyn_weight', '0.1', '--structure_weight', '1.0', '--max_angle', '0.5235987755982988', '--ae_network_type', 'mlp', '--env_name', 'pendulum', '--learn_rate', '1e-05', '--vae_weight', '0.001']\n",
      "['python', 'train_hnn.py', '--dyn_network_type', 'LagNet', '--dyn_input_dim', '6', '--dyn_weight', '0.1', '--structure_weight', '1.0', '--max_angle', '1.0471975511965976', '--ae_network_type', 'mlp', '--env_name', 'pendulum', '--learn_rate', '1e-05', '--vae_weight', '0.001']\n",
      "['python', 'train_hnn.py', '--dyn_network_type', 'LagNet', '--dyn_input_dim', '6', '--dyn_weight', '0.1', '--structure_weight', '1.0', '--max_angle', '1.5707963267948966', '--ae_network_type', 'mlp', '--env_name', 'pendulum', '--learn_rate', '1e-05', '--vae_weight', '0.001']\n",
      "['python', 'train_hnn.py', '--dyn_network_type', 'LagNet', '--dyn_input_dim', '6', '--dyn_weight', '0.1', '--structure_weight', '1.0', '--max_angle', '3.141592653589793', '--ae_network_type', 'mlp', '--env_name', 'pendulum', '--learn_rate', '1e-05', '--vae_weight', '0.001']\n",
      "['python', 'train_hnn.py', '--dyn_network_type', 'LagNet', '--dyn_input_dim', '4', '--dyn_weight', '0.1', '--structure_weight', '1.0', '--max_angle', '0.5235987755982988', '--ae_network_type', 'vae', '--env_name', 'acrobot', '--learn_rate', '1e-05', '--vae_weight', '0.001']\n",
      "['python', 'train_hnn.py', '--dyn_network_type', 'LagNet', '--dyn_input_dim', '6', '--dyn_weight', '0.1', '--structure_weight', '1.0', '--max_angle', '0.5235987755982988', '--ae_network_type', 'vae', '--env_name', 'acrobot', '--learn_rate', '1e-05', '--vae_weight', '0.001']\n",
      "['python', 'train_hnn.py', '--dyn_network_type', 'LagNet', '--dyn_input_dim', '4', '--dyn_weight', '0.1', '--structure_weight', '1.0', '--max_angle', '0.5235987755982988', '--ae_network_type', 'mlp', '--env_name', 'acrobot', '--learn_rate', '1e-05', '--vae_weight', '0.001']\n",
      "['python', 'train_hnn.py', '--dyn_network_type', 'LagNet', '--dyn_input_dim', '6', '--dyn_weight', '0.1', '--structure_weight', '1.0', '--max_angle', '0.5235987755982988', '--ae_network_type', 'mlp', '--env_name', 'acrobot', '--learn_rate', '1e-05', '--vae_weight', '0.001']\n",
      "['python', 'train_hnn.py', '--dyn_network_type', 'LagNet', '--dyn_input_dim', '2', '--dyn_weight', '0.01', '--structure_weight', '1.0', '--max_angle', '0.5235987755982988', '--ae_network_type', 'vae', '--env_name', 'pendulum', '--learn_rate', '1e-05', '--vae_weight', '0.001']\n",
      "['python', 'train_hnn.py', '--dyn_network_type', 'LagNet', '--dyn_input_dim', '2', '--dyn_weight', '0.01', '--structure_weight', '1.0', '--max_angle', '1.0471975511965976', '--ae_network_type', 'vae', '--env_name', 'pendulum', '--learn_rate', '1e-05', '--vae_weight', '0.001']\n",
      "['python', 'train_hnn.py', '--dyn_network_type', 'LagNet', '--dyn_input_dim', '2', '--dyn_weight', '0.01', '--structure_weight', '1.0', '--max_angle', '1.5707963267948966', '--ae_network_type', 'vae', '--env_name', 'pendulum', '--learn_rate', '1e-05', '--vae_weight', '0.001']\n",
      "['python', 'train_hnn.py', '--dyn_network_type', 'LagNet', '--dyn_input_dim', '2', '--dyn_weight', '0.01', '--structure_weight', '1.0', '--max_angle', '3.141592653589793', '--ae_network_type', 'vae', '--env_name', 'pendulum', '--learn_rate', '1e-05', '--vae_weight', '0.001']\n",
      "['python', 'train_hnn.py', '--dyn_network_type', 'LagNet', '--dyn_input_dim', '4', '--dyn_weight', '0.01', '--structure_weight', '1.0', '--max_angle', '0.5235987755982988', '--ae_network_type', 'vae', '--env_name', 'pendulum', '--learn_rate', '1e-05', '--vae_weight', '0.001']\n",
      "['python', 'train_hnn.py', '--dyn_network_type', 'LagNet', '--dyn_input_dim', '4', '--dyn_weight', '0.01', '--structure_weight', '1.0', '--max_angle', '1.0471975511965976', '--ae_network_type', 'vae', '--env_name', 'pendulum', '--learn_rate', '1e-05', '--vae_weight', '0.001']\n",
      "['python', 'train_hnn.py', '--dyn_network_type', 'LagNet', '--dyn_input_dim', '4', '--dyn_weight', '0.01', '--structure_weight', '1.0', '--max_angle', '1.5707963267948966', '--ae_network_type', 'vae', '--env_name', 'pendulum', '--learn_rate', '1e-05', '--vae_weight', '0.001']\n",
      "['python', 'train_hnn.py', '--dyn_network_type', 'LagNet', '--dyn_input_dim', '4', '--dyn_weight', '0.01', '--structure_weight', '1.0', '--max_angle', '3.141592653589793', '--ae_network_type', 'vae', '--env_name', 'pendulum', '--learn_rate', '1e-05', '--vae_weight', '0.001']\n",
      "['python', 'train_hnn.py', '--dyn_network_type', 'LagNet', '--dyn_input_dim', '6', '--dyn_weight', '0.01', '--structure_weight', '1.0', '--max_angle', '0.5235987755982988', '--ae_network_type', 'vae', '--env_name', 'pendulum', '--learn_rate', '1e-05', '--vae_weight', '0.001']\n",
      "['python', 'train_hnn.py', '--dyn_network_type', 'LagNet', '--dyn_input_dim', '6', '--dyn_weight', '0.01', '--structure_weight', '1.0', '--max_angle', '1.0471975511965976', '--ae_network_type', 'vae', '--env_name', 'pendulum', '--learn_rate', '1e-05', '--vae_weight', '0.001']\n",
      "['python', 'train_hnn.py', '--dyn_network_type', 'LagNet', '--dyn_input_dim', '6', '--dyn_weight', '0.01', '--structure_weight', '1.0', '--max_angle', '1.5707963267948966', '--ae_network_type', 'vae', '--env_name', 'pendulum', '--learn_rate', '1e-05', '--vae_weight', '0.001']\n",
      "['python', 'train_hnn.py', '--dyn_network_type', 'LagNet', '--dyn_input_dim', '6', '--dyn_weight', '0.01', '--structure_weight', '1.0', '--max_angle', '3.141592653589793', '--ae_network_type', 'vae', '--env_name', 'pendulum', '--learn_rate', '1e-05', '--vae_weight', '0.001']\n",
      "['python', 'train_hnn.py', '--dyn_network_type', 'LagNet', '--dyn_input_dim', '2', '--dyn_weight', '0.01', '--structure_weight', '1.0', '--max_angle', '0.5235987755982988', '--ae_network_type', 'mlp', '--env_name', 'pendulum', '--learn_rate', '1e-05', '--vae_weight', '0.001']\n",
      "['python', 'train_hnn.py', '--dyn_network_type', 'LagNet', '--dyn_input_dim', '2', '--dyn_weight', '0.01', '--structure_weight', '1.0', '--max_angle', '1.0471975511965976', '--ae_network_type', 'mlp', '--env_name', 'pendulum', '--learn_rate', '1e-05', '--vae_weight', '0.001']\n",
      "['python', 'train_hnn.py', '--dyn_network_type', 'LagNet', '--dyn_input_dim', '2', '--dyn_weight', '0.01', '--structure_weight', '1.0', '--max_angle', '1.5707963267948966', '--ae_network_type', 'mlp', '--env_name', 'pendulum', '--learn_rate', '1e-05', '--vae_weight', '0.001']\n",
      "['python', 'train_hnn.py', '--dyn_network_type', 'LagNet', '--dyn_input_dim', '2', '--dyn_weight', '0.01', '--structure_weight', '1.0', '--max_angle', '3.141592653589793', '--ae_network_type', 'mlp', '--env_name', 'pendulum', '--learn_rate', '1e-05', '--vae_weight', '0.001']\n"
     ]
    },
    {
     "name": "stdout",
     "output_type": "stream",
     "text": [
      "['python', 'train_hnn.py', '--dyn_network_type', 'LagNet', '--dyn_input_dim', '4', '--dyn_weight', '0.01', '--structure_weight', '1.0', '--max_angle', '0.5235987755982988', '--ae_network_type', 'mlp', '--env_name', 'pendulum', '--learn_rate', '1e-05', '--vae_weight', '0.001']\n",
      "['python', 'train_hnn.py', '--dyn_network_type', 'LagNet', '--dyn_input_dim', '4', '--dyn_weight', '0.01', '--structure_weight', '1.0', '--max_angle', '1.0471975511965976', '--ae_network_type', 'mlp', '--env_name', 'pendulum', '--learn_rate', '1e-05', '--vae_weight', '0.001']\n",
      "['python', 'train_hnn.py', '--dyn_network_type', 'LagNet', '--dyn_input_dim', '4', '--dyn_weight', '0.01', '--structure_weight', '1.0', '--max_angle', '1.5707963267948966', '--ae_network_type', 'mlp', '--env_name', 'pendulum', '--learn_rate', '1e-05', '--vae_weight', '0.001']\n",
      "['python', 'train_hnn.py', '--dyn_network_type', 'LagNet', '--dyn_input_dim', '4', '--dyn_weight', '0.01', '--structure_weight', '1.0', '--max_angle', '3.141592653589793', '--ae_network_type', 'mlp', '--env_name', 'pendulum', '--learn_rate', '1e-05', '--vae_weight', '0.001']\n",
      "['python', 'train_hnn.py', '--dyn_network_type', 'LagNet', '--dyn_input_dim', '6', '--dyn_weight', '0.01', '--structure_weight', '1.0', '--max_angle', '0.5235987755982988', '--ae_network_type', 'mlp', '--env_name', 'pendulum', '--learn_rate', '1e-05', '--vae_weight', '0.001']\n",
      "['python', 'train_hnn.py', '--dyn_network_type', 'LagNet', '--dyn_input_dim', '6', '--dyn_weight', '0.01', '--structure_weight', '1.0', '--max_angle', '1.0471975511965976', '--ae_network_type', 'mlp', '--env_name', 'pendulum', '--learn_rate', '1e-05', '--vae_weight', '0.001']\n",
      "['python', 'train_hnn.py', '--dyn_network_type', 'LagNet', '--dyn_input_dim', '6', '--dyn_weight', '0.01', '--structure_weight', '1.0', '--max_angle', '1.5707963267948966', '--ae_network_type', 'mlp', '--env_name', 'pendulum', '--learn_rate', '1e-05', '--vae_weight', '0.001']\n",
      "['python', 'train_hnn.py', '--dyn_network_type', 'LagNet', '--dyn_input_dim', '6', '--dyn_weight', '0.01', '--structure_weight', '1.0', '--max_angle', '3.141592653589793', '--ae_network_type', 'mlp', '--env_name', 'pendulum', '--learn_rate', '1e-05', '--vae_weight', '0.001']\n",
      "['python', 'train_hnn.py', '--dyn_network_type', 'LagNet', '--dyn_input_dim', '4', '--dyn_weight', '0.01', '--structure_weight', '1.0', '--max_angle', '0.5235987755982988', '--ae_network_type', 'vae', '--env_name', 'acrobot', '--learn_rate', '1e-05', '--vae_weight', '0.001']\n",
      "['python', 'train_hnn.py', '--dyn_network_type', 'LagNet', '--dyn_input_dim', '6', '--dyn_weight', '0.01', '--structure_weight', '1.0', '--max_angle', '0.5235987755982988', '--ae_network_type', 'vae', '--env_name', 'acrobot', '--learn_rate', '1e-05', '--vae_weight', '0.001']\n",
      "['python', 'train_hnn.py', '--dyn_network_type', 'LagNet', '--dyn_input_dim', '4', '--dyn_weight', '0.01', '--structure_weight', '1.0', '--max_angle', '0.5235987755982988', '--ae_network_type', 'mlp', '--env_name', 'acrobot', '--learn_rate', '1e-05', '--vae_weight', '0.001']\n",
      "['python', 'train_hnn.py', '--dyn_network_type', 'LagNet', '--dyn_input_dim', '6', '--dyn_weight', '0.01', '--structure_weight', '1.0', '--max_angle', '0.5235987755982988', '--ae_network_type', 'mlp', '--env_name', 'acrobot', '--learn_rate', '1e-05', '--vae_weight', '0.001']\n",
      "['python', 'train_hnn.py', '--dyn_network_type', 'LagNet', '--dyn_input_dim', '2', '--dyn_weight', '1.0', '--structure_weight', '1.0', '--max_angle', '0.5235987755982988', '--ae_network_type', 'vae', '--env_name', 'pendulum', '--learn_rate', '0.001', '--vae_weight', '0.01']\n",
      "['python', 'train_hnn.py', '--dyn_network_type', 'LagNet', '--dyn_input_dim', '2', '--dyn_weight', '1.0', '--structure_weight', '1.0', '--max_angle', '1.0471975511965976', '--ae_network_type', 'vae', '--env_name', 'pendulum', '--learn_rate', '0.001', '--vae_weight', '0.01']\n",
      "['python', 'train_hnn.py', '--dyn_network_type', 'LagNet', '--dyn_input_dim', '2', '--dyn_weight', '1.0', '--structure_weight', '1.0', '--max_angle', '1.5707963267948966', '--ae_network_type', 'vae', '--env_name', 'pendulum', '--learn_rate', '0.001', '--vae_weight', '0.01']\n",
      "['python', 'train_hnn.py', '--dyn_network_type', 'LagNet', '--dyn_input_dim', '2', '--dyn_weight', '1.0', '--structure_weight', '1.0', '--max_angle', '3.141592653589793', '--ae_network_type', 'vae', '--env_name', 'pendulum', '--learn_rate', '0.001', '--vae_weight', '0.01']\n",
      "['python', 'train_hnn.py', '--dyn_network_type', 'LagNet', '--dyn_input_dim', '4', '--dyn_weight', '1.0', '--structure_weight', '1.0', '--max_angle', '0.5235987755982988', '--ae_network_type', 'vae', '--env_name', 'pendulum', '--learn_rate', '0.001', '--vae_weight', '0.01']\n",
      "['python', 'train_hnn.py', '--dyn_network_type', 'LagNet', '--dyn_input_dim', '4', '--dyn_weight', '1.0', '--structure_weight', '1.0', '--max_angle', '1.0471975511965976', '--ae_network_type', 'vae', '--env_name', 'pendulum', '--learn_rate', '0.001', '--vae_weight', '0.01']\n",
      "['python', 'train_hnn.py', '--dyn_network_type', 'LagNet', '--dyn_input_dim', '4', '--dyn_weight', '1.0', '--structure_weight', '1.0', '--max_angle', '1.5707963267948966', '--ae_network_type', 'vae', '--env_name', 'pendulum', '--learn_rate', '0.001', '--vae_weight', '0.01']\n",
      "['python', 'train_hnn.py', '--dyn_network_type', 'LagNet', '--dyn_input_dim', '4', '--dyn_weight', '1.0', '--structure_weight', '1.0', '--max_angle', '3.141592653589793', '--ae_network_type', 'vae', '--env_name', 'pendulum', '--learn_rate', '0.001', '--vae_weight', '0.01']\n",
      "['python', 'train_hnn.py', '--dyn_network_type', 'LagNet', '--dyn_input_dim', '6', '--dyn_weight', '1.0', '--structure_weight', '1.0', '--max_angle', '0.5235987755982988', '--ae_network_type', 'vae', '--env_name', 'pendulum', '--learn_rate', '0.001', '--vae_weight', '0.01']\n",
      "['python', 'train_hnn.py', '--dyn_network_type', 'LagNet', '--dyn_input_dim', '6', '--dyn_weight', '1.0', '--structure_weight', '1.0', '--max_angle', '1.0471975511965976', '--ae_network_type', 'vae', '--env_name', 'pendulum', '--learn_rate', '0.001', '--vae_weight', '0.01']\n",
      "['python', 'train_hnn.py', '--dyn_network_type', 'LagNet', '--dyn_input_dim', '6', '--dyn_weight', '1.0', '--structure_weight', '1.0', '--max_angle', '1.5707963267948966', '--ae_network_type', 'vae', '--env_name', 'pendulum', '--learn_rate', '0.001', '--vae_weight', '0.01']\n",
      "['python', 'train_hnn.py', '--dyn_network_type', 'LagNet', '--dyn_input_dim', '6', '--dyn_weight', '1.0', '--structure_weight', '1.0', '--max_angle', '3.141592653589793', '--ae_network_type', 'vae', '--env_name', 'pendulum', '--learn_rate', '0.001', '--vae_weight', '0.01']\n",
      "['python', 'train_hnn.py', '--dyn_network_type', 'LagNet', '--dyn_input_dim', '2', '--dyn_weight', '1.0', '--structure_weight', '1.0', '--max_angle', '0.5235987755982988', '--ae_network_type', 'mlp', '--env_name', 'pendulum', '--learn_rate', '0.001', '--vae_weight', '0.01']\n",
      "['python', 'train_hnn.py', '--dyn_network_type', 'LagNet', '--dyn_input_dim', '2', '--dyn_weight', '1.0', '--structure_weight', '1.0', '--max_angle', '1.0471975511965976', '--ae_network_type', 'mlp', '--env_name', 'pendulum', '--learn_rate', '0.001', '--vae_weight', '0.01']\n",
      "['python', 'train_hnn.py', '--dyn_network_type', 'LagNet', '--dyn_input_dim', '2', '--dyn_weight', '1.0', '--structure_weight', '1.0', '--max_angle', '1.5707963267948966', '--ae_network_type', 'mlp', '--env_name', 'pendulum', '--learn_rate', '0.001', '--vae_weight', '0.01']\n",
      "['python', 'train_hnn.py', '--dyn_network_type', 'LagNet', '--dyn_input_dim', '2', '--dyn_weight', '1.0', '--structure_weight', '1.0', '--max_angle', '3.141592653589793', '--ae_network_type', 'mlp', '--env_name', 'pendulum', '--learn_rate', '0.001', '--vae_weight', '0.01']\n",
      "['python', 'train_hnn.py', '--dyn_network_type', 'LagNet', '--dyn_input_dim', '4', '--dyn_weight', '1.0', '--structure_weight', '1.0', '--max_angle', '0.5235987755982988', '--ae_network_type', 'mlp', '--env_name', 'pendulum', '--learn_rate', '0.001', '--vae_weight', '0.01']\n",
      "['python', 'train_hnn.py', '--dyn_network_type', 'LagNet', '--dyn_input_dim', '4', '--dyn_weight', '1.0', '--structure_weight', '1.0', '--max_angle', '1.0471975511965976', '--ae_network_type', 'mlp', '--env_name', 'pendulum', '--learn_rate', '0.001', '--vae_weight', '0.01']\n"
     ]
    },
    {
     "name": "stdout",
     "output_type": "stream",
     "text": [
      "['python', 'train_hnn.py', '--dyn_network_type', 'LagNet', '--dyn_input_dim', '4', '--dyn_weight', '1.0', '--structure_weight', '1.0', '--max_angle', '1.5707963267948966', '--ae_network_type', 'mlp', '--env_name', 'pendulum', '--learn_rate', '0.001', '--vae_weight', '0.01']\n",
      "['python', 'train_hnn.py', '--dyn_network_type', 'LagNet', '--dyn_input_dim', '4', '--dyn_weight', '1.0', '--structure_weight', '1.0', '--max_angle', '3.141592653589793', '--ae_network_type', 'mlp', '--env_name', 'pendulum', '--learn_rate', '0.001', '--vae_weight', '0.01']\n",
      "['python', 'train_hnn.py', '--dyn_network_type', 'LagNet', '--dyn_input_dim', '6', '--dyn_weight', '1.0', '--structure_weight', '1.0', '--max_angle', '0.5235987755982988', '--ae_network_type', 'mlp', '--env_name', 'pendulum', '--learn_rate', '0.001', '--vae_weight', '0.01']\n",
      "['python', 'train_hnn.py', '--dyn_network_type', 'LagNet', '--dyn_input_dim', '6', '--dyn_weight', '1.0', '--structure_weight', '1.0', '--max_angle', '1.0471975511965976', '--ae_network_type', 'mlp', '--env_name', 'pendulum', '--learn_rate', '0.001', '--vae_weight', '0.01']\n",
      "['python', 'train_hnn.py', '--dyn_network_type', 'LagNet', '--dyn_input_dim', '6', '--dyn_weight', '1.0', '--structure_weight', '1.0', '--max_angle', '1.5707963267948966', '--ae_network_type', 'mlp', '--env_name', 'pendulum', '--learn_rate', '0.001', '--vae_weight', '0.01']\n",
      "['python', 'train_hnn.py', '--dyn_network_type', 'LagNet', '--dyn_input_dim', '6', '--dyn_weight', '1.0', '--structure_weight', '1.0', '--max_angle', '3.141592653589793', '--ae_network_type', 'mlp', '--env_name', 'pendulum', '--learn_rate', '0.001', '--vae_weight', '0.01']\n",
      "['python', 'train_hnn.py', '--dyn_network_type', 'LagNet', '--dyn_input_dim', '4', '--dyn_weight', '1.0', '--structure_weight', '1.0', '--max_angle', '0.5235987755982988', '--ae_network_type', 'vae', '--env_name', 'acrobot', '--learn_rate', '0.001', '--vae_weight', '0.01']\n",
      "['python', 'train_hnn.py', '--dyn_network_type', 'LagNet', '--dyn_input_dim', '6', '--dyn_weight', '1.0', '--structure_weight', '1.0', '--max_angle', '0.5235987755982988', '--ae_network_type', 'vae', '--env_name', 'acrobot', '--learn_rate', '0.001', '--vae_weight', '0.01']\n",
      "['python', 'train_hnn.py', '--dyn_network_type', 'LagNet', '--dyn_input_dim', '4', '--dyn_weight', '1.0', '--structure_weight', '1.0', '--max_angle', '0.5235987755982988', '--ae_network_type', 'mlp', '--env_name', 'acrobot', '--learn_rate', '0.001', '--vae_weight', '0.01']\n",
      "['python', 'train_hnn.py', '--dyn_network_type', 'LagNet', '--dyn_input_dim', '6', '--dyn_weight', '1.0', '--structure_weight', '1.0', '--max_angle', '0.5235987755982988', '--ae_network_type', 'mlp', '--env_name', 'acrobot', '--learn_rate', '0.001', '--vae_weight', '0.01']\n",
      "['python', 'train_hnn.py', '--dyn_network_type', 'LagNet', '--dyn_input_dim', '2', '--dyn_weight', '0.1', '--structure_weight', '1.0', '--max_angle', '0.5235987755982988', '--ae_network_type', 'vae', '--env_name', 'pendulum', '--learn_rate', '0.001', '--vae_weight', '0.01']\n",
      "['python', 'train_hnn.py', '--dyn_network_type', 'LagNet', '--dyn_input_dim', '2', '--dyn_weight', '0.1', '--structure_weight', '1.0', '--max_angle', '1.0471975511965976', '--ae_network_type', 'vae', '--env_name', 'pendulum', '--learn_rate', '0.001', '--vae_weight', '0.01']\n",
      "['python', 'train_hnn.py', '--dyn_network_type', 'LagNet', '--dyn_input_dim', '2', '--dyn_weight', '0.1', '--structure_weight', '1.0', '--max_angle', '1.5707963267948966', '--ae_network_type', 'vae', '--env_name', 'pendulum', '--learn_rate', '0.001', '--vae_weight', '0.01']\n",
      "['python', 'train_hnn.py', '--dyn_network_type', 'LagNet', '--dyn_input_dim', '2', '--dyn_weight', '0.1', '--structure_weight', '1.0', '--max_angle', '3.141592653589793', '--ae_network_type', 'vae', '--env_name', 'pendulum', '--learn_rate', '0.001', '--vae_weight', '0.01']\n",
      "['python', 'train_hnn.py', '--dyn_network_type', 'LagNet', '--dyn_input_dim', '4', '--dyn_weight', '0.1', '--structure_weight', '1.0', '--max_angle', '0.5235987755982988', '--ae_network_type', 'vae', '--env_name', 'pendulum', '--learn_rate', '0.001', '--vae_weight', '0.01']\n",
      "['python', 'train_hnn.py', '--dyn_network_type', 'LagNet', '--dyn_input_dim', '4', '--dyn_weight', '0.1', '--structure_weight', '1.0', '--max_angle', '1.0471975511965976', '--ae_network_type', 'vae', '--env_name', 'pendulum', '--learn_rate', '0.001', '--vae_weight', '0.01']\n",
      "['python', 'train_hnn.py', '--dyn_network_type', 'LagNet', '--dyn_input_dim', '4', '--dyn_weight', '0.1', '--structure_weight', '1.0', '--max_angle', '1.5707963267948966', '--ae_network_type', 'vae', '--env_name', 'pendulum', '--learn_rate', '0.001', '--vae_weight', '0.01']\n",
      "['python', 'train_hnn.py', '--dyn_network_type', 'LagNet', '--dyn_input_dim', '4', '--dyn_weight', '0.1', '--structure_weight', '1.0', '--max_angle', '3.141592653589793', '--ae_network_type', 'vae', '--env_name', 'pendulum', '--learn_rate', '0.001', '--vae_weight', '0.01']\n",
      "['python', 'train_hnn.py', '--dyn_network_type', 'LagNet', '--dyn_input_dim', '6', '--dyn_weight', '0.1', '--structure_weight', '1.0', '--max_angle', '0.5235987755982988', '--ae_network_type', 'vae', '--env_name', 'pendulum', '--learn_rate', '0.001', '--vae_weight', '0.01']\n",
      "['python', 'train_hnn.py', '--dyn_network_type', 'LagNet', '--dyn_input_dim', '6', '--dyn_weight', '0.1', '--structure_weight', '1.0', '--max_angle', '1.0471975511965976', '--ae_network_type', 'vae', '--env_name', 'pendulum', '--learn_rate', '0.001', '--vae_weight', '0.01']\n",
      "['python', 'train_hnn.py', '--dyn_network_type', 'LagNet', '--dyn_input_dim', '6', '--dyn_weight', '0.1', '--structure_weight', '1.0', '--max_angle', '1.5707963267948966', '--ae_network_type', 'vae', '--env_name', 'pendulum', '--learn_rate', '0.001', '--vae_weight', '0.01']\n",
      "['python', 'train_hnn.py', '--dyn_network_type', 'LagNet', '--dyn_input_dim', '6', '--dyn_weight', '0.1', '--structure_weight', '1.0', '--max_angle', '3.141592653589793', '--ae_network_type', 'vae', '--env_name', 'pendulum', '--learn_rate', '0.001', '--vae_weight', '0.01']\n",
      "['python', 'train_hnn.py', '--dyn_network_type', 'LagNet', '--dyn_input_dim', '2', '--dyn_weight', '0.1', '--structure_weight', '1.0', '--max_angle', '0.5235987755982988', '--ae_network_type', 'mlp', '--env_name', 'pendulum', '--learn_rate', '0.001', '--vae_weight', '0.01']\n",
      "['python', 'train_hnn.py', '--dyn_network_type', 'LagNet', '--dyn_input_dim', '2', '--dyn_weight', '0.1', '--structure_weight', '1.0', '--max_angle', '1.0471975511965976', '--ae_network_type', 'mlp', '--env_name', 'pendulum', '--learn_rate', '0.001', '--vae_weight', '0.01']\n",
      "['python', 'train_hnn.py', '--dyn_network_type', 'LagNet', '--dyn_input_dim', '2', '--dyn_weight', '0.1', '--structure_weight', '1.0', '--max_angle', '1.5707963267948966', '--ae_network_type', 'mlp', '--env_name', 'pendulum', '--learn_rate', '0.001', '--vae_weight', '0.01']\n",
      "['python', 'train_hnn.py', '--dyn_network_type', 'LagNet', '--dyn_input_dim', '2', '--dyn_weight', '0.1', '--structure_weight', '1.0', '--max_angle', '3.141592653589793', '--ae_network_type', 'mlp', '--env_name', 'pendulum', '--learn_rate', '0.001', '--vae_weight', '0.01']\n",
      "['python', 'train_hnn.py', '--dyn_network_type', 'LagNet', '--dyn_input_dim', '4', '--dyn_weight', '0.1', '--structure_weight', '1.0', '--max_angle', '0.5235987755982988', '--ae_network_type', 'mlp', '--env_name', 'pendulum', '--learn_rate', '0.001', '--vae_weight', '0.01']\n",
      "['python', 'train_hnn.py', '--dyn_network_type', 'LagNet', '--dyn_input_dim', '4', '--dyn_weight', '0.1', '--structure_weight', '1.0', '--max_angle', '1.0471975511965976', '--ae_network_type', 'mlp', '--env_name', 'pendulum', '--learn_rate', '0.001', '--vae_weight', '0.01']\n",
      "['python', 'train_hnn.py', '--dyn_network_type', 'LagNet', '--dyn_input_dim', '4', '--dyn_weight', '0.1', '--structure_weight', '1.0', '--max_angle', '1.5707963267948966', '--ae_network_type', 'mlp', '--env_name', 'pendulum', '--learn_rate', '0.001', '--vae_weight', '0.01']\n",
      "['python', 'train_hnn.py', '--dyn_network_type', 'LagNet', '--dyn_input_dim', '4', '--dyn_weight', '0.1', '--structure_weight', '1.0', '--max_angle', '3.141592653589793', '--ae_network_type', 'mlp', '--env_name', 'pendulum', '--learn_rate', '0.001', '--vae_weight', '0.01']\n"
     ]
    },
    {
     "name": "stdout",
     "output_type": "stream",
     "text": [
      "['python', 'train_hnn.py', '--dyn_network_type', 'LagNet', '--dyn_input_dim', '6', '--dyn_weight', '0.1', '--structure_weight', '1.0', '--max_angle', '0.5235987755982988', '--ae_network_type', 'mlp', '--env_name', 'pendulum', '--learn_rate', '0.001', '--vae_weight', '0.01']\n",
      "['python', 'train_hnn.py', '--dyn_network_type', 'LagNet', '--dyn_input_dim', '6', '--dyn_weight', '0.1', '--structure_weight', '1.0', '--max_angle', '1.0471975511965976', '--ae_network_type', 'mlp', '--env_name', 'pendulum', '--learn_rate', '0.001', '--vae_weight', '0.01']\n",
      "['python', 'train_hnn.py', '--dyn_network_type', 'LagNet', '--dyn_input_dim', '6', '--dyn_weight', '0.1', '--structure_weight', '1.0', '--max_angle', '1.5707963267948966', '--ae_network_type', 'mlp', '--env_name', 'pendulum', '--learn_rate', '0.001', '--vae_weight', '0.01']\n",
      "['python', 'train_hnn.py', '--dyn_network_type', 'LagNet', '--dyn_input_dim', '6', '--dyn_weight', '0.1', '--structure_weight', '1.0', '--max_angle', '3.141592653589793', '--ae_network_type', 'mlp', '--env_name', 'pendulum', '--learn_rate', '0.001', '--vae_weight', '0.01']\n",
      "['python', 'train_hnn.py', '--dyn_network_type', 'LagNet', '--dyn_input_dim', '4', '--dyn_weight', '0.1', '--structure_weight', '1.0', '--max_angle', '0.5235987755982988', '--ae_network_type', 'vae', '--env_name', 'acrobot', '--learn_rate', '0.001', '--vae_weight', '0.01']\n",
      "['python', 'train_hnn.py', '--dyn_network_type', 'LagNet', '--dyn_input_dim', '6', '--dyn_weight', '0.1', '--structure_weight', '1.0', '--max_angle', '0.5235987755982988', '--ae_network_type', 'vae', '--env_name', 'acrobot', '--learn_rate', '0.001', '--vae_weight', '0.01']\n",
      "['python', 'train_hnn.py', '--dyn_network_type', 'LagNet', '--dyn_input_dim', '4', '--dyn_weight', '0.1', '--structure_weight', '1.0', '--max_angle', '0.5235987755982988', '--ae_network_type', 'mlp', '--env_name', 'acrobot', '--learn_rate', '0.001', '--vae_weight', '0.01']\n",
      "['python', 'train_hnn.py', '--dyn_network_type', 'LagNet', '--dyn_input_dim', '6', '--dyn_weight', '0.1', '--structure_weight', '1.0', '--max_angle', '0.5235987755982988', '--ae_network_type', 'mlp', '--env_name', 'acrobot', '--learn_rate', '0.001', '--vae_weight', '0.01']\n",
      "['python', 'train_hnn.py', '--dyn_network_type', 'LagNet', '--dyn_input_dim', '2', '--dyn_weight', '0.01', '--structure_weight', '1.0', '--max_angle', '0.5235987755982988', '--ae_network_type', 'vae', '--env_name', 'pendulum', '--learn_rate', '0.001', '--vae_weight', '0.01']\n",
      "['python', 'train_hnn.py', '--dyn_network_type', 'LagNet', '--dyn_input_dim', '2', '--dyn_weight', '0.01', '--structure_weight', '1.0', '--max_angle', '1.0471975511965976', '--ae_network_type', 'vae', '--env_name', 'pendulum', '--learn_rate', '0.001', '--vae_weight', '0.01']\n",
      "['python', 'train_hnn.py', '--dyn_network_type', 'LagNet', '--dyn_input_dim', '2', '--dyn_weight', '0.01', '--structure_weight', '1.0', '--max_angle', '1.5707963267948966', '--ae_network_type', 'vae', '--env_name', 'pendulum', '--learn_rate', '0.001', '--vae_weight', '0.01']\n",
      "['python', 'train_hnn.py', '--dyn_network_type', 'LagNet', '--dyn_input_dim', '2', '--dyn_weight', '0.01', '--structure_weight', '1.0', '--max_angle', '3.141592653589793', '--ae_network_type', 'vae', '--env_name', 'pendulum', '--learn_rate', '0.001', '--vae_weight', '0.01']\n",
      "['python', 'train_hnn.py', '--dyn_network_type', 'LagNet', '--dyn_input_dim', '4', '--dyn_weight', '0.01', '--structure_weight', '1.0', '--max_angle', '0.5235987755982988', '--ae_network_type', 'vae', '--env_name', 'pendulum', '--learn_rate', '0.001', '--vae_weight', '0.01']\n",
      "['python', 'train_hnn.py', '--dyn_network_type', 'LagNet', '--dyn_input_dim', '4', '--dyn_weight', '0.01', '--structure_weight', '1.0', '--max_angle', '1.0471975511965976', '--ae_network_type', 'vae', '--env_name', 'pendulum', '--learn_rate', '0.001', '--vae_weight', '0.01']\n",
      "['python', 'train_hnn.py', '--dyn_network_type', 'LagNet', '--dyn_input_dim', '4', '--dyn_weight', '0.01', '--structure_weight', '1.0', '--max_angle', '1.5707963267948966', '--ae_network_type', 'vae', '--env_name', 'pendulum', '--learn_rate', '0.001', '--vae_weight', '0.01']\n",
      "['python', 'train_hnn.py', '--dyn_network_type', 'LagNet', '--dyn_input_dim', '4', '--dyn_weight', '0.01', '--structure_weight', '1.0', '--max_angle', '3.141592653589793', '--ae_network_type', 'vae', '--env_name', 'pendulum', '--learn_rate', '0.001', '--vae_weight', '0.01']\n",
      "['python', 'train_hnn.py', '--dyn_network_type', 'LagNet', '--dyn_input_dim', '6', '--dyn_weight', '0.01', '--structure_weight', '1.0', '--max_angle', '0.5235987755982988', '--ae_network_type', 'vae', '--env_name', 'pendulum', '--learn_rate', '0.001', '--vae_weight', '0.01']\n",
      "['python', 'train_hnn.py', '--dyn_network_type', 'LagNet', '--dyn_input_dim', '6', '--dyn_weight', '0.01', '--structure_weight', '1.0', '--max_angle', '1.0471975511965976', '--ae_network_type', 'vae', '--env_name', 'pendulum', '--learn_rate', '0.001', '--vae_weight', '0.01']\n",
      "['python', 'train_hnn.py', '--dyn_network_type', 'LagNet', '--dyn_input_dim', '6', '--dyn_weight', '0.01', '--structure_weight', '1.0', '--max_angle', '1.5707963267948966', '--ae_network_type', 'vae', '--env_name', 'pendulum', '--learn_rate', '0.001', '--vae_weight', '0.01']\n",
      "['python', 'train_hnn.py', '--dyn_network_type', 'LagNet', '--dyn_input_dim', '6', '--dyn_weight', '0.01', '--structure_weight', '1.0', '--max_angle', '3.141592653589793', '--ae_network_type', 'vae', '--env_name', 'pendulum', '--learn_rate', '0.001', '--vae_weight', '0.01']\n",
      "['python', 'train_hnn.py', '--dyn_network_type', 'LagNet', '--dyn_input_dim', '2', '--dyn_weight', '0.01', '--structure_weight', '1.0', '--max_angle', '0.5235987755982988', '--ae_network_type', 'mlp', '--env_name', 'pendulum', '--learn_rate', '0.001', '--vae_weight', '0.01']\n",
      "['python', 'train_hnn.py', '--dyn_network_type', 'LagNet', '--dyn_input_dim', '2', '--dyn_weight', '0.01', '--structure_weight', '1.0', '--max_angle', '1.0471975511965976', '--ae_network_type', 'mlp', '--env_name', 'pendulum', '--learn_rate', '0.001', '--vae_weight', '0.01']\n",
      "['python', 'train_hnn.py', '--dyn_network_type', 'LagNet', '--dyn_input_dim', '2', '--dyn_weight', '0.01', '--structure_weight', '1.0', '--max_angle', '1.5707963267948966', '--ae_network_type', 'mlp', '--env_name', 'pendulum', '--learn_rate', '0.001', '--vae_weight', '0.01']\n",
      "['python', 'train_hnn.py', '--dyn_network_type', 'LagNet', '--dyn_input_dim', '2', '--dyn_weight', '0.01', '--structure_weight', '1.0', '--max_angle', '3.141592653589793', '--ae_network_type', 'mlp', '--env_name', 'pendulum', '--learn_rate', '0.001', '--vae_weight', '0.01']\n",
      "['python', 'train_hnn.py', '--dyn_network_type', 'LagNet', '--dyn_input_dim', '4', '--dyn_weight', '0.01', '--structure_weight', '1.0', '--max_angle', '0.5235987755982988', '--ae_network_type', 'mlp', '--env_name', 'pendulum', '--learn_rate', '0.001', '--vae_weight', '0.01']\n",
      "['python', 'train_hnn.py', '--dyn_network_type', 'LagNet', '--dyn_input_dim', '4', '--dyn_weight', '0.01', '--structure_weight', '1.0', '--max_angle', '1.0471975511965976', '--ae_network_type', 'mlp', '--env_name', 'pendulum', '--learn_rate', '0.001', '--vae_weight', '0.01']\n",
      "['python', 'train_hnn.py', '--dyn_network_type', 'LagNet', '--dyn_input_dim', '4', '--dyn_weight', '0.01', '--structure_weight', '1.0', '--max_angle', '1.5707963267948966', '--ae_network_type', 'mlp', '--env_name', 'pendulum', '--learn_rate', '0.001', '--vae_weight', '0.01']\n",
      "['python', 'train_hnn.py', '--dyn_network_type', 'LagNet', '--dyn_input_dim', '4', '--dyn_weight', '0.01', '--structure_weight', '1.0', '--max_angle', '3.141592653589793', '--ae_network_type', 'mlp', '--env_name', 'pendulum', '--learn_rate', '0.001', '--vae_weight', '0.01']\n",
      "['python', 'train_hnn.py', '--dyn_network_type', 'LagNet', '--dyn_input_dim', '6', '--dyn_weight', '0.01', '--structure_weight', '1.0', '--max_angle', '0.5235987755982988', '--ae_network_type', 'mlp', '--env_name', 'pendulum', '--learn_rate', '0.001', '--vae_weight', '0.01']\n",
      "['python', 'train_hnn.py', '--dyn_network_type', 'LagNet', '--dyn_input_dim', '6', '--dyn_weight', '0.01', '--structure_weight', '1.0', '--max_angle', '1.0471975511965976', '--ae_network_type', 'mlp', '--env_name', 'pendulum', '--learn_rate', '0.001', '--vae_weight', '0.01']\n"
     ]
    },
    {
     "name": "stdout",
     "output_type": "stream",
     "text": [
      "['python', 'train_hnn.py', '--dyn_network_type', 'LagNet', '--dyn_input_dim', '6', '--dyn_weight', '0.01', '--structure_weight', '1.0', '--max_angle', '1.5707963267948966', '--ae_network_type', 'mlp', '--env_name', 'pendulum', '--learn_rate', '0.001', '--vae_weight', '0.01']\n",
      "['python', 'train_hnn.py', '--dyn_network_type', 'LagNet', '--dyn_input_dim', '6', '--dyn_weight', '0.01', '--structure_weight', '1.0', '--max_angle', '3.141592653589793', '--ae_network_type', 'mlp', '--env_name', 'pendulum', '--learn_rate', '0.001', '--vae_weight', '0.01']\n",
      "['python', 'train_hnn.py', '--dyn_network_type', 'LagNet', '--dyn_input_dim', '4', '--dyn_weight', '0.01', '--structure_weight', '1.0', '--max_angle', '0.5235987755982988', '--ae_network_type', 'vae', '--env_name', 'acrobot', '--learn_rate', '0.001', '--vae_weight', '0.01']\n",
      "['python', 'train_hnn.py', '--dyn_network_type', 'LagNet', '--dyn_input_dim', '6', '--dyn_weight', '0.01', '--structure_weight', '1.0', '--max_angle', '0.5235987755982988', '--ae_network_type', 'vae', '--env_name', 'acrobot', '--learn_rate', '0.001', '--vae_weight', '0.01']\n",
      "['python', 'train_hnn.py', '--dyn_network_type', 'LagNet', '--dyn_input_dim', '4', '--dyn_weight', '0.01', '--structure_weight', '1.0', '--max_angle', '0.5235987755982988', '--ae_network_type', 'mlp', '--env_name', 'acrobot', '--learn_rate', '0.001', '--vae_weight', '0.01']\n",
      "['python', 'train_hnn.py', '--dyn_network_type', 'LagNet', '--dyn_input_dim', '6', '--dyn_weight', '0.01', '--structure_weight', '1.0', '--max_angle', '0.5235987755982988', '--ae_network_type', 'mlp', '--env_name', 'acrobot', '--learn_rate', '0.001', '--vae_weight', '0.01']\n",
      "['python', 'train_hnn.py', '--dyn_network_type', 'LagNet', '--dyn_input_dim', '2', '--dyn_weight', '1.0', '--structure_weight', '1.0', '--max_angle', '0.5235987755982988', '--ae_network_type', 'vae', '--env_name', 'pendulum', '--learn_rate', '0.0001', '--vae_weight', '0.01']\n",
      "['python', 'train_hnn.py', '--dyn_network_type', 'LagNet', '--dyn_input_dim', '2', '--dyn_weight', '1.0', '--structure_weight', '1.0', '--max_angle', '1.0471975511965976', '--ae_network_type', 'vae', '--env_name', 'pendulum', '--learn_rate', '0.0001', '--vae_weight', '0.01']\n",
      "['python', 'train_hnn.py', '--dyn_network_type', 'LagNet', '--dyn_input_dim', '2', '--dyn_weight', '1.0', '--structure_weight', '1.0', '--max_angle', '1.5707963267948966', '--ae_network_type', 'vae', '--env_name', 'pendulum', '--learn_rate', '0.0001', '--vae_weight', '0.01']\n",
      "['python', 'train_hnn.py', '--dyn_network_type', 'LagNet', '--dyn_input_dim', '2', '--dyn_weight', '1.0', '--structure_weight', '1.0', '--max_angle', '3.141592653589793', '--ae_network_type', 'vae', '--env_name', 'pendulum', '--learn_rate', '0.0001', '--vae_weight', '0.01']\n",
      "['python', 'train_hnn.py', '--dyn_network_type', 'LagNet', '--dyn_input_dim', '4', '--dyn_weight', '1.0', '--structure_weight', '1.0', '--max_angle', '0.5235987755982988', '--ae_network_type', 'vae', '--env_name', 'pendulum', '--learn_rate', '0.0001', '--vae_weight', '0.01']\n",
      "['python', 'train_hnn.py', '--dyn_network_type', 'LagNet', '--dyn_input_dim', '4', '--dyn_weight', '1.0', '--structure_weight', '1.0', '--max_angle', '1.0471975511965976', '--ae_network_type', 'vae', '--env_name', 'pendulum', '--learn_rate', '0.0001', '--vae_weight', '0.01']\n",
      "['python', 'train_hnn.py', '--dyn_network_type', 'LagNet', '--dyn_input_dim', '4', '--dyn_weight', '1.0', '--structure_weight', '1.0', '--max_angle', '1.5707963267948966', '--ae_network_type', 'vae', '--env_name', 'pendulum', '--learn_rate', '0.0001', '--vae_weight', '0.01']\n",
      "['python', 'train_hnn.py', '--dyn_network_type', 'LagNet', '--dyn_input_dim', '4', '--dyn_weight', '1.0', '--structure_weight', '1.0', '--max_angle', '3.141592653589793', '--ae_network_type', 'vae', '--env_name', 'pendulum', '--learn_rate', '0.0001', '--vae_weight', '0.01']\n",
      "['python', 'train_hnn.py', '--dyn_network_type', 'LagNet', '--dyn_input_dim', '6', '--dyn_weight', '1.0', '--structure_weight', '1.0', '--max_angle', '0.5235987755982988', '--ae_network_type', 'vae', '--env_name', 'pendulum', '--learn_rate', '0.0001', '--vae_weight', '0.01']\n",
      "['python', 'train_hnn.py', '--dyn_network_type', 'LagNet', '--dyn_input_dim', '6', '--dyn_weight', '1.0', '--structure_weight', '1.0', '--max_angle', '1.0471975511965976', '--ae_network_type', 'vae', '--env_name', 'pendulum', '--learn_rate', '0.0001', '--vae_weight', '0.01']\n",
      "['python', 'train_hnn.py', '--dyn_network_type', 'LagNet', '--dyn_input_dim', '6', '--dyn_weight', '1.0', '--structure_weight', '1.0', '--max_angle', '1.5707963267948966', '--ae_network_type', 'vae', '--env_name', 'pendulum', '--learn_rate', '0.0001', '--vae_weight', '0.01']\n",
      "['python', 'train_hnn.py', '--dyn_network_type', 'LagNet', '--dyn_input_dim', '6', '--dyn_weight', '1.0', '--structure_weight', '1.0', '--max_angle', '3.141592653589793', '--ae_network_type', 'vae', '--env_name', 'pendulum', '--learn_rate', '0.0001', '--vae_weight', '0.01']\n",
      "['python', 'train_hnn.py', '--dyn_network_type', 'LagNet', '--dyn_input_dim', '2', '--dyn_weight', '1.0', '--structure_weight', '1.0', '--max_angle', '0.5235987755982988', '--ae_network_type', 'mlp', '--env_name', 'pendulum', '--learn_rate', '0.0001', '--vae_weight', '0.01']\n",
      "['python', 'train_hnn.py', '--dyn_network_type', 'LagNet', '--dyn_input_dim', '2', '--dyn_weight', '1.0', '--structure_weight', '1.0', '--max_angle', '1.0471975511965976', '--ae_network_type', 'mlp', '--env_name', 'pendulum', '--learn_rate', '0.0001', '--vae_weight', '0.01']\n",
      "['python', 'train_hnn.py', '--dyn_network_type', 'LagNet', '--dyn_input_dim', '2', '--dyn_weight', '1.0', '--structure_weight', '1.0', '--max_angle', '1.5707963267948966', '--ae_network_type', 'mlp', '--env_name', 'pendulum', '--learn_rate', '0.0001', '--vae_weight', '0.01']\n",
      "['python', 'train_hnn.py', '--dyn_network_type', 'LagNet', '--dyn_input_dim', '2', '--dyn_weight', '1.0', '--structure_weight', '1.0', '--max_angle', '3.141592653589793', '--ae_network_type', 'mlp', '--env_name', 'pendulum', '--learn_rate', '0.0001', '--vae_weight', '0.01']\n",
      "['python', 'train_hnn.py', '--dyn_network_type', 'LagNet', '--dyn_input_dim', '4', '--dyn_weight', '1.0', '--structure_weight', '1.0', '--max_angle', '0.5235987755982988', '--ae_network_type', 'mlp', '--env_name', 'pendulum', '--learn_rate', '0.0001', '--vae_weight', '0.01']\n",
      "['python', 'train_hnn.py', '--dyn_network_type', 'LagNet', '--dyn_input_dim', '4', '--dyn_weight', '1.0', '--structure_weight', '1.0', '--max_angle', '1.0471975511965976', '--ae_network_type', 'mlp', '--env_name', 'pendulum', '--learn_rate', '0.0001', '--vae_weight', '0.01']\n",
      "['python', 'train_hnn.py', '--dyn_network_type', 'LagNet', '--dyn_input_dim', '4', '--dyn_weight', '1.0', '--structure_weight', '1.0', '--max_angle', '1.5707963267948966', '--ae_network_type', 'mlp', '--env_name', 'pendulum', '--learn_rate', '0.0001', '--vae_weight', '0.01']\n",
      "['python', 'train_hnn.py', '--dyn_network_type', 'LagNet', '--dyn_input_dim', '4', '--dyn_weight', '1.0', '--structure_weight', '1.0', '--max_angle', '3.141592653589793', '--ae_network_type', 'mlp', '--env_name', 'pendulum', '--learn_rate', '0.0001', '--vae_weight', '0.01']\n",
      "['python', 'train_hnn.py', '--dyn_network_type', 'LagNet', '--dyn_input_dim', '6', '--dyn_weight', '1.0', '--structure_weight', '1.0', '--max_angle', '0.5235987755982988', '--ae_network_type', 'mlp', '--env_name', 'pendulum', '--learn_rate', '0.0001', '--vae_weight', '0.01']\n",
      "['python', 'train_hnn.py', '--dyn_network_type', 'LagNet', '--dyn_input_dim', '6', '--dyn_weight', '1.0', '--structure_weight', '1.0', '--max_angle', '1.0471975511965976', '--ae_network_type', 'mlp', '--env_name', 'pendulum', '--learn_rate', '0.0001', '--vae_weight', '0.01']\n",
      "['python', 'train_hnn.py', '--dyn_network_type', 'LagNet', '--dyn_input_dim', '6', '--dyn_weight', '1.0', '--structure_weight', '1.0', '--max_angle', '1.5707963267948966', '--ae_network_type', 'mlp', '--env_name', 'pendulum', '--learn_rate', '0.0001', '--vae_weight', '0.01']\n",
      "['python', 'train_hnn.py', '--dyn_network_type', 'LagNet', '--dyn_input_dim', '6', '--dyn_weight', '1.0', '--structure_weight', '1.0', '--max_angle', '3.141592653589793', '--ae_network_type', 'mlp', '--env_name', 'pendulum', '--learn_rate', '0.0001', '--vae_weight', '0.01']\n"
     ]
    },
    {
     "name": "stdout",
     "output_type": "stream",
     "text": [
      "['python', 'train_hnn.py', '--dyn_network_type', 'LagNet', '--dyn_input_dim', '4', '--dyn_weight', '1.0', '--structure_weight', '1.0', '--max_angle', '0.5235987755982988', '--ae_network_type', 'vae', '--env_name', 'acrobot', '--learn_rate', '0.0001', '--vae_weight', '0.01']\n",
      "['python', 'train_hnn.py', '--dyn_network_type', 'LagNet', '--dyn_input_dim', '6', '--dyn_weight', '1.0', '--structure_weight', '1.0', '--max_angle', '0.5235987755982988', '--ae_network_type', 'vae', '--env_name', 'acrobot', '--learn_rate', '0.0001', '--vae_weight', '0.01']\n",
      "['python', 'train_hnn.py', '--dyn_network_type', 'LagNet', '--dyn_input_dim', '4', '--dyn_weight', '1.0', '--structure_weight', '1.0', '--max_angle', '0.5235987755982988', '--ae_network_type', 'mlp', '--env_name', 'acrobot', '--learn_rate', '0.0001', '--vae_weight', '0.01']\n",
      "['python', 'train_hnn.py', '--dyn_network_type', 'LagNet', '--dyn_input_dim', '6', '--dyn_weight', '1.0', '--structure_weight', '1.0', '--max_angle', '0.5235987755982988', '--ae_network_type', 'mlp', '--env_name', 'acrobot', '--learn_rate', '0.0001', '--vae_weight', '0.01']\n",
      "['python', 'train_hnn.py', '--dyn_network_type', 'LagNet', '--dyn_input_dim', '2', '--dyn_weight', '0.1', '--structure_weight', '1.0', '--max_angle', '0.5235987755982988', '--ae_network_type', 'vae', '--env_name', 'pendulum', '--learn_rate', '0.0001', '--vae_weight', '0.01']\n",
      "['python', 'train_hnn.py', '--dyn_network_type', 'LagNet', '--dyn_input_dim', '2', '--dyn_weight', '0.1', '--structure_weight', '1.0', '--max_angle', '1.0471975511965976', '--ae_network_type', 'vae', '--env_name', 'pendulum', '--learn_rate', '0.0001', '--vae_weight', '0.01']\n",
      "['python', 'train_hnn.py', '--dyn_network_type', 'LagNet', '--dyn_input_dim', '2', '--dyn_weight', '0.1', '--structure_weight', '1.0', '--max_angle', '1.5707963267948966', '--ae_network_type', 'vae', '--env_name', 'pendulum', '--learn_rate', '0.0001', '--vae_weight', '0.01']\n",
      "['python', 'train_hnn.py', '--dyn_network_type', 'LagNet', '--dyn_input_dim', '2', '--dyn_weight', '0.1', '--structure_weight', '1.0', '--max_angle', '3.141592653589793', '--ae_network_type', 'vae', '--env_name', 'pendulum', '--learn_rate', '0.0001', '--vae_weight', '0.01']\n",
      "['python', 'train_hnn.py', '--dyn_network_type', 'LagNet', '--dyn_input_dim', '4', '--dyn_weight', '0.1', '--structure_weight', '1.0', '--max_angle', '0.5235987755982988', '--ae_network_type', 'vae', '--env_name', 'pendulum', '--learn_rate', '0.0001', '--vae_weight', '0.01']\n",
      "['python', 'train_hnn.py', '--dyn_network_type', 'LagNet', '--dyn_input_dim', '4', '--dyn_weight', '0.1', '--structure_weight', '1.0', '--max_angle', '1.0471975511965976', '--ae_network_type', 'vae', '--env_name', 'pendulum', '--learn_rate', '0.0001', '--vae_weight', '0.01']\n",
      "['python', 'train_hnn.py', '--dyn_network_type', 'LagNet', '--dyn_input_dim', '4', '--dyn_weight', '0.1', '--structure_weight', '1.0', '--max_angle', '1.5707963267948966', '--ae_network_type', 'vae', '--env_name', 'pendulum', '--learn_rate', '0.0001', '--vae_weight', '0.01']\n",
      "['python', 'train_hnn.py', '--dyn_network_type', 'LagNet', '--dyn_input_dim', '4', '--dyn_weight', '0.1', '--structure_weight', '1.0', '--max_angle', '3.141592653589793', '--ae_network_type', 'vae', '--env_name', 'pendulum', '--learn_rate', '0.0001', '--vae_weight', '0.01']\n",
      "['python', 'train_hnn.py', '--dyn_network_type', 'LagNet', '--dyn_input_dim', '6', '--dyn_weight', '0.1', '--structure_weight', '1.0', '--max_angle', '0.5235987755982988', '--ae_network_type', 'vae', '--env_name', 'pendulum', '--learn_rate', '0.0001', '--vae_weight', '0.01']\n",
      "['python', 'train_hnn.py', '--dyn_network_type', 'LagNet', '--dyn_input_dim', '6', '--dyn_weight', '0.1', '--structure_weight', '1.0', '--max_angle', '1.0471975511965976', '--ae_network_type', 'vae', '--env_name', 'pendulum', '--learn_rate', '0.0001', '--vae_weight', '0.01']\n",
      "['python', 'train_hnn.py', '--dyn_network_type', 'LagNet', '--dyn_input_dim', '6', '--dyn_weight', '0.1', '--structure_weight', '1.0', '--max_angle', '1.5707963267948966', '--ae_network_type', 'vae', '--env_name', 'pendulum', '--learn_rate', '0.0001', '--vae_weight', '0.01']\n",
      "['python', 'train_hnn.py', '--dyn_network_type', 'LagNet', '--dyn_input_dim', '6', '--dyn_weight', '0.1', '--structure_weight', '1.0', '--max_angle', '3.141592653589793', '--ae_network_type', 'vae', '--env_name', 'pendulum', '--learn_rate', '0.0001', '--vae_weight', '0.01']\n",
      "['python', 'train_hnn.py', '--dyn_network_type', 'LagNet', '--dyn_input_dim', '2', '--dyn_weight', '0.1', '--structure_weight', '1.0', '--max_angle', '0.5235987755982988', '--ae_network_type', 'mlp', '--env_name', 'pendulum', '--learn_rate', '0.0001', '--vae_weight', '0.01']\n",
      "['python', 'train_hnn.py', '--dyn_network_type', 'LagNet', '--dyn_input_dim', '2', '--dyn_weight', '0.1', '--structure_weight', '1.0', '--max_angle', '1.0471975511965976', '--ae_network_type', 'mlp', '--env_name', 'pendulum', '--learn_rate', '0.0001', '--vae_weight', '0.01']\n",
      "['python', 'train_hnn.py', '--dyn_network_type', 'LagNet', '--dyn_input_dim', '2', '--dyn_weight', '0.1', '--structure_weight', '1.0', '--max_angle', '1.5707963267948966', '--ae_network_type', 'mlp', '--env_name', 'pendulum', '--learn_rate', '0.0001', '--vae_weight', '0.01']\n",
      "['python', 'train_hnn.py', '--dyn_network_type', 'LagNet', '--dyn_input_dim', '2', '--dyn_weight', '0.1', '--structure_weight', '1.0', '--max_angle', '3.141592653589793', '--ae_network_type', 'mlp', '--env_name', 'pendulum', '--learn_rate', '0.0001', '--vae_weight', '0.01']\n",
      "['python', 'train_hnn.py', '--dyn_network_type', 'LagNet', '--dyn_input_dim', '4', '--dyn_weight', '0.1', '--structure_weight', '1.0', '--max_angle', '0.5235987755982988', '--ae_network_type', 'mlp', '--env_name', 'pendulum', '--learn_rate', '0.0001', '--vae_weight', '0.01']\n",
      "['python', 'train_hnn.py', '--dyn_network_type', 'LagNet', '--dyn_input_dim', '4', '--dyn_weight', '0.1', '--structure_weight', '1.0', '--max_angle', '1.0471975511965976', '--ae_network_type', 'mlp', '--env_name', 'pendulum', '--learn_rate', '0.0001', '--vae_weight', '0.01']\n",
      "['python', 'train_hnn.py', '--dyn_network_type', 'LagNet', '--dyn_input_dim', '4', '--dyn_weight', '0.1', '--structure_weight', '1.0', '--max_angle', '1.5707963267948966', '--ae_network_type', 'mlp', '--env_name', 'pendulum', '--learn_rate', '0.0001', '--vae_weight', '0.01']\n",
      "['python', 'train_hnn.py', '--dyn_network_type', 'LagNet', '--dyn_input_dim', '4', '--dyn_weight', '0.1', '--structure_weight', '1.0', '--max_angle', '3.141592653589793', '--ae_network_type', 'mlp', '--env_name', 'pendulum', '--learn_rate', '0.0001', '--vae_weight', '0.01']\n",
      "['python', 'train_hnn.py', '--dyn_network_type', 'LagNet', '--dyn_input_dim', '6', '--dyn_weight', '0.1', '--structure_weight', '1.0', '--max_angle', '0.5235987755982988', '--ae_network_type', 'mlp', '--env_name', 'pendulum', '--learn_rate', '0.0001', '--vae_weight', '0.01']\n",
      "['python', 'train_hnn.py', '--dyn_network_type', 'LagNet', '--dyn_input_dim', '6', '--dyn_weight', '0.1', '--structure_weight', '1.0', '--max_angle', '1.0471975511965976', '--ae_network_type', 'mlp', '--env_name', 'pendulum', '--learn_rate', '0.0001', '--vae_weight', '0.01']\n",
      "['python', 'train_hnn.py', '--dyn_network_type', 'LagNet', '--dyn_input_dim', '6', '--dyn_weight', '0.1', '--structure_weight', '1.0', '--max_angle', '1.5707963267948966', '--ae_network_type', 'mlp', '--env_name', 'pendulum', '--learn_rate', '0.0001', '--vae_weight', '0.01']\n",
      "['python', 'train_hnn.py', '--dyn_network_type', 'LagNet', '--dyn_input_dim', '6', '--dyn_weight', '0.1', '--structure_weight', '1.0', '--max_angle', '3.141592653589793', '--ae_network_type', 'mlp', '--env_name', 'pendulum', '--learn_rate', '0.0001', '--vae_weight', '0.01']\n",
      "['python', 'train_hnn.py', '--dyn_network_type', 'LagNet', '--dyn_input_dim', '4', '--dyn_weight', '0.1', '--structure_weight', '1.0', '--max_angle', '0.5235987755982988', '--ae_network_type', 'vae', '--env_name', 'acrobot', '--learn_rate', '0.0001', '--vae_weight', '0.01']\n",
      "['python', 'train_hnn.py', '--dyn_network_type', 'LagNet', '--dyn_input_dim', '6', '--dyn_weight', '0.1', '--structure_weight', '1.0', '--max_angle', '0.5235987755982988', '--ae_network_type', 'vae', '--env_name', 'acrobot', '--learn_rate', '0.0001', '--vae_weight', '0.01']\n"
     ]
    },
    {
     "name": "stdout",
     "output_type": "stream",
     "text": [
      "['python', 'train_hnn.py', '--dyn_network_type', 'LagNet', '--dyn_input_dim', '4', '--dyn_weight', '0.1', '--structure_weight', '1.0', '--max_angle', '0.5235987755982988', '--ae_network_type', 'mlp', '--env_name', 'acrobot', '--learn_rate', '0.0001', '--vae_weight', '0.01']\n",
      "['python', 'train_hnn.py', '--dyn_network_type', 'LagNet', '--dyn_input_dim', '6', '--dyn_weight', '0.1', '--structure_weight', '1.0', '--max_angle', '0.5235987755982988', '--ae_network_type', 'mlp', '--env_name', 'acrobot', '--learn_rate', '0.0001', '--vae_weight', '0.01']\n",
      "['python', 'train_hnn.py', '--dyn_network_type', 'LagNet', '--dyn_input_dim', '2', '--dyn_weight', '0.01', '--structure_weight', '1.0', '--max_angle', '0.5235987755982988', '--ae_network_type', 'vae', '--env_name', 'pendulum', '--learn_rate', '0.0001', '--vae_weight', '0.01']\n",
      "['python', 'train_hnn.py', '--dyn_network_type', 'LagNet', '--dyn_input_dim', '2', '--dyn_weight', '0.01', '--structure_weight', '1.0', '--max_angle', '1.0471975511965976', '--ae_network_type', 'vae', '--env_name', 'pendulum', '--learn_rate', '0.0001', '--vae_weight', '0.01']\n",
      "['python', 'train_hnn.py', '--dyn_network_type', 'LagNet', '--dyn_input_dim', '2', '--dyn_weight', '0.01', '--structure_weight', '1.0', '--max_angle', '1.5707963267948966', '--ae_network_type', 'vae', '--env_name', 'pendulum', '--learn_rate', '0.0001', '--vae_weight', '0.01']\n",
      "['python', 'train_hnn.py', '--dyn_network_type', 'LagNet', '--dyn_input_dim', '2', '--dyn_weight', '0.01', '--structure_weight', '1.0', '--max_angle', '3.141592653589793', '--ae_network_type', 'vae', '--env_name', 'pendulum', '--learn_rate', '0.0001', '--vae_weight', '0.01']\n",
      "['python', 'train_hnn.py', '--dyn_network_type', 'LagNet', '--dyn_input_dim', '4', '--dyn_weight', '0.01', '--structure_weight', '1.0', '--max_angle', '0.5235987755982988', '--ae_network_type', 'vae', '--env_name', 'pendulum', '--learn_rate', '0.0001', '--vae_weight', '0.01']\n",
      "['python', 'train_hnn.py', '--dyn_network_type', 'LagNet', '--dyn_input_dim', '4', '--dyn_weight', '0.01', '--structure_weight', '1.0', '--max_angle', '1.0471975511965976', '--ae_network_type', 'vae', '--env_name', 'pendulum', '--learn_rate', '0.0001', '--vae_weight', '0.01']\n",
      "['python', 'train_hnn.py', '--dyn_network_type', 'LagNet', '--dyn_input_dim', '4', '--dyn_weight', '0.01', '--structure_weight', '1.0', '--max_angle', '1.5707963267948966', '--ae_network_type', 'vae', '--env_name', 'pendulum', '--learn_rate', '0.0001', '--vae_weight', '0.01']\n",
      "['python', 'train_hnn.py', '--dyn_network_type', 'LagNet', '--dyn_input_dim', '4', '--dyn_weight', '0.01', '--structure_weight', '1.0', '--max_angle', '3.141592653589793', '--ae_network_type', 'vae', '--env_name', 'pendulum', '--learn_rate', '0.0001', '--vae_weight', '0.01']\n",
      "['python', 'train_hnn.py', '--dyn_network_type', 'LagNet', '--dyn_input_dim', '6', '--dyn_weight', '0.01', '--structure_weight', '1.0', '--max_angle', '0.5235987755982988', '--ae_network_type', 'vae', '--env_name', 'pendulum', '--learn_rate', '0.0001', '--vae_weight', '0.01']\n",
      "['python', 'train_hnn.py', '--dyn_network_type', 'LagNet', '--dyn_input_dim', '6', '--dyn_weight', '0.01', '--structure_weight', '1.0', '--max_angle', '1.0471975511965976', '--ae_network_type', 'vae', '--env_name', 'pendulum', '--learn_rate', '0.0001', '--vae_weight', '0.01']\n",
      "['python', 'train_hnn.py', '--dyn_network_type', 'LagNet', '--dyn_input_dim', '6', '--dyn_weight', '0.01', '--structure_weight', '1.0', '--max_angle', '1.5707963267948966', '--ae_network_type', 'vae', '--env_name', 'pendulum', '--learn_rate', '0.0001', '--vae_weight', '0.01']\n",
      "['python', 'train_hnn.py', '--dyn_network_type', 'LagNet', '--dyn_input_dim', '6', '--dyn_weight', '0.01', '--structure_weight', '1.0', '--max_angle', '3.141592653589793', '--ae_network_type', 'vae', '--env_name', 'pendulum', '--learn_rate', '0.0001', '--vae_weight', '0.01']\n",
      "['python', 'train_hnn.py', '--dyn_network_type', 'LagNet', '--dyn_input_dim', '2', '--dyn_weight', '0.01', '--structure_weight', '1.0', '--max_angle', '0.5235987755982988', '--ae_network_type', 'mlp', '--env_name', 'pendulum', '--learn_rate', '0.0001', '--vae_weight', '0.01']\n",
      "['python', 'train_hnn.py', '--dyn_network_type', 'LagNet', '--dyn_input_dim', '2', '--dyn_weight', '0.01', '--structure_weight', '1.0', '--max_angle', '1.0471975511965976', '--ae_network_type', 'mlp', '--env_name', 'pendulum', '--learn_rate', '0.0001', '--vae_weight', '0.01']\n",
      "['python', 'train_hnn.py', '--dyn_network_type', 'LagNet', '--dyn_input_dim', '2', '--dyn_weight', '0.01', '--structure_weight', '1.0', '--max_angle', '1.5707963267948966', '--ae_network_type', 'mlp', '--env_name', 'pendulum', '--learn_rate', '0.0001', '--vae_weight', '0.01']\n",
      "['python', 'train_hnn.py', '--dyn_network_type', 'LagNet', '--dyn_input_dim', '2', '--dyn_weight', '0.01', '--structure_weight', '1.0', '--max_angle', '3.141592653589793', '--ae_network_type', 'mlp', '--env_name', 'pendulum', '--learn_rate', '0.0001', '--vae_weight', '0.01']\n",
      "['python', 'train_hnn.py', '--dyn_network_type', 'LagNet', '--dyn_input_dim', '4', '--dyn_weight', '0.01', '--structure_weight', '1.0', '--max_angle', '0.5235987755982988', '--ae_network_type', 'mlp', '--env_name', 'pendulum', '--learn_rate', '0.0001', '--vae_weight', '0.01']\n",
      "['python', 'train_hnn.py', '--dyn_network_type', 'LagNet', '--dyn_input_dim', '4', '--dyn_weight', '0.01', '--structure_weight', '1.0', '--max_angle', '1.0471975511965976', '--ae_network_type', 'mlp', '--env_name', 'pendulum', '--learn_rate', '0.0001', '--vae_weight', '0.01']\n",
      "['python', 'train_hnn.py', '--dyn_network_type', 'LagNet', '--dyn_input_dim', '4', '--dyn_weight', '0.01', '--structure_weight', '1.0', '--max_angle', '1.5707963267948966', '--ae_network_type', 'mlp', '--env_name', 'pendulum', '--learn_rate', '0.0001', '--vae_weight', '0.01']\n",
      "['python', 'train_hnn.py', '--dyn_network_type', 'LagNet', '--dyn_input_dim', '4', '--dyn_weight', '0.01', '--structure_weight', '1.0', '--max_angle', '3.141592653589793', '--ae_network_type', 'mlp', '--env_name', 'pendulum', '--learn_rate', '0.0001', '--vae_weight', '0.01']\n",
      "['python', 'train_hnn.py', '--dyn_network_type', 'LagNet', '--dyn_input_dim', '6', '--dyn_weight', '0.01', '--structure_weight', '1.0', '--max_angle', '0.5235987755982988', '--ae_network_type', 'mlp', '--env_name', 'pendulum', '--learn_rate', '0.0001', '--vae_weight', '0.01']\n",
      "['python', 'train_hnn.py', '--dyn_network_type', 'LagNet', '--dyn_input_dim', '6', '--dyn_weight', '0.01', '--structure_weight', '1.0', '--max_angle', '1.0471975511965976', '--ae_network_type', 'mlp', '--env_name', 'pendulum', '--learn_rate', '0.0001', '--vae_weight', '0.01']\n",
      "['python', 'train_hnn.py', '--dyn_network_type', 'LagNet', '--dyn_input_dim', '6', '--dyn_weight', '0.01', '--structure_weight', '1.0', '--max_angle', '1.5707963267948966', '--ae_network_type', 'mlp', '--env_name', 'pendulum', '--learn_rate', '0.0001', '--vae_weight', '0.01']\n",
      "['python', 'train_hnn.py', '--dyn_network_type', 'LagNet', '--dyn_input_dim', '6', '--dyn_weight', '0.01', '--structure_weight', '1.0', '--max_angle', '3.141592653589793', '--ae_network_type', 'mlp', '--env_name', 'pendulum', '--learn_rate', '0.0001', '--vae_weight', '0.01']\n",
      "['python', 'train_hnn.py', '--dyn_network_type', 'LagNet', '--dyn_input_dim', '4', '--dyn_weight', '0.01', '--structure_weight', '1.0', '--max_angle', '0.5235987755982988', '--ae_network_type', 'vae', '--env_name', 'acrobot', '--learn_rate', '0.0001', '--vae_weight', '0.01']\n",
      "['python', 'train_hnn.py', '--dyn_network_type', 'LagNet', '--dyn_input_dim', '6', '--dyn_weight', '0.01', '--structure_weight', '1.0', '--max_angle', '0.5235987755982988', '--ae_network_type', 'vae', '--env_name', 'acrobot', '--learn_rate', '0.0001', '--vae_weight', '0.01']\n",
      "['python', 'train_hnn.py', '--dyn_network_type', 'LagNet', '--dyn_input_dim', '4', '--dyn_weight', '0.01', '--structure_weight', '1.0', '--max_angle', '0.5235987755982988', '--ae_network_type', 'mlp', '--env_name', 'acrobot', '--learn_rate', '0.0001', '--vae_weight', '0.01']\n",
      "['python', 'train_hnn.py', '--dyn_network_type', 'LagNet', '--dyn_input_dim', '6', '--dyn_weight', '0.01', '--structure_weight', '1.0', '--max_angle', '0.5235987755982988', '--ae_network_type', 'mlp', '--env_name', 'acrobot', '--learn_rate', '0.0001', '--vae_weight', '0.01']\n"
     ]
    },
    {
     "name": "stdout",
     "output_type": "stream",
     "text": [
      "['python', 'train_hnn.py', '--dyn_network_type', 'LagNet', '--dyn_input_dim', '2', '--dyn_weight', '1.0', '--structure_weight', '1.0', '--max_angle', '0.5235987755982988', '--ae_network_type', 'vae', '--env_name', 'pendulum', '--learn_rate', '1e-05', '--vae_weight', '0.01']\n",
      "['python', 'train_hnn.py', '--dyn_network_type', 'LagNet', '--dyn_input_dim', '2', '--dyn_weight', '1.0', '--structure_weight', '1.0', '--max_angle', '1.0471975511965976', '--ae_network_type', 'vae', '--env_name', 'pendulum', '--learn_rate', '1e-05', '--vae_weight', '0.01']\n",
      "['python', 'train_hnn.py', '--dyn_network_type', 'LagNet', '--dyn_input_dim', '2', '--dyn_weight', '1.0', '--structure_weight', '1.0', '--max_angle', '1.5707963267948966', '--ae_network_type', 'vae', '--env_name', 'pendulum', '--learn_rate', '1e-05', '--vae_weight', '0.01']\n",
      "['python', 'train_hnn.py', '--dyn_network_type', 'LagNet', '--dyn_input_dim', '2', '--dyn_weight', '1.0', '--structure_weight', '1.0', '--max_angle', '3.141592653589793', '--ae_network_type', 'vae', '--env_name', 'pendulum', '--learn_rate', '1e-05', '--vae_weight', '0.01']\n",
      "['python', 'train_hnn.py', '--dyn_network_type', 'LagNet', '--dyn_input_dim', '4', '--dyn_weight', '1.0', '--structure_weight', '1.0', '--max_angle', '0.5235987755982988', '--ae_network_type', 'vae', '--env_name', 'pendulum', '--learn_rate', '1e-05', '--vae_weight', '0.01']\n",
      "['python', 'train_hnn.py', '--dyn_network_type', 'LagNet', '--dyn_input_dim', '4', '--dyn_weight', '1.0', '--structure_weight', '1.0', '--max_angle', '1.0471975511965976', '--ae_network_type', 'vae', '--env_name', 'pendulum', '--learn_rate', '1e-05', '--vae_weight', '0.01']\n",
      "['python', 'train_hnn.py', '--dyn_network_type', 'LagNet', '--dyn_input_dim', '4', '--dyn_weight', '1.0', '--structure_weight', '1.0', '--max_angle', '1.5707963267948966', '--ae_network_type', 'vae', '--env_name', 'pendulum', '--learn_rate', '1e-05', '--vae_weight', '0.01']\n",
      "['python', 'train_hnn.py', '--dyn_network_type', 'LagNet', '--dyn_input_dim', '4', '--dyn_weight', '1.0', '--structure_weight', '1.0', '--max_angle', '3.141592653589793', '--ae_network_type', 'vae', '--env_name', 'pendulum', '--learn_rate', '1e-05', '--vae_weight', '0.01']\n",
      "['python', 'train_hnn.py', '--dyn_network_type', 'LagNet', '--dyn_input_dim', '6', '--dyn_weight', '1.0', '--structure_weight', '1.0', '--max_angle', '0.5235987755982988', '--ae_network_type', 'vae', '--env_name', 'pendulum', '--learn_rate', '1e-05', '--vae_weight', '0.01']\n",
      "['python', 'train_hnn.py', '--dyn_network_type', 'LagNet', '--dyn_input_dim', '6', '--dyn_weight', '1.0', '--structure_weight', '1.0', '--max_angle', '1.0471975511965976', '--ae_network_type', 'vae', '--env_name', 'pendulum', '--learn_rate', '1e-05', '--vae_weight', '0.01']\n",
      "['python', 'train_hnn.py', '--dyn_network_type', 'LagNet', '--dyn_input_dim', '6', '--dyn_weight', '1.0', '--structure_weight', '1.0', '--max_angle', '1.5707963267948966', '--ae_network_type', 'vae', '--env_name', 'pendulum', '--learn_rate', '1e-05', '--vae_weight', '0.01']\n",
      "['python', 'train_hnn.py', '--dyn_network_type', 'LagNet', '--dyn_input_dim', '6', '--dyn_weight', '1.0', '--structure_weight', '1.0', '--max_angle', '3.141592653589793', '--ae_network_type', 'vae', '--env_name', 'pendulum', '--learn_rate', '1e-05', '--vae_weight', '0.01']\n",
      "['python', 'train_hnn.py', '--dyn_network_type', 'LagNet', '--dyn_input_dim', '2', '--dyn_weight', '1.0', '--structure_weight', '1.0', '--max_angle', '0.5235987755982988', '--ae_network_type', 'mlp', '--env_name', 'pendulum', '--learn_rate', '1e-05', '--vae_weight', '0.01']\n",
      "['python', 'train_hnn.py', '--dyn_network_type', 'LagNet', '--dyn_input_dim', '2', '--dyn_weight', '1.0', '--structure_weight', '1.0', '--max_angle', '1.0471975511965976', '--ae_network_type', 'mlp', '--env_name', 'pendulum', '--learn_rate', '1e-05', '--vae_weight', '0.01']\n",
      "['python', 'train_hnn.py', '--dyn_network_type', 'LagNet', '--dyn_input_dim', '2', '--dyn_weight', '1.0', '--structure_weight', '1.0', '--max_angle', '1.5707963267948966', '--ae_network_type', 'mlp', '--env_name', 'pendulum', '--learn_rate', '1e-05', '--vae_weight', '0.01']\n",
      "['python', 'train_hnn.py', '--dyn_network_type', 'LagNet', '--dyn_input_dim', '2', '--dyn_weight', '1.0', '--structure_weight', '1.0', '--max_angle', '3.141592653589793', '--ae_network_type', 'mlp', '--env_name', 'pendulum', '--learn_rate', '1e-05', '--vae_weight', '0.01']\n",
      "['python', 'train_hnn.py', '--dyn_network_type', 'LagNet', '--dyn_input_dim', '4', '--dyn_weight', '1.0', '--structure_weight', '1.0', '--max_angle', '0.5235987755982988', '--ae_network_type', 'mlp', '--env_name', 'pendulum', '--learn_rate', '1e-05', '--vae_weight', '0.01']\n",
      "['python', 'train_hnn.py', '--dyn_network_type', 'LagNet', '--dyn_input_dim', '4', '--dyn_weight', '1.0', '--structure_weight', '1.0', '--max_angle', '1.0471975511965976', '--ae_network_type', 'mlp', '--env_name', 'pendulum', '--learn_rate', '1e-05', '--vae_weight', '0.01']\n",
      "['python', 'train_hnn.py', '--dyn_network_type', 'LagNet', '--dyn_input_dim', '4', '--dyn_weight', '1.0', '--structure_weight', '1.0', '--max_angle', '1.5707963267948966', '--ae_network_type', 'mlp', '--env_name', 'pendulum', '--learn_rate', '1e-05', '--vae_weight', '0.01']\n",
      "['python', 'train_hnn.py', '--dyn_network_type', 'LagNet', '--dyn_input_dim', '4', '--dyn_weight', '1.0', '--structure_weight', '1.0', '--max_angle', '3.141592653589793', '--ae_network_type', 'mlp', '--env_name', 'pendulum', '--learn_rate', '1e-05', '--vae_weight', '0.01']\n",
      "['python', 'train_hnn.py', '--dyn_network_type', 'LagNet', '--dyn_input_dim', '6', '--dyn_weight', '1.0', '--structure_weight', '1.0', '--max_angle', '0.5235987755982988', '--ae_network_type', 'mlp', '--env_name', 'pendulum', '--learn_rate', '1e-05', '--vae_weight', '0.01']\n",
      "['python', 'train_hnn.py', '--dyn_network_type', 'LagNet', '--dyn_input_dim', '6', '--dyn_weight', '1.0', '--structure_weight', '1.0', '--max_angle', '1.0471975511965976', '--ae_network_type', 'mlp', '--env_name', 'pendulum', '--learn_rate', '1e-05', '--vae_weight', '0.01']\n",
      "['python', 'train_hnn.py', '--dyn_network_type', 'LagNet', '--dyn_input_dim', '6', '--dyn_weight', '1.0', '--structure_weight', '1.0', '--max_angle', '1.5707963267948966', '--ae_network_type', 'mlp', '--env_name', 'pendulum', '--learn_rate', '1e-05', '--vae_weight', '0.01']\n",
      "['python', 'train_hnn.py', '--dyn_network_type', 'LagNet', '--dyn_input_dim', '6', '--dyn_weight', '1.0', '--structure_weight', '1.0', '--max_angle', '3.141592653589793', '--ae_network_type', 'mlp', '--env_name', 'pendulum', '--learn_rate', '1e-05', '--vae_weight', '0.01']\n",
      "['python', 'train_hnn.py', '--dyn_network_type', 'LagNet', '--dyn_input_dim', '4', '--dyn_weight', '1.0', '--structure_weight', '1.0', '--max_angle', '0.5235987755982988', '--ae_network_type', 'vae', '--env_name', 'acrobot', '--learn_rate', '1e-05', '--vae_weight', '0.01']\n",
      "['python', 'train_hnn.py', '--dyn_network_type', 'LagNet', '--dyn_input_dim', '6', '--dyn_weight', '1.0', '--structure_weight', '1.0', '--max_angle', '0.5235987755982988', '--ae_network_type', 'vae', '--env_name', 'acrobot', '--learn_rate', '1e-05', '--vae_weight', '0.01']\n",
      "['python', 'train_hnn.py', '--dyn_network_type', 'LagNet', '--dyn_input_dim', '4', '--dyn_weight', '1.0', '--structure_weight', '1.0', '--max_angle', '0.5235987755982988', '--ae_network_type', 'mlp', '--env_name', 'acrobot', '--learn_rate', '1e-05', '--vae_weight', '0.01']\n",
      "['python', 'train_hnn.py', '--dyn_network_type', 'LagNet', '--dyn_input_dim', '6', '--dyn_weight', '1.0', '--structure_weight', '1.0', '--max_angle', '0.5235987755982988', '--ae_network_type', 'mlp', '--env_name', 'acrobot', '--learn_rate', '1e-05', '--vae_weight', '0.01']\n",
      "['python', 'train_hnn.py', '--dyn_network_type', 'LagNet', '--dyn_input_dim', '2', '--dyn_weight', '0.1', '--structure_weight', '1.0', '--max_angle', '0.5235987755982988', '--ae_network_type', 'vae', '--env_name', 'pendulum', '--learn_rate', '1e-05', '--vae_weight', '0.01']\n",
      "['python', 'train_hnn.py', '--dyn_network_type', 'LagNet', '--dyn_input_dim', '2', '--dyn_weight', '0.1', '--structure_weight', '1.0', '--max_angle', '1.0471975511965976', '--ae_network_type', 'vae', '--env_name', 'pendulum', '--learn_rate', '1e-05', '--vae_weight', '0.01']\n"
     ]
    },
    {
     "name": "stdout",
     "output_type": "stream",
     "text": [
      "['python', 'train_hnn.py', '--dyn_network_type', 'LagNet', '--dyn_input_dim', '2', '--dyn_weight', '0.1', '--structure_weight', '1.0', '--max_angle', '1.5707963267948966', '--ae_network_type', 'vae', '--env_name', 'pendulum', '--learn_rate', '1e-05', '--vae_weight', '0.01']\n",
      "['python', 'train_hnn.py', '--dyn_network_type', 'LagNet', '--dyn_input_dim', '2', '--dyn_weight', '0.1', '--structure_weight', '1.0', '--max_angle', '3.141592653589793', '--ae_network_type', 'vae', '--env_name', 'pendulum', '--learn_rate', '1e-05', '--vae_weight', '0.01']\n",
      "['python', 'train_hnn.py', '--dyn_network_type', 'LagNet', '--dyn_input_dim', '4', '--dyn_weight', '0.1', '--structure_weight', '1.0', '--max_angle', '0.5235987755982988', '--ae_network_type', 'vae', '--env_name', 'pendulum', '--learn_rate', '1e-05', '--vae_weight', '0.01']\n",
      "['python', 'train_hnn.py', '--dyn_network_type', 'LagNet', '--dyn_input_dim', '4', '--dyn_weight', '0.1', '--structure_weight', '1.0', '--max_angle', '1.0471975511965976', '--ae_network_type', 'vae', '--env_name', 'pendulum', '--learn_rate', '1e-05', '--vae_weight', '0.01']\n",
      "['python', 'train_hnn.py', '--dyn_network_type', 'LagNet', '--dyn_input_dim', '4', '--dyn_weight', '0.1', '--structure_weight', '1.0', '--max_angle', '1.5707963267948966', '--ae_network_type', 'vae', '--env_name', 'pendulum', '--learn_rate', '1e-05', '--vae_weight', '0.01']\n",
      "['python', 'train_hnn.py', '--dyn_network_type', 'LagNet', '--dyn_input_dim', '4', '--dyn_weight', '0.1', '--structure_weight', '1.0', '--max_angle', '3.141592653589793', '--ae_network_type', 'vae', '--env_name', 'pendulum', '--learn_rate', '1e-05', '--vae_weight', '0.01']\n",
      "['python', 'train_hnn.py', '--dyn_network_type', 'LagNet', '--dyn_input_dim', '6', '--dyn_weight', '0.1', '--structure_weight', '1.0', '--max_angle', '0.5235987755982988', '--ae_network_type', 'vae', '--env_name', 'pendulum', '--learn_rate', '1e-05', '--vae_weight', '0.01']\n",
      "['python', 'train_hnn.py', '--dyn_network_type', 'LagNet', '--dyn_input_dim', '6', '--dyn_weight', '0.1', '--structure_weight', '1.0', '--max_angle', '1.0471975511965976', '--ae_network_type', 'vae', '--env_name', 'pendulum', '--learn_rate', '1e-05', '--vae_weight', '0.01']\n",
      "['python', 'train_hnn.py', '--dyn_network_type', 'LagNet', '--dyn_input_dim', '6', '--dyn_weight', '0.1', '--structure_weight', '1.0', '--max_angle', '1.5707963267948966', '--ae_network_type', 'vae', '--env_name', 'pendulum', '--learn_rate', '1e-05', '--vae_weight', '0.01']\n",
      "['python', 'train_hnn.py', '--dyn_network_type', 'LagNet', '--dyn_input_dim', '6', '--dyn_weight', '0.1', '--structure_weight', '1.0', '--max_angle', '3.141592653589793', '--ae_network_type', 'vae', '--env_name', 'pendulum', '--learn_rate', '1e-05', '--vae_weight', '0.01']\n",
      "['python', 'train_hnn.py', '--dyn_network_type', 'LagNet', '--dyn_input_dim', '2', '--dyn_weight', '0.1', '--structure_weight', '1.0', '--max_angle', '0.5235987755982988', '--ae_network_type', 'mlp', '--env_name', 'pendulum', '--learn_rate', '1e-05', '--vae_weight', '0.01']\n",
      "['python', 'train_hnn.py', '--dyn_network_type', 'LagNet', '--dyn_input_dim', '2', '--dyn_weight', '0.1', '--structure_weight', '1.0', '--max_angle', '1.0471975511965976', '--ae_network_type', 'mlp', '--env_name', 'pendulum', '--learn_rate', '1e-05', '--vae_weight', '0.01']\n",
      "['python', 'train_hnn.py', '--dyn_network_type', 'LagNet', '--dyn_input_dim', '2', '--dyn_weight', '0.1', '--structure_weight', '1.0', '--max_angle', '1.5707963267948966', '--ae_network_type', 'mlp', '--env_name', 'pendulum', '--learn_rate', '1e-05', '--vae_weight', '0.01']\n",
      "['python', 'train_hnn.py', '--dyn_network_type', 'LagNet', '--dyn_input_dim', '2', '--dyn_weight', '0.1', '--structure_weight', '1.0', '--max_angle', '3.141592653589793', '--ae_network_type', 'mlp', '--env_name', 'pendulum', '--learn_rate', '1e-05', '--vae_weight', '0.01']\n",
      "['python', 'train_hnn.py', '--dyn_network_type', 'LagNet', '--dyn_input_dim', '4', '--dyn_weight', '0.1', '--structure_weight', '1.0', '--max_angle', '0.5235987755982988', '--ae_network_type', 'mlp', '--env_name', 'pendulum', '--learn_rate', '1e-05', '--vae_weight', '0.01']\n",
      "['python', 'train_hnn.py', '--dyn_network_type', 'LagNet', '--dyn_input_dim', '4', '--dyn_weight', '0.1', '--structure_weight', '1.0', '--max_angle', '1.0471975511965976', '--ae_network_type', 'mlp', '--env_name', 'pendulum', '--learn_rate', '1e-05', '--vae_weight', '0.01']\n",
      "['python', 'train_hnn.py', '--dyn_network_type', 'LagNet', '--dyn_input_dim', '4', '--dyn_weight', '0.1', '--structure_weight', '1.0', '--max_angle', '1.5707963267948966', '--ae_network_type', 'mlp', '--env_name', 'pendulum', '--learn_rate', '1e-05', '--vae_weight', '0.01']\n",
      "['python', 'train_hnn.py', '--dyn_network_type', 'LagNet', '--dyn_input_dim', '4', '--dyn_weight', '0.1', '--structure_weight', '1.0', '--max_angle', '3.141592653589793', '--ae_network_type', 'mlp', '--env_name', 'pendulum', '--learn_rate', '1e-05', '--vae_weight', '0.01']\n",
      "['python', 'train_hnn.py', '--dyn_network_type', 'LagNet', '--dyn_input_dim', '6', '--dyn_weight', '0.1', '--structure_weight', '1.0', '--max_angle', '0.5235987755982988', '--ae_network_type', 'mlp', '--env_name', 'pendulum', '--learn_rate', '1e-05', '--vae_weight', '0.01']\n",
      "['python', 'train_hnn.py', '--dyn_network_type', 'LagNet', '--dyn_input_dim', '6', '--dyn_weight', '0.1', '--structure_weight', '1.0', '--max_angle', '1.0471975511965976', '--ae_network_type', 'mlp', '--env_name', 'pendulum', '--learn_rate', '1e-05', '--vae_weight', '0.01']\n",
      "['python', 'train_hnn.py', '--dyn_network_type', 'LagNet', '--dyn_input_dim', '6', '--dyn_weight', '0.1', '--structure_weight', '1.0', '--max_angle', '1.5707963267948966', '--ae_network_type', 'mlp', '--env_name', 'pendulum', '--learn_rate', '1e-05', '--vae_weight', '0.01']\n",
      "['python', 'train_hnn.py', '--dyn_network_type', 'LagNet', '--dyn_input_dim', '6', '--dyn_weight', '0.1', '--structure_weight', '1.0', '--max_angle', '3.141592653589793', '--ae_network_type', 'mlp', '--env_name', 'pendulum', '--learn_rate', '1e-05', '--vae_weight', '0.01']\n",
      "['python', 'train_hnn.py', '--dyn_network_type', 'LagNet', '--dyn_input_dim', '4', '--dyn_weight', '0.1', '--structure_weight', '1.0', '--max_angle', '0.5235987755982988', '--ae_network_type', 'vae', '--env_name', 'acrobot', '--learn_rate', '1e-05', '--vae_weight', '0.01']\n",
      "['python', 'train_hnn.py', '--dyn_network_type', 'LagNet', '--dyn_input_dim', '6', '--dyn_weight', '0.1', '--structure_weight', '1.0', '--max_angle', '0.5235987755982988', '--ae_network_type', 'vae', '--env_name', 'acrobot', '--learn_rate', '1e-05', '--vae_weight', '0.01']\n",
      "['python', 'train_hnn.py', '--dyn_network_type', 'LagNet', '--dyn_input_dim', '4', '--dyn_weight', '0.1', '--structure_weight', '1.0', '--max_angle', '0.5235987755982988', '--ae_network_type', 'mlp', '--env_name', 'acrobot', '--learn_rate', '1e-05', '--vae_weight', '0.01']\n",
      "['python', 'train_hnn.py', '--dyn_network_type', 'LagNet', '--dyn_input_dim', '6', '--dyn_weight', '0.1', '--structure_weight', '1.0', '--max_angle', '0.5235987755982988', '--ae_network_type', 'mlp', '--env_name', 'acrobot', '--learn_rate', '1e-05', '--vae_weight', '0.01']\n",
      "['python', 'train_hnn.py', '--dyn_network_type', 'LagNet', '--dyn_input_dim', '2', '--dyn_weight', '0.01', '--structure_weight', '1.0', '--max_angle', '0.5235987755982988', '--ae_network_type', 'vae', '--env_name', 'pendulum', '--learn_rate', '1e-05', '--vae_weight', '0.01']\n",
      "['python', 'train_hnn.py', '--dyn_network_type', 'LagNet', '--dyn_input_dim', '2', '--dyn_weight', '0.01', '--structure_weight', '1.0', '--max_angle', '1.0471975511965976', '--ae_network_type', 'vae', '--env_name', 'pendulum', '--learn_rate', '1e-05', '--vae_weight', '0.01']\n",
      "['python', 'train_hnn.py', '--dyn_network_type', 'LagNet', '--dyn_input_dim', '2', '--dyn_weight', '0.01', '--structure_weight', '1.0', '--max_angle', '1.5707963267948966', '--ae_network_type', 'vae', '--env_name', 'pendulum', '--learn_rate', '1e-05', '--vae_weight', '0.01']\n",
      "['python', 'train_hnn.py', '--dyn_network_type', 'LagNet', '--dyn_input_dim', '2', '--dyn_weight', '0.01', '--structure_weight', '1.0', '--max_angle', '3.141592653589793', '--ae_network_type', 'vae', '--env_name', 'pendulum', '--learn_rate', '1e-05', '--vae_weight', '0.01']\n"
     ]
    },
    {
     "name": "stdout",
     "output_type": "stream",
     "text": [
      "['python', 'train_hnn.py', '--dyn_network_type', 'LagNet', '--dyn_input_dim', '4', '--dyn_weight', '0.01', '--structure_weight', '1.0', '--max_angle', '0.5235987755982988', '--ae_network_type', 'vae', '--env_name', 'pendulum', '--learn_rate', '1e-05', '--vae_weight', '0.01']\n",
      "['python', 'train_hnn.py', '--dyn_network_type', 'LagNet', '--dyn_input_dim', '4', '--dyn_weight', '0.01', '--structure_weight', '1.0', '--max_angle', '1.0471975511965976', '--ae_network_type', 'vae', '--env_name', 'pendulum', '--learn_rate', '1e-05', '--vae_weight', '0.01']\n",
      "['python', 'train_hnn.py', '--dyn_network_type', 'LagNet', '--dyn_input_dim', '4', '--dyn_weight', '0.01', '--structure_weight', '1.0', '--max_angle', '1.5707963267948966', '--ae_network_type', 'vae', '--env_name', 'pendulum', '--learn_rate', '1e-05', '--vae_weight', '0.01']\n",
      "['python', 'train_hnn.py', '--dyn_network_type', 'LagNet', '--dyn_input_dim', '4', '--dyn_weight', '0.01', '--structure_weight', '1.0', '--max_angle', '3.141592653589793', '--ae_network_type', 'vae', '--env_name', 'pendulum', '--learn_rate', '1e-05', '--vae_weight', '0.01']\n",
      "['python', 'train_hnn.py', '--dyn_network_type', 'LagNet', '--dyn_input_dim', '6', '--dyn_weight', '0.01', '--structure_weight', '1.0', '--max_angle', '0.5235987755982988', '--ae_network_type', 'vae', '--env_name', 'pendulum', '--learn_rate', '1e-05', '--vae_weight', '0.01']\n",
      "['python', 'train_hnn.py', '--dyn_network_type', 'LagNet', '--dyn_input_dim', '6', '--dyn_weight', '0.01', '--structure_weight', '1.0', '--max_angle', '1.0471975511965976', '--ae_network_type', 'vae', '--env_name', 'pendulum', '--learn_rate', '1e-05', '--vae_weight', '0.01']\n",
      "['python', 'train_hnn.py', '--dyn_network_type', 'LagNet', '--dyn_input_dim', '6', '--dyn_weight', '0.01', '--structure_weight', '1.0', '--max_angle', '1.5707963267948966', '--ae_network_type', 'vae', '--env_name', 'pendulum', '--learn_rate', '1e-05', '--vae_weight', '0.01']\n",
      "['python', 'train_hnn.py', '--dyn_network_type', 'LagNet', '--dyn_input_dim', '6', '--dyn_weight', '0.01', '--structure_weight', '1.0', '--max_angle', '3.141592653589793', '--ae_network_type', 'vae', '--env_name', 'pendulum', '--learn_rate', '1e-05', '--vae_weight', '0.01']\n",
      "['python', 'train_hnn.py', '--dyn_network_type', 'LagNet', '--dyn_input_dim', '2', '--dyn_weight', '0.01', '--structure_weight', '1.0', '--max_angle', '0.5235987755982988', '--ae_network_type', 'mlp', '--env_name', 'pendulum', '--learn_rate', '1e-05', '--vae_weight', '0.01']\n",
      "['python', 'train_hnn.py', '--dyn_network_type', 'LagNet', '--dyn_input_dim', '2', '--dyn_weight', '0.01', '--structure_weight', '1.0', '--max_angle', '1.0471975511965976', '--ae_network_type', 'mlp', '--env_name', 'pendulum', '--learn_rate', '1e-05', '--vae_weight', '0.01']\n",
      "['python', 'train_hnn.py', '--dyn_network_type', 'LagNet', '--dyn_input_dim', '2', '--dyn_weight', '0.01', '--structure_weight', '1.0', '--max_angle', '1.5707963267948966', '--ae_network_type', 'mlp', '--env_name', 'pendulum', '--learn_rate', '1e-05', '--vae_weight', '0.01']\n",
      "['python', 'train_hnn.py', '--dyn_network_type', 'LagNet', '--dyn_input_dim', '2', '--dyn_weight', '0.01', '--structure_weight', '1.0', '--max_angle', '3.141592653589793', '--ae_network_type', 'mlp', '--env_name', 'pendulum', '--learn_rate', '1e-05', '--vae_weight', '0.01']\n",
      "['python', 'train_hnn.py', '--dyn_network_type', 'LagNet', '--dyn_input_dim', '4', '--dyn_weight', '0.01', '--structure_weight', '1.0', '--max_angle', '0.5235987755982988', '--ae_network_type', 'mlp', '--env_name', 'pendulum', '--learn_rate', '1e-05', '--vae_weight', '0.01']\n",
      "['python', 'train_hnn.py', '--dyn_network_type', 'LagNet', '--dyn_input_dim', '4', '--dyn_weight', '0.01', '--structure_weight', '1.0', '--max_angle', '1.0471975511965976', '--ae_network_type', 'mlp', '--env_name', 'pendulum', '--learn_rate', '1e-05', '--vae_weight', '0.01']\n",
      "['python', 'train_hnn.py', '--dyn_network_type', 'LagNet', '--dyn_input_dim', '4', '--dyn_weight', '0.01', '--structure_weight', '1.0', '--max_angle', '1.5707963267948966', '--ae_network_type', 'mlp', '--env_name', 'pendulum', '--learn_rate', '1e-05', '--vae_weight', '0.01']\n",
      "['python', 'train_hnn.py', '--dyn_network_type', 'LagNet', '--dyn_input_dim', '4', '--dyn_weight', '0.01', '--structure_weight', '1.0', '--max_angle', '3.141592653589793', '--ae_network_type', 'mlp', '--env_name', 'pendulum', '--learn_rate', '1e-05', '--vae_weight', '0.01']\n",
      "['python', 'train_hnn.py', '--dyn_network_type', 'LagNet', '--dyn_input_dim', '6', '--dyn_weight', '0.01', '--structure_weight', '1.0', '--max_angle', '0.5235987755982988', '--ae_network_type', 'mlp', '--env_name', 'pendulum', '--learn_rate', '1e-05', '--vae_weight', '0.01']\n",
      "['python', 'train_hnn.py', '--dyn_network_type', 'LagNet', '--dyn_input_dim', '6', '--dyn_weight', '0.01', '--structure_weight', '1.0', '--max_angle', '1.0471975511965976', '--ae_network_type', 'mlp', '--env_name', 'pendulum', '--learn_rate', '1e-05', '--vae_weight', '0.01']\n",
      "['python', 'train_hnn.py', '--dyn_network_type', 'LagNet', '--dyn_input_dim', '6', '--dyn_weight', '0.01', '--structure_weight', '1.0', '--max_angle', '1.5707963267948966', '--ae_network_type', 'mlp', '--env_name', 'pendulum', '--learn_rate', '1e-05', '--vae_weight', '0.01']\n",
      "['python', 'train_hnn.py', '--dyn_network_type', 'LagNet', '--dyn_input_dim', '6', '--dyn_weight', '0.01', '--structure_weight', '1.0', '--max_angle', '3.141592653589793', '--ae_network_type', 'mlp', '--env_name', 'pendulum', '--learn_rate', '1e-05', '--vae_weight', '0.01']\n",
      "['python', 'train_hnn.py', '--dyn_network_type', 'LagNet', '--dyn_input_dim', '4', '--dyn_weight', '0.01', '--structure_weight', '1.0', '--max_angle', '0.5235987755982988', '--ae_network_type', 'vae', '--env_name', 'acrobot', '--learn_rate', '1e-05', '--vae_weight', '0.01']\n",
      "['python', 'train_hnn.py', '--dyn_network_type', 'LagNet', '--dyn_input_dim', '6', '--dyn_weight', '0.01', '--structure_weight', '1.0', '--max_angle', '0.5235987755982988', '--ae_network_type', 'vae', '--env_name', 'acrobot', '--learn_rate', '1e-05', '--vae_weight', '0.01']\n",
      "['python', 'train_hnn.py', '--dyn_network_type', 'LagNet', '--dyn_input_dim', '4', '--dyn_weight', '0.01', '--structure_weight', '1.0', '--max_angle', '0.5235987755982988', '--ae_network_type', 'mlp', '--env_name', 'acrobot', '--learn_rate', '1e-05', '--vae_weight', '0.01']\n",
      "['python', 'train_hnn.py', '--dyn_network_type', 'LagNet', '--dyn_input_dim', '6', '--dyn_weight', '0.01', '--structure_weight', '1.0', '--max_angle', '0.5235987755982988', '--ae_network_type', 'mlp', '--env_name', 'acrobot', '--learn_rate', '1e-05', '--vae_weight', '0.01']\n",
      "['python', 'train_hnn.py', '--dyn_network_type', 'LagNet', '--dyn_input_dim', '2', '--dyn_weight', '1.0', '--structure_weight', '1.0', '--max_angle', '0.5235987755982988', '--ae_network_type', 'vae', '--env_name', 'pendulum', '--learn_rate', '0.001', '--vae_weight', '0.1']\n",
      "['python', 'train_hnn.py', '--dyn_network_type', 'LagNet', '--dyn_input_dim', '2', '--dyn_weight', '1.0', '--structure_weight', '1.0', '--max_angle', '1.0471975511965976', '--ae_network_type', 'vae', '--env_name', 'pendulum', '--learn_rate', '0.001', '--vae_weight', '0.1']\n",
      "['python', 'train_hnn.py', '--dyn_network_type', 'LagNet', '--dyn_input_dim', '2', '--dyn_weight', '1.0', '--structure_weight', '1.0', '--max_angle', '1.5707963267948966', '--ae_network_type', 'vae', '--env_name', 'pendulum', '--learn_rate', '0.001', '--vae_weight', '0.1']\n",
      "['python', 'train_hnn.py', '--dyn_network_type', 'LagNet', '--dyn_input_dim', '2', '--dyn_weight', '1.0', '--structure_weight', '1.0', '--max_angle', '3.141592653589793', '--ae_network_type', 'vae', '--env_name', 'pendulum', '--learn_rate', '0.001', '--vae_weight', '0.1']\n",
      "['python', 'train_hnn.py', '--dyn_network_type', 'LagNet', '--dyn_input_dim', '4', '--dyn_weight', '1.0', '--structure_weight', '1.0', '--max_angle', '0.5235987755982988', '--ae_network_type', 'vae', '--env_name', 'pendulum', '--learn_rate', '0.001', '--vae_weight', '0.1']\n",
      "['python', 'train_hnn.py', '--dyn_network_type', 'LagNet', '--dyn_input_dim', '4', '--dyn_weight', '1.0', '--structure_weight', '1.0', '--max_angle', '1.0471975511965976', '--ae_network_type', 'vae', '--env_name', 'pendulum', '--learn_rate', '0.001', '--vae_weight', '0.1']\n"
     ]
    },
    {
     "name": "stdout",
     "output_type": "stream",
     "text": [
      "['python', 'train_hnn.py', '--dyn_network_type', 'LagNet', '--dyn_input_dim', '4', '--dyn_weight', '1.0', '--structure_weight', '1.0', '--max_angle', '1.5707963267948966', '--ae_network_type', 'vae', '--env_name', 'pendulum', '--learn_rate', '0.001', '--vae_weight', '0.1']\n",
      "['python', 'train_hnn.py', '--dyn_network_type', 'LagNet', '--dyn_input_dim', '4', '--dyn_weight', '1.0', '--structure_weight', '1.0', '--max_angle', '3.141592653589793', '--ae_network_type', 'vae', '--env_name', 'pendulum', '--learn_rate', '0.001', '--vae_weight', '0.1']\n",
      "['python', 'train_hnn.py', '--dyn_network_type', 'LagNet', '--dyn_input_dim', '6', '--dyn_weight', '1.0', '--structure_weight', '1.0', '--max_angle', '0.5235987755982988', '--ae_network_type', 'vae', '--env_name', 'pendulum', '--learn_rate', '0.001', '--vae_weight', '0.1']\n",
      "['python', 'train_hnn.py', '--dyn_network_type', 'LagNet', '--dyn_input_dim', '6', '--dyn_weight', '1.0', '--structure_weight', '1.0', '--max_angle', '1.0471975511965976', '--ae_network_type', 'vae', '--env_name', 'pendulum', '--learn_rate', '0.001', '--vae_weight', '0.1']\n",
      "['python', 'train_hnn.py', '--dyn_network_type', 'LagNet', '--dyn_input_dim', '6', '--dyn_weight', '1.0', '--structure_weight', '1.0', '--max_angle', '1.5707963267948966', '--ae_network_type', 'vae', '--env_name', 'pendulum', '--learn_rate', '0.001', '--vae_weight', '0.1']\n",
      "['python', 'train_hnn.py', '--dyn_network_type', 'LagNet', '--dyn_input_dim', '6', '--dyn_weight', '1.0', '--structure_weight', '1.0', '--max_angle', '3.141592653589793', '--ae_network_type', 'vae', '--env_name', 'pendulum', '--learn_rate', '0.001', '--vae_weight', '0.1']\n",
      "['python', 'train_hnn.py', '--dyn_network_type', 'LagNet', '--dyn_input_dim', '2', '--dyn_weight', '1.0', '--structure_weight', '1.0', '--max_angle', '0.5235987755982988', '--ae_network_type', 'mlp', '--env_name', 'pendulum', '--learn_rate', '0.001', '--vae_weight', '0.1']\n",
      "['python', 'train_hnn.py', '--dyn_network_type', 'LagNet', '--dyn_input_dim', '2', '--dyn_weight', '1.0', '--structure_weight', '1.0', '--max_angle', '1.0471975511965976', '--ae_network_type', 'mlp', '--env_name', 'pendulum', '--learn_rate', '0.001', '--vae_weight', '0.1']\n",
      "['python', 'train_hnn.py', '--dyn_network_type', 'LagNet', '--dyn_input_dim', '2', '--dyn_weight', '1.0', '--structure_weight', '1.0', '--max_angle', '1.5707963267948966', '--ae_network_type', 'mlp', '--env_name', 'pendulum', '--learn_rate', '0.001', '--vae_weight', '0.1']\n",
      "['python', 'train_hnn.py', '--dyn_network_type', 'LagNet', '--dyn_input_dim', '2', '--dyn_weight', '1.0', '--structure_weight', '1.0', '--max_angle', '3.141592653589793', '--ae_network_type', 'mlp', '--env_name', 'pendulum', '--learn_rate', '0.001', '--vae_weight', '0.1']\n",
      "['python', 'train_hnn.py', '--dyn_network_type', 'LagNet', '--dyn_input_dim', '4', '--dyn_weight', '1.0', '--structure_weight', '1.0', '--max_angle', '0.5235987755982988', '--ae_network_type', 'mlp', '--env_name', 'pendulum', '--learn_rate', '0.001', '--vae_weight', '0.1']\n",
      "['python', 'train_hnn.py', '--dyn_network_type', 'LagNet', '--dyn_input_dim', '4', '--dyn_weight', '1.0', '--structure_weight', '1.0', '--max_angle', '1.0471975511965976', '--ae_network_type', 'mlp', '--env_name', 'pendulum', '--learn_rate', '0.001', '--vae_weight', '0.1']\n",
      "['python', 'train_hnn.py', '--dyn_network_type', 'LagNet', '--dyn_input_dim', '4', '--dyn_weight', '1.0', '--structure_weight', '1.0', '--max_angle', '1.5707963267948966', '--ae_network_type', 'mlp', '--env_name', 'pendulum', '--learn_rate', '0.001', '--vae_weight', '0.1']\n",
      "['python', 'train_hnn.py', '--dyn_network_type', 'LagNet', '--dyn_input_dim', '4', '--dyn_weight', '1.0', '--structure_weight', '1.0', '--max_angle', '3.141592653589793', '--ae_network_type', 'mlp', '--env_name', 'pendulum', '--learn_rate', '0.001', '--vae_weight', '0.1']\n",
      "['python', 'train_hnn.py', '--dyn_network_type', 'LagNet', '--dyn_input_dim', '6', '--dyn_weight', '1.0', '--structure_weight', '1.0', '--max_angle', '0.5235987755982988', '--ae_network_type', 'mlp', '--env_name', 'pendulum', '--learn_rate', '0.001', '--vae_weight', '0.1']\n",
      "['python', 'train_hnn.py', '--dyn_network_type', 'LagNet', '--dyn_input_dim', '6', '--dyn_weight', '1.0', '--structure_weight', '1.0', '--max_angle', '1.0471975511965976', '--ae_network_type', 'mlp', '--env_name', 'pendulum', '--learn_rate', '0.001', '--vae_weight', '0.1']\n",
      "['python', 'train_hnn.py', '--dyn_network_type', 'LagNet', '--dyn_input_dim', '6', '--dyn_weight', '1.0', '--structure_weight', '1.0', '--max_angle', '1.5707963267948966', '--ae_network_type', 'mlp', '--env_name', 'pendulum', '--learn_rate', '0.001', '--vae_weight', '0.1']\n",
      "['python', 'train_hnn.py', '--dyn_network_type', 'LagNet', '--dyn_input_dim', '6', '--dyn_weight', '1.0', '--structure_weight', '1.0', '--max_angle', '3.141592653589793', '--ae_network_type', 'mlp', '--env_name', 'pendulum', '--learn_rate', '0.001', '--vae_weight', '0.1']\n",
      "['python', 'train_hnn.py', '--dyn_network_type', 'LagNet', '--dyn_input_dim', '4', '--dyn_weight', '1.0', '--structure_weight', '1.0', '--max_angle', '0.5235987755982988', '--ae_network_type', 'vae', '--env_name', 'acrobot', '--learn_rate', '0.001', '--vae_weight', '0.1']\n",
      "['python', 'train_hnn.py', '--dyn_network_type', 'LagNet', '--dyn_input_dim', '6', '--dyn_weight', '1.0', '--structure_weight', '1.0', '--max_angle', '0.5235987755982988', '--ae_network_type', 'vae', '--env_name', 'acrobot', '--learn_rate', '0.001', '--vae_weight', '0.1']\n",
      "['python', 'train_hnn.py', '--dyn_network_type', 'LagNet', '--dyn_input_dim', '4', '--dyn_weight', '1.0', '--structure_weight', '1.0', '--max_angle', '0.5235987755982988', '--ae_network_type', 'mlp', '--env_name', 'acrobot', '--learn_rate', '0.001', '--vae_weight', '0.1']\n",
      "['python', 'train_hnn.py', '--dyn_network_type', 'LagNet', '--dyn_input_dim', '6', '--dyn_weight', '1.0', '--structure_weight', '1.0', '--max_angle', '0.5235987755982988', '--ae_network_type', 'mlp', '--env_name', 'acrobot', '--learn_rate', '0.001', '--vae_weight', '0.1']\n",
      "['python', 'train_hnn.py', '--dyn_network_type', 'LagNet', '--dyn_input_dim', '2', '--dyn_weight', '0.1', '--structure_weight', '1.0', '--max_angle', '0.5235987755982988', '--ae_network_type', 'vae', '--env_name', 'pendulum', '--learn_rate', '0.001', '--vae_weight', '0.1']\n",
      "['python', 'train_hnn.py', '--dyn_network_type', 'LagNet', '--dyn_input_dim', '2', '--dyn_weight', '0.1', '--structure_weight', '1.0', '--max_angle', '1.0471975511965976', '--ae_network_type', 'vae', '--env_name', 'pendulum', '--learn_rate', '0.001', '--vae_weight', '0.1']\n",
      "['python', 'train_hnn.py', '--dyn_network_type', 'LagNet', '--dyn_input_dim', '2', '--dyn_weight', '0.1', '--structure_weight', '1.0', '--max_angle', '1.5707963267948966', '--ae_network_type', 'vae', '--env_name', 'pendulum', '--learn_rate', '0.001', '--vae_weight', '0.1']\n",
      "['python', 'train_hnn.py', '--dyn_network_type', 'LagNet', '--dyn_input_dim', '2', '--dyn_weight', '0.1', '--structure_weight', '1.0', '--max_angle', '3.141592653589793', '--ae_network_type', 'vae', '--env_name', 'pendulum', '--learn_rate', '0.001', '--vae_weight', '0.1']\n",
      "['python', 'train_hnn.py', '--dyn_network_type', 'LagNet', '--dyn_input_dim', '4', '--dyn_weight', '0.1', '--structure_weight', '1.0', '--max_angle', '0.5235987755982988', '--ae_network_type', 'vae', '--env_name', 'pendulum', '--learn_rate', '0.001', '--vae_weight', '0.1']\n",
      "['python', 'train_hnn.py', '--dyn_network_type', 'LagNet', '--dyn_input_dim', '4', '--dyn_weight', '0.1', '--structure_weight', '1.0', '--max_angle', '1.0471975511965976', '--ae_network_type', 'vae', '--env_name', 'pendulum', '--learn_rate', '0.001', '--vae_weight', '0.1']\n",
      "['python', 'train_hnn.py', '--dyn_network_type', 'LagNet', '--dyn_input_dim', '4', '--dyn_weight', '0.1', '--structure_weight', '1.0', '--max_angle', '1.5707963267948966', '--ae_network_type', 'vae', '--env_name', 'pendulum', '--learn_rate', '0.001', '--vae_weight', '0.1']\n",
      "['python', 'train_hnn.py', '--dyn_network_type', 'LagNet', '--dyn_input_dim', '4', '--dyn_weight', '0.1', '--structure_weight', '1.0', '--max_angle', '3.141592653589793', '--ae_network_type', 'vae', '--env_name', 'pendulum', '--learn_rate', '0.001', '--vae_weight', '0.1']\n"
     ]
    },
    {
     "name": "stdout",
     "output_type": "stream",
     "text": [
      "['python', 'train_hnn.py', '--dyn_network_type', 'LagNet', '--dyn_input_dim', '6', '--dyn_weight', '0.1', '--structure_weight', '1.0', '--max_angle', '0.5235987755982988', '--ae_network_type', 'vae', '--env_name', 'pendulum', '--learn_rate', '0.001', '--vae_weight', '0.1']\n",
      "['python', 'train_hnn.py', '--dyn_network_type', 'LagNet', '--dyn_input_dim', '6', '--dyn_weight', '0.1', '--structure_weight', '1.0', '--max_angle', '1.0471975511965976', '--ae_network_type', 'vae', '--env_name', 'pendulum', '--learn_rate', '0.001', '--vae_weight', '0.1']\n",
      "['python', 'train_hnn.py', '--dyn_network_type', 'LagNet', '--dyn_input_dim', '6', '--dyn_weight', '0.1', '--structure_weight', '1.0', '--max_angle', '1.5707963267948966', '--ae_network_type', 'vae', '--env_name', 'pendulum', '--learn_rate', '0.001', '--vae_weight', '0.1']\n",
      "['python', 'train_hnn.py', '--dyn_network_type', 'LagNet', '--dyn_input_dim', '6', '--dyn_weight', '0.1', '--structure_weight', '1.0', '--max_angle', '3.141592653589793', '--ae_network_type', 'vae', '--env_name', 'pendulum', '--learn_rate', '0.001', '--vae_weight', '0.1']\n",
      "['python', 'train_hnn.py', '--dyn_network_type', 'LagNet', '--dyn_input_dim', '2', '--dyn_weight', '0.1', '--structure_weight', '1.0', '--max_angle', '0.5235987755982988', '--ae_network_type', 'mlp', '--env_name', 'pendulum', '--learn_rate', '0.001', '--vae_weight', '0.1']\n",
      "['python', 'train_hnn.py', '--dyn_network_type', 'LagNet', '--dyn_input_dim', '2', '--dyn_weight', '0.1', '--structure_weight', '1.0', '--max_angle', '1.0471975511965976', '--ae_network_type', 'mlp', '--env_name', 'pendulum', '--learn_rate', '0.001', '--vae_weight', '0.1']\n",
      "['python', 'train_hnn.py', '--dyn_network_type', 'LagNet', '--dyn_input_dim', '2', '--dyn_weight', '0.1', '--structure_weight', '1.0', '--max_angle', '1.5707963267948966', '--ae_network_type', 'mlp', '--env_name', 'pendulum', '--learn_rate', '0.001', '--vae_weight', '0.1']\n",
      "['python', 'train_hnn.py', '--dyn_network_type', 'LagNet', '--dyn_input_dim', '2', '--dyn_weight', '0.1', '--structure_weight', '1.0', '--max_angle', '3.141592653589793', '--ae_network_type', 'mlp', '--env_name', 'pendulum', '--learn_rate', '0.001', '--vae_weight', '0.1']\n",
      "['python', 'train_hnn.py', '--dyn_network_type', 'LagNet', '--dyn_input_dim', '4', '--dyn_weight', '0.1', '--structure_weight', '1.0', '--max_angle', '0.5235987755982988', '--ae_network_type', 'mlp', '--env_name', 'pendulum', '--learn_rate', '0.001', '--vae_weight', '0.1']\n",
      "['python', 'train_hnn.py', '--dyn_network_type', 'LagNet', '--dyn_input_dim', '4', '--dyn_weight', '0.1', '--structure_weight', '1.0', '--max_angle', '1.0471975511965976', '--ae_network_type', 'mlp', '--env_name', 'pendulum', '--learn_rate', '0.001', '--vae_weight', '0.1']\n",
      "['python', 'train_hnn.py', '--dyn_network_type', 'LagNet', '--dyn_input_dim', '4', '--dyn_weight', '0.1', '--structure_weight', '1.0', '--max_angle', '1.5707963267948966', '--ae_network_type', 'mlp', '--env_name', 'pendulum', '--learn_rate', '0.001', '--vae_weight', '0.1']\n",
      "['python', 'train_hnn.py', '--dyn_network_type', 'LagNet', '--dyn_input_dim', '4', '--dyn_weight', '0.1', '--structure_weight', '1.0', '--max_angle', '3.141592653589793', '--ae_network_type', 'mlp', '--env_name', 'pendulum', '--learn_rate', '0.001', '--vae_weight', '0.1']\n",
      "['python', 'train_hnn.py', '--dyn_network_type', 'LagNet', '--dyn_input_dim', '6', '--dyn_weight', '0.1', '--structure_weight', '1.0', '--max_angle', '0.5235987755982988', '--ae_network_type', 'mlp', '--env_name', 'pendulum', '--learn_rate', '0.001', '--vae_weight', '0.1']\n",
      "['python', 'train_hnn.py', '--dyn_network_type', 'LagNet', '--dyn_input_dim', '6', '--dyn_weight', '0.1', '--structure_weight', '1.0', '--max_angle', '1.0471975511965976', '--ae_network_type', 'mlp', '--env_name', 'pendulum', '--learn_rate', '0.001', '--vae_weight', '0.1']\n",
      "['python', 'train_hnn.py', '--dyn_network_type', 'LagNet', '--dyn_input_dim', '6', '--dyn_weight', '0.1', '--structure_weight', '1.0', '--max_angle', '1.5707963267948966', '--ae_network_type', 'mlp', '--env_name', 'pendulum', '--learn_rate', '0.001', '--vae_weight', '0.1']\n",
      "['python', 'train_hnn.py', '--dyn_network_type', 'LagNet', '--dyn_input_dim', '6', '--dyn_weight', '0.1', '--structure_weight', '1.0', '--max_angle', '3.141592653589793', '--ae_network_type', 'mlp', '--env_name', 'pendulum', '--learn_rate', '0.001', '--vae_weight', '0.1']\n",
      "['python', 'train_hnn.py', '--dyn_network_type', 'LagNet', '--dyn_input_dim', '4', '--dyn_weight', '0.1', '--structure_weight', '1.0', '--max_angle', '0.5235987755982988', '--ae_network_type', 'vae', '--env_name', 'acrobot', '--learn_rate', '0.001', '--vae_weight', '0.1']\n",
      "['python', 'train_hnn.py', '--dyn_network_type', 'LagNet', '--dyn_input_dim', '6', '--dyn_weight', '0.1', '--structure_weight', '1.0', '--max_angle', '0.5235987755982988', '--ae_network_type', 'vae', '--env_name', 'acrobot', '--learn_rate', '0.001', '--vae_weight', '0.1']\n",
      "['python', 'train_hnn.py', '--dyn_network_type', 'LagNet', '--dyn_input_dim', '4', '--dyn_weight', '0.1', '--structure_weight', '1.0', '--max_angle', '0.5235987755982988', '--ae_network_type', 'mlp', '--env_name', 'acrobot', '--learn_rate', '0.001', '--vae_weight', '0.1']\n",
      "['python', 'train_hnn.py', '--dyn_network_type', 'LagNet', '--dyn_input_dim', '6', '--dyn_weight', '0.1', '--structure_weight', '1.0', '--max_angle', '0.5235987755982988', '--ae_network_type', 'mlp', '--env_name', 'acrobot', '--learn_rate', '0.001', '--vae_weight', '0.1']\n",
      "['python', 'train_hnn.py', '--dyn_network_type', 'LagNet', '--dyn_input_dim', '2', '--dyn_weight', '0.01', '--structure_weight', '1.0', '--max_angle', '0.5235987755982988', '--ae_network_type', 'vae', '--env_name', 'pendulum', '--learn_rate', '0.001', '--vae_weight', '0.1']\n",
      "['python', 'train_hnn.py', '--dyn_network_type', 'LagNet', '--dyn_input_dim', '2', '--dyn_weight', '0.01', '--structure_weight', '1.0', '--max_angle', '1.0471975511965976', '--ae_network_type', 'vae', '--env_name', 'pendulum', '--learn_rate', '0.001', '--vae_weight', '0.1']\n",
      "['python', 'train_hnn.py', '--dyn_network_type', 'LagNet', '--dyn_input_dim', '2', '--dyn_weight', '0.01', '--structure_weight', '1.0', '--max_angle', '1.5707963267948966', '--ae_network_type', 'vae', '--env_name', 'pendulum', '--learn_rate', '0.001', '--vae_weight', '0.1']\n",
      "['python', 'train_hnn.py', '--dyn_network_type', 'LagNet', '--dyn_input_dim', '2', '--dyn_weight', '0.01', '--structure_weight', '1.0', '--max_angle', '3.141592653589793', '--ae_network_type', 'vae', '--env_name', 'pendulum', '--learn_rate', '0.001', '--vae_weight', '0.1']\n",
      "['python', 'train_hnn.py', '--dyn_network_type', 'LagNet', '--dyn_input_dim', '4', '--dyn_weight', '0.01', '--structure_weight', '1.0', '--max_angle', '0.5235987755982988', '--ae_network_type', 'vae', '--env_name', 'pendulum', '--learn_rate', '0.001', '--vae_weight', '0.1']\n",
      "['python', 'train_hnn.py', '--dyn_network_type', 'LagNet', '--dyn_input_dim', '4', '--dyn_weight', '0.01', '--structure_weight', '1.0', '--max_angle', '1.0471975511965976', '--ae_network_type', 'vae', '--env_name', 'pendulum', '--learn_rate', '0.001', '--vae_weight', '0.1']\n",
      "['python', 'train_hnn.py', '--dyn_network_type', 'LagNet', '--dyn_input_dim', '4', '--dyn_weight', '0.01', '--structure_weight', '1.0', '--max_angle', '1.5707963267948966', '--ae_network_type', 'vae', '--env_name', 'pendulum', '--learn_rate', '0.001', '--vae_weight', '0.1']\n",
      "['python', 'train_hnn.py', '--dyn_network_type', 'LagNet', '--dyn_input_dim', '4', '--dyn_weight', '0.01', '--structure_weight', '1.0', '--max_angle', '3.141592653589793', '--ae_network_type', 'vae', '--env_name', 'pendulum', '--learn_rate', '0.001', '--vae_weight', '0.1']\n",
      "['python', 'train_hnn.py', '--dyn_network_type', 'LagNet', '--dyn_input_dim', '6', '--dyn_weight', '0.01', '--structure_weight', '1.0', '--max_angle', '0.5235987755982988', '--ae_network_type', 'vae', '--env_name', 'pendulum', '--learn_rate', '0.001', '--vae_weight', '0.1']\n",
      "['python', 'train_hnn.py', '--dyn_network_type', 'LagNet', '--dyn_input_dim', '6', '--dyn_weight', '0.01', '--structure_weight', '1.0', '--max_angle', '1.0471975511965976', '--ae_network_type', 'vae', '--env_name', 'pendulum', '--learn_rate', '0.001', '--vae_weight', '0.1']\n"
     ]
    },
    {
     "name": "stdout",
     "output_type": "stream",
     "text": [
      "['python', 'train_hnn.py', '--dyn_network_type', 'LagNet', '--dyn_input_dim', '6', '--dyn_weight', '0.01', '--structure_weight', '1.0', '--max_angle', '1.5707963267948966', '--ae_network_type', 'vae', '--env_name', 'pendulum', '--learn_rate', '0.001', '--vae_weight', '0.1']\n",
      "['python', 'train_hnn.py', '--dyn_network_type', 'LagNet', '--dyn_input_dim', '6', '--dyn_weight', '0.01', '--structure_weight', '1.0', '--max_angle', '3.141592653589793', '--ae_network_type', 'vae', '--env_name', 'pendulum', '--learn_rate', '0.001', '--vae_weight', '0.1']\n",
      "['python', 'train_hnn.py', '--dyn_network_type', 'LagNet', '--dyn_input_dim', '2', '--dyn_weight', '0.01', '--structure_weight', '1.0', '--max_angle', '0.5235987755982988', '--ae_network_type', 'mlp', '--env_name', 'pendulum', '--learn_rate', '0.001', '--vae_weight', '0.1']\n",
      "['python', 'train_hnn.py', '--dyn_network_type', 'LagNet', '--dyn_input_dim', '2', '--dyn_weight', '0.01', '--structure_weight', '1.0', '--max_angle', '1.0471975511965976', '--ae_network_type', 'mlp', '--env_name', 'pendulum', '--learn_rate', '0.001', '--vae_weight', '0.1']\n",
      "['python', 'train_hnn.py', '--dyn_network_type', 'LagNet', '--dyn_input_dim', '2', '--dyn_weight', '0.01', '--structure_weight', '1.0', '--max_angle', '1.5707963267948966', '--ae_network_type', 'mlp', '--env_name', 'pendulum', '--learn_rate', '0.001', '--vae_weight', '0.1']\n",
      "['python', 'train_hnn.py', '--dyn_network_type', 'LagNet', '--dyn_input_dim', '2', '--dyn_weight', '0.01', '--structure_weight', '1.0', '--max_angle', '3.141592653589793', '--ae_network_type', 'mlp', '--env_name', 'pendulum', '--learn_rate', '0.001', '--vae_weight', '0.1']\n",
      "['python', 'train_hnn.py', '--dyn_network_type', 'LagNet', '--dyn_input_dim', '4', '--dyn_weight', '0.01', '--structure_weight', '1.0', '--max_angle', '0.5235987755982988', '--ae_network_type', 'mlp', '--env_name', 'pendulum', '--learn_rate', '0.001', '--vae_weight', '0.1']\n",
      "['python', 'train_hnn.py', '--dyn_network_type', 'LagNet', '--dyn_input_dim', '4', '--dyn_weight', '0.01', '--structure_weight', '1.0', '--max_angle', '1.0471975511965976', '--ae_network_type', 'mlp', '--env_name', 'pendulum', '--learn_rate', '0.001', '--vae_weight', '0.1']\n",
      "['python', 'train_hnn.py', '--dyn_network_type', 'LagNet', '--dyn_input_dim', '4', '--dyn_weight', '0.01', '--structure_weight', '1.0', '--max_angle', '1.5707963267948966', '--ae_network_type', 'mlp', '--env_name', 'pendulum', '--learn_rate', '0.001', '--vae_weight', '0.1']\n",
      "['python', 'train_hnn.py', '--dyn_network_type', 'LagNet', '--dyn_input_dim', '4', '--dyn_weight', '0.01', '--structure_weight', '1.0', '--max_angle', '3.141592653589793', '--ae_network_type', 'mlp', '--env_name', 'pendulum', '--learn_rate', '0.001', '--vae_weight', '0.1']\n",
      "['python', 'train_hnn.py', '--dyn_network_type', 'LagNet', '--dyn_input_dim', '6', '--dyn_weight', '0.01', '--structure_weight', '1.0', '--max_angle', '0.5235987755982988', '--ae_network_type', 'mlp', '--env_name', 'pendulum', '--learn_rate', '0.001', '--vae_weight', '0.1']\n",
      "['python', 'train_hnn.py', '--dyn_network_type', 'LagNet', '--dyn_input_dim', '6', '--dyn_weight', '0.01', '--structure_weight', '1.0', '--max_angle', '1.0471975511965976', '--ae_network_type', 'mlp', '--env_name', 'pendulum', '--learn_rate', '0.001', '--vae_weight', '0.1']\n",
      "['python', 'train_hnn.py', '--dyn_network_type', 'LagNet', '--dyn_input_dim', '6', '--dyn_weight', '0.01', '--structure_weight', '1.0', '--max_angle', '1.5707963267948966', '--ae_network_type', 'mlp', '--env_name', 'pendulum', '--learn_rate', '0.001', '--vae_weight', '0.1']\n",
      "['python', 'train_hnn.py', '--dyn_network_type', 'LagNet', '--dyn_input_dim', '6', '--dyn_weight', '0.01', '--structure_weight', '1.0', '--max_angle', '3.141592653589793', '--ae_network_type', 'mlp', '--env_name', 'pendulum', '--learn_rate', '0.001', '--vae_weight', '0.1']\n",
      "['python', 'train_hnn.py', '--dyn_network_type', 'LagNet', '--dyn_input_dim', '4', '--dyn_weight', '0.01', '--structure_weight', '1.0', '--max_angle', '0.5235987755982988', '--ae_network_type', 'vae', '--env_name', 'acrobot', '--learn_rate', '0.001', '--vae_weight', '0.1']\n",
      "['python', 'train_hnn.py', '--dyn_network_type', 'LagNet', '--dyn_input_dim', '6', '--dyn_weight', '0.01', '--structure_weight', '1.0', '--max_angle', '0.5235987755982988', '--ae_network_type', 'vae', '--env_name', 'acrobot', '--learn_rate', '0.001', '--vae_weight', '0.1']\n",
      "['python', 'train_hnn.py', '--dyn_network_type', 'LagNet', '--dyn_input_dim', '4', '--dyn_weight', '0.01', '--structure_weight', '1.0', '--max_angle', '0.5235987755982988', '--ae_network_type', 'mlp', '--env_name', 'acrobot', '--learn_rate', '0.001', '--vae_weight', '0.1']\n",
      "['python', 'train_hnn.py', '--dyn_network_type', 'LagNet', '--dyn_input_dim', '6', '--dyn_weight', '0.01', '--structure_weight', '1.0', '--max_angle', '0.5235987755982988', '--ae_network_type', 'mlp', '--env_name', 'acrobot', '--learn_rate', '0.001', '--vae_weight', '0.1']\n",
      "['python', 'train_hnn.py', '--dyn_network_type', 'LagNet', '--dyn_input_dim', '2', '--dyn_weight', '1.0', '--structure_weight', '1.0', '--max_angle', '0.5235987755982988', '--ae_network_type', 'vae', '--env_name', 'pendulum', '--learn_rate', '0.0001', '--vae_weight', '0.1']\n",
      "['python', 'train_hnn.py', '--dyn_network_type', 'LagNet', '--dyn_input_dim', '2', '--dyn_weight', '1.0', '--structure_weight', '1.0', '--max_angle', '1.0471975511965976', '--ae_network_type', 'vae', '--env_name', 'pendulum', '--learn_rate', '0.0001', '--vae_weight', '0.1']\n",
      "['python', 'train_hnn.py', '--dyn_network_type', 'LagNet', '--dyn_input_dim', '2', '--dyn_weight', '1.0', '--structure_weight', '1.0', '--max_angle', '1.5707963267948966', '--ae_network_type', 'vae', '--env_name', 'pendulum', '--learn_rate', '0.0001', '--vae_weight', '0.1']\n",
      "['python', 'train_hnn.py', '--dyn_network_type', 'LagNet', '--dyn_input_dim', '2', '--dyn_weight', '1.0', '--structure_weight', '1.0', '--max_angle', '3.141592653589793', '--ae_network_type', 'vae', '--env_name', 'pendulum', '--learn_rate', '0.0001', '--vae_weight', '0.1']\n",
      "['python', 'train_hnn.py', '--dyn_network_type', 'LagNet', '--dyn_input_dim', '4', '--dyn_weight', '1.0', '--structure_weight', '1.0', '--max_angle', '0.5235987755982988', '--ae_network_type', 'vae', '--env_name', 'pendulum', '--learn_rate', '0.0001', '--vae_weight', '0.1']\n",
      "['python', 'train_hnn.py', '--dyn_network_type', 'LagNet', '--dyn_input_dim', '4', '--dyn_weight', '1.0', '--structure_weight', '1.0', '--max_angle', '1.0471975511965976', '--ae_network_type', 'vae', '--env_name', 'pendulum', '--learn_rate', '0.0001', '--vae_weight', '0.1']\n",
      "['python', 'train_hnn.py', '--dyn_network_type', 'LagNet', '--dyn_input_dim', '4', '--dyn_weight', '1.0', '--structure_weight', '1.0', '--max_angle', '1.5707963267948966', '--ae_network_type', 'vae', '--env_name', 'pendulum', '--learn_rate', '0.0001', '--vae_weight', '0.1']\n",
      "['python', 'train_hnn.py', '--dyn_network_type', 'LagNet', '--dyn_input_dim', '4', '--dyn_weight', '1.0', '--structure_weight', '1.0', '--max_angle', '3.141592653589793', '--ae_network_type', 'vae', '--env_name', 'pendulum', '--learn_rate', '0.0001', '--vae_weight', '0.1']\n",
      "['python', 'train_hnn.py', '--dyn_network_type', 'LagNet', '--dyn_input_dim', '6', '--dyn_weight', '1.0', '--structure_weight', '1.0', '--max_angle', '0.5235987755982988', '--ae_network_type', 'vae', '--env_name', 'pendulum', '--learn_rate', '0.0001', '--vae_weight', '0.1']\n",
      "['python', 'train_hnn.py', '--dyn_network_type', 'LagNet', '--dyn_input_dim', '6', '--dyn_weight', '1.0', '--structure_weight', '1.0', '--max_angle', '1.0471975511965976', '--ae_network_type', 'vae', '--env_name', 'pendulum', '--learn_rate', '0.0001', '--vae_weight', '0.1']\n",
      "['python', 'train_hnn.py', '--dyn_network_type', 'LagNet', '--dyn_input_dim', '6', '--dyn_weight', '1.0', '--structure_weight', '1.0', '--max_angle', '1.5707963267948966', '--ae_network_type', 'vae', '--env_name', 'pendulum', '--learn_rate', '0.0001', '--vae_weight', '0.1']\n",
      "['python', 'train_hnn.py', '--dyn_network_type', 'LagNet', '--dyn_input_dim', '6', '--dyn_weight', '1.0', '--structure_weight', '1.0', '--max_angle', '3.141592653589793', '--ae_network_type', 'vae', '--env_name', 'pendulum', '--learn_rate', '0.0001', '--vae_weight', '0.1']\n"
     ]
    },
    {
     "name": "stdout",
     "output_type": "stream",
     "text": [
      "['python', 'train_hnn.py', '--dyn_network_type', 'LagNet', '--dyn_input_dim', '2', '--dyn_weight', '1.0', '--structure_weight', '1.0', '--max_angle', '0.5235987755982988', '--ae_network_type', 'mlp', '--env_name', 'pendulum', '--learn_rate', '0.0001', '--vae_weight', '0.1']\n",
      "['python', 'train_hnn.py', '--dyn_network_type', 'LagNet', '--dyn_input_dim', '2', '--dyn_weight', '1.0', '--structure_weight', '1.0', '--max_angle', '1.0471975511965976', '--ae_network_type', 'mlp', '--env_name', 'pendulum', '--learn_rate', '0.0001', '--vae_weight', '0.1']\n",
      "['python', 'train_hnn.py', '--dyn_network_type', 'LagNet', '--dyn_input_dim', '2', '--dyn_weight', '1.0', '--structure_weight', '1.0', '--max_angle', '1.5707963267948966', '--ae_network_type', 'mlp', '--env_name', 'pendulum', '--learn_rate', '0.0001', '--vae_weight', '0.1']\n",
      "['python', 'train_hnn.py', '--dyn_network_type', 'LagNet', '--dyn_input_dim', '2', '--dyn_weight', '1.0', '--structure_weight', '1.0', '--max_angle', '3.141592653589793', '--ae_network_type', 'mlp', '--env_name', 'pendulum', '--learn_rate', '0.0001', '--vae_weight', '0.1']\n",
      "['python', 'train_hnn.py', '--dyn_network_type', 'LagNet', '--dyn_input_dim', '4', '--dyn_weight', '1.0', '--structure_weight', '1.0', '--max_angle', '0.5235987755982988', '--ae_network_type', 'mlp', '--env_name', 'pendulum', '--learn_rate', '0.0001', '--vae_weight', '0.1']\n",
      "['python', 'train_hnn.py', '--dyn_network_type', 'LagNet', '--dyn_input_dim', '4', '--dyn_weight', '1.0', '--structure_weight', '1.0', '--max_angle', '1.0471975511965976', '--ae_network_type', 'mlp', '--env_name', 'pendulum', '--learn_rate', '0.0001', '--vae_weight', '0.1']\n",
      "['python', 'train_hnn.py', '--dyn_network_type', 'LagNet', '--dyn_input_dim', '4', '--dyn_weight', '1.0', '--structure_weight', '1.0', '--max_angle', '1.5707963267948966', '--ae_network_type', 'mlp', '--env_name', 'pendulum', '--learn_rate', '0.0001', '--vae_weight', '0.1']\n",
      "['python', 'train_hnn.py', '--dyn_network_type', 'LagNet', '--dyn_input_dim', '4', '--dyn_weight', '1.0', '--structure_weight', '1.0', '--max_angle', '3.141592653589793', '--ae_network_type', 'mlp', '--env_name', 'pendulum', '--learn_rate', '0.0001', '--vae_weight', '0.1']\n",
      "['python', 'train_hnn.py', '--dyn_network_type', 'LagNet', '--dyn_input_dim', '6', '--dyn_weight', '1.0', '--structure_weight', '1.0', '--max_angle', '0.5235987755982988', '--ae_network_type', 'mlp', '--env_name', 'pendulum', '--learn_rate', '0.0001', '--vae_weight', '0.1']\n",
      "['python', 'train_hnn.py', '--dyn_network_type', 'LagNet', '--dyn_input_dim', '6', '--dyn_weight', '1.0', '--structure_weight', '1.0', '--max_angle', '1.0471975511965976', '--ae_network_type', 'mlp', '--env_name', 'pendulum', '--learn_rate', '0.0001', '--vae_weight', '0.1']\n",
      "['python', 'train_hnn.py', '--dyn_network_type', 'LagNet', '--dyn_input_dim', '6', '--dyn_weight', '1.0', '--structure_weight', '1.0', '--max_angle', '1.5707963267948966', '--ae_network_type', 'mlp', '--env_name', 'pendulum', '--learn_rate', '0.0001', '--vae_weight', '0.1']\n",
      "['python', 'train_hnn.py', '--dyn_network_type', 'LagNet', '--dyn_input_dim', '6', '--dyn_weight', '1.0', '--structure_weight', '1.0', '--max_angle', '3.141592653589793', '--ae_network_type', 'mlp', '--env_name', 'pendulum', '--learn_rate', '0.0001', '--vae_weight', '0.1']\n",
      "['python', 'train_hnn.py', '--dyn_network_type', 'LagNet', '--dyn_input_dim', '4', '--dyn_weight', '1.0', '--structure_weight', '1.0', '--max_angle', '0.5235987755982988', '--ae_network_type', 'vae', '--env_name', 'acrobot', '--learn_rate', '0.0001', '--vae_weight', '0.1']\n",
      "['python', 'train_hnn.py', '--dyn_network_type', 'LagNet', '--dyn_input_dim', '6', '--dyn_weight', '1.0', '--structure_weight', '1.0', '--max_angle', '0.5235987755982988', '--ae_network_type', 'vae', '--env_name', 'acrobot', '--learn_rate', '0.0001', '--vae_weight', '0.1']\n",
      "['python', 'train_hnn.py', '--dyn_network_type', 'LagNet', '--dyn_input_dim', '4', '--dyn_weight', '1.0', '--structure_weight', '1.0', '--max_angle', '0.5235987755982988', '--ae_network_type', 'mlp', '--env_name', 'acrobot', '--learn_rate', '0.0001', '--vae_weight', '0.1']\n",
      "['python', 'train_hnn.py', '--dyn_network_type', 'LagNet', '--dyn_input_dim', '6', '--dyn_weight', '1.0', '--structure_weight', '1.0', '--max_angle', '0.5235987755982988', '--ae_network_type', 'mlp', '--env_name', 'acrobot', '--learn_rate', '0.0001', '--vae_weight', '0.1']\n",
      "['python', 'train_hnn.py', '--dyn_network_type', 'LagNet', '--dyn_input_dim', '2', '--dyn_weight', '0.1', '--structure_weight', '1.0', '--max_angle', '0.5235987755982988', '--ae_network_type', 'vae', '--env_name', 'pendulum', '--learn_rate', '0.0001', '--vae_weight', '0.1']\n",
      "['python', 'train_hnn.py', '--dyn_network_type', 'LagNet', '--dyn_input_dim', '2', '--dyn_weight', '0.1', '--structure_weight', '1.0', '--max_angle', '1.0471975511965976', '--ae_network_type', 'vae', '--env_name', 'pendulum', '--learn_rate', '0.0001', '--vae_weight', '0.1']\n",
      "['python', 'train_hnn.py', '--dyn_network_type', 'LagNet', '--dyn_input_dim', '2', '--dyn_weight', '0.1', '--structure_weight', '1.0', '--max_angle', '1.5707963267948966', '--ae_network_type', 'vae', '--env_name', 'pendulum', '--learn_rate', '0.0001', '--vae_weight', '0.1']\n",
      "['python', 'train_hnn.py', '--dyn_network_type', 'LagNet', '--dyn_input_dim', '2', '--dyn_weight', '0.1', '--structure_weight', '1.0', '--max_angle', '3.141592653589793', '--ae_network_type', 'vae', '--env_name', 'pendulum', '--learn_rate', '0.0001', '--vae_weight', '0.1']\n",
      "['python', 'train_hnn.py', '--dyn_network_type', 'LagNet', '--dyn_input_dim', '4', '--dyn_weight', '0.1', '--structure_weight', '1.0', '--max_angle', '0.5235987755982988', '--ae_network_type', 'vae', '--env_name', 'pendulum', '--learn_rate', '0.0001', '--vae_weight', '0.1']\n",
      "['python', 'train_hnn.py', '--dyn_network_type', 'LagNet', '--dyn_input_dim', '4', '--dyn_weight', '0.1', '--structure_weight', '1.0', '--max_angle', '1.0471975511965976', '--ae_network_type', 'vae', '--env_name', 'pendulum', '--learn_rate', '0.0001', '--vae_weight', '0.1']\n",
      "['python', 'train_hnn.py', '--dyn_network_type', 'LagNet', '--dyn_input_dim', '4', '--dyn_weight', '0.1', '--structure_weight', '1.0', '--max_angle', '1.5707963267948966', '--ae_network_type', 'vae', '--env_name', 'pendulum', '--learn_rate', '0.0001', '--vae_weight', '0.1']\n",
      "['python', 'train_hnn.py', '--dyn_network_type', 'LagNet', '--dyn_input_dim', '4', '--dyn_weight', '0.1', '--structure_weight', '1.0', '--max_angle', '3.141592653589793', '--ae_network_type', 'vae', '--env_name', 'pendulum', '--learn_rate', '0.0001', '--vae_weight', '0.1']\n",
      "['python', 'train_hnn.py', '--dyn_network_type', 'LagNet', '--dyn_input_dim', '6', '--dyn_weight', '0.1', '--structure_weight', '1.0', '--max_angle', '0.5235987755982988', '--ae_network_type', 'vae', '--env_name', 'pendulum', '--learn_rate', '0.0001', '--vae_weight', '0.1']\n",
      "['python', 'train_hnn.py', '--dyn_network_type', 'LagNet', '--dyn_input_dim', '6', '--dyn_weight', '0.1', '--structure_weight', '1.0', '--max_angle', '1.0471975511965976', '--ae_network_type', 'vae', '--env_name', 'pendulum', '--learn_rate', '0.0001', '--vae_weight', '0.1']\n",
      "['python', 'train_hnn.py', '--dyn_network_type', 'LagNet', '--dyn_input_dim', '6', '--dyn_weight', '0.1', '--structure_weight', '1.0', '--max_angle', '1.5707963267948966', '--ae_network_type', 'vae', '--env_name', 'pendulum', '--learn_rate', '0.0001', '--vae_weight', '0.1']\n",
      "['python', 'train_hnn.py', '--dyn_network_type', 'LagNet', '--dyn_input_dim', '6', '--dyn_weight', '0.1', '--structure_weight', '1.0', '--max_angle', '3.141592653589793', '--ae_network_type', 'vae', '--env_name', 'pendulum', '--learn_rate', '0.0001', '--vae_weight', '0.1']\n",
      "['python', 'train_hnn.py', '--dyn_network_type', 'LagNet', '--dyn_input_dim', '2', '--dyn_weight', '0.1', '--structure_weight', '1.0', '--max_angle', '0.5235987755982988', '--ae_network_type', 'mlp', '--env_name', 'pendulum', '--learn_rate', '0.0001', '--vae_weight', '0.1']\n",
      "['python', 'train_hnn.py', '--dyn_network_type', 'LagNet', '--dyn_input_dim', '2', '--dyn_weight', '0.1', '--structure_weight', '1.0', '--max_angle', '1.0471975511965976', '--ae_network_type', 'mlp', '--env_name', 'pendulum', '--learn_rate', '0.0001', '--vae_weight', '0.1']\n"
     ]
    },
    {
     "name": "stdout",
     "output_type": "stream",
     "text": [
      "['python', 'train_hnn.py', '--dyn_network_type', 'LagNet', '--dyn_input_dim', '2', '--dyn_weight', '0.1', '--structure_weight', '1.0', '--max_angle', '1.5707963267948966', '--ae_network_type', 'mlp', '--env_name', 'pendulum', '--learn_rate', '0.0001', '--vae_weight', '0.1']\n",
      "['python', 'train_hnn.py', '--dyn_network_type', 'LagNet', '--dyn_input_dim', '2', '--dyn_weight', '0.1', '--structure_weight', '1.0', '--max_angle', '3.141592653589793', '--ae_network_type', 'mlp', '--env_name', 'pendulum', '--learn_rate', '0.0001', '--vae_weight', '0.1']\n",
      "['python', 'train_hnn.py', '--dyn_network_type', 'LagNet', '--dyn_input_dim', '4', '--dyn_weight', '0.1', '--structure_weight', '1.0', '--max_angle', '0.5235987755982988', '--ae_network_type', 'mlp', '--env_name', 'pendulum', '--learn_rate', '0.0001', '--vae_weight', '0.1']\n",
      "['python', 'train_hnn.py', '--dyn_network_type', 'LagNet', '--dyn_input_dim', '4', '--dyn_weight', '0.1', '--structure_weight', '1.0', '--max_angle', '1.0471975511965976', '--ae_network_type', 'mlp', '--env_name', 'pendulum', '--learn_rate', '0.0001', '--vae_weight', '0.1']\n",
      "['python', 'train_hnn.py', '--dyn_network_type', 'LagNet', '--dyn_input_dim', '4', '--dyn_weight', '0.1', '--structure_weight', '1.0', '--max_angle', '1.5707963267948966', '--ae_network_type', 'mlp', '--env_name', 'pendulum', '--learn_rate', '0.0001', '--vae_weight', '0.1']\n",
      "['python', 'train_hnn.py', '--dyn_network_type', 'LagNet', '--dyn_input_dim', '4', '--dyn_weight', '0.1', '--structure_weight', '1.0', '--max_angle', '3.141592653589793', '--ae_network_type', 'mlp', '--env_name', 'pendulum', '--learn_rate', '0.0001', '--vae_weight', '0.1']\n",
      "['python', 'train_hnn.py', '--dyn_network_type', 'LagNet', '--dyn_input_dim', '6', '--dyn_weight', '0.1', '--structure_weight', '1.0', '--max_angle', '0.5235987755982988', '--ae_network_type', 'mlp', '--env_name', 'pendulum', '--learn_rate', '0.0001', '--vae_weight', '0.1']\n",
      "['python', 'train_hnn.py', '--dyn_network_type', 'LagNet', '--dyn_input_dim', '6', '--dyn_weight', '0.1', '--structure_weight', '1.0', '--max_angle', '1.0471975511965976', '--ae_network_type', 'mlp', '--env_name', 'pendulum', '--learn_rate', '0.0001', '--vae_weight', '0.1']\n",
      "['python', 'train_hnn.py', '--dyn_network_type', 'LagNet', '--dyn_input_dim', '6', '--dyn_weight', '0.1', '--structure_weight', '1.0', '--max_angle', '1.5707963267948966', '--ae_network_type', 'mlp', '--env_name', 'pendulum', '--learn_rate', '0.0001', '--vae_weight', '0.1']\n",
      "['python', 'train_hnn.py', '--dyn_network_type', 'LagNet', '--dyn_input_dim', '6', '--dyn_weight', '0.1', '--structure_weight', '1.0', '--max_angle', '3.141592653589793', '--ae_network_type', 'mlp', '--env_name', 'pendulum', '--learn_rate', '0.0001', '--vae_weight', '0.1']\n",
      "['python', 'train_hnn.py', '--dyn_network_type', 'LagNet', '--dyn_input_dim', '4', '--dyn_weight', '0.1', '--structure_weight', '1.0', '--max_angle', '0.5235987755982988', '--ae_network_type', 'vae', '--env_name', 'acrobot', '--learn_rate', '0.0001', '--vae_weight', '0.1']\n",
      "['python', 'train_hnn.py', '--dyn_network_type', 'LagNet', '--dyn_input_dim', '6', '--dyn_weight', '0.1', '--structure_weight', '1.0', '--max_angle', '0.5235987755982988', '--ae_network_type', 'vae', '--env_name', 'acrobot', '--learn_rate', '0.0001', '--vae_weight', '0.1']\n",
      "['python', 'train_hnn.py', '--dyn_network_type', 'LagNet', '--dyn_input_dim', '4', '--dyn_weight', '0.1', '--structure_weight', '1.0', '--max_angle', '0.5235987755982988', '--ae_network_type', 'mlp', '--env_name', 'acrobot', '--learn_rate', '0.0001', '--vae_weight', '0.1']\n",
      "['python', 'train_hnn.py', '--dyn_network_type', 'LagNet', '--dyn_input_dim', '6', '--dyn_weight', '0.1', '--structure_weight', '1.0', '--max_angle', '0.5235987755982988', '--ae_network_type', 'mlp', '--env_name', 'acrobot', '--learn_rate', '0.0001', '--vae_weight', '0.1']\n",
      "['python', 'train_hnn.py', '--dyn_network_type', 'LagNet', '--dyn_input_dim', '2', '--dyn_weight', '0.01', '--structure_weight', '1.0', '--max_angle', '0.5235987755982988', '--ae_network_type', 'vae', '--env_name', 'pendulum', '--learn_rate', '0.0001', '--vae_weight', '0.1']\n",
      "['python', 'train_hnn.py', '--dyn_network_type', 'LagNet', '--dyn_input_dim', '2', '--dyn_weight', '0.01', '--structure_weight', '1.0', '--max_angle', '1.0471975511965976', '--ae_network_type', 'vae', '--env_name', 'pendulum', '--learn_rate', '0.0001', '--vae_weight', '0.1']\n",
      "['python', 'train_hnn.py', '--dyn_network_type', 'LagNet', '--dyn_input_dim', '2', '--dyn_weight', '0.01', '--structure_weight', '1.0', '--max_angle', '1.5707963267948966', '--ae_network_type', 'vae', '--env_name', 'pendulum', '--learn_rate', '0.0001', '--vae_weight', '0.1']\n",
      "['python', 'train_hnn.py', '--dyn_network_type', 'LagNet', '--dyn_input_dim', '2', '--dyn_weight', '0.01', '--structure_weight', '1.0', '--max_angle', '3.141592653589793', '--ae_network_type', 'vae', '--env_name', 'pendulum', '--learn_rate', '0.0001', '--vae_weight', '0.1']\n",
      "['python', 'train_hnn.py', '--dyn_network_type', 'LagNet', '--dyn_input_dim', '4', '--dyn_weight', '0.01', '--structure_weight', '1.0', '--max_angle', '0.5235987755982988', '--ae_network_type', 'vae', '--env_name', 'pendulum', '--learn_rate', '0.0001', '--vae_weight', '0.1']\n",
      "['python', 'train_hnn.py', '--dyn_network_type', 'LagNet', '--dyn_input_dim', '4', '--dyn_weight', '0.01', '--structure_weight', '1.0', '--max_angle', '1.0471975511965976', '--ae_network_type', 'vae', '--env_name', 'pendulum', '--learn_rate', '0.0001', '--vae_weight', '0.1']\n",
      "['python', 'train_hnn.py', '--dyn_network_type', 'LagNet', '--dyn_input_dim', '4', '--dyn_weight', '0.01', '--structure_weight', '1.0', '--max_angle', '1.5707963267948966', '--ae_network_type', 'vae', '--env_name', 'pendulum', '--learn_rate', '0.0001', '--vae_weight', '0.1']\n",
      "['python', 'train_hnn.py', '--dyn_network_type', 'LagNet', '--dyn_input_dim', '4', '--dyn_weight', '0.01', '--structure_weight', '1.0', '--max_angle', '3.141592653589793', '--ae_network_type', 'vae', '--env_name', 'pendulum', '--learn_rate', '0.0001', '--vae_weight', '0.1']\n",
      "['python', 'train_hnn.py', '--dyn_network_type', 'LagNet', '--dyn_input_dim', '6', '--dyn_weight', '0.01', '--structure_weight', '1.0', '--max_angle', '0.5235987755982988', '--ae_network_type', 'vae', '--env_name', 'pendulum', '--learn_rate', '0.0001', '--vae_weight', '0.1']\n",
      "['python', 'train_hnn.py', '--dyn_network_type', 'LagNet', '--dyn_input_dim', '6', '--dyn_weight', '0.01', '--structure_weight', '1.0', '--max_angle', '1.0471975511965976', '--ae_network_type', 'vae', '--env_name', 'pendulum', '--learn_rate', '0.0001', '--vae_weight', '0.1']\n",
      "['python', 'train_hnn.py', '--dyn_network_type', 'LagNet', '--dyn_input_dim', '6', '--dyn_weight', '0.01', '--structure_weight', '1.0', '--max_angle', '1.5707963267948966', '--ae_network_type', 'vae', '--env_name', 'pendulum', '--learn_rate', '0.0001', '--vae_weight', '0.1']\n",
      "['python', 'train_hnn.py', '--dyn_network_type', 'LagNet', '--dyn_input_dim', '6', '--dyn_weight', '0.01', '--structure_weight', '1.0', '--max_angle', '3.141592653589793', '--ae_network_type', 'vae', '--env_name', 'pendulum', '--learn_rate', '0.0001', '--vae_weight', '0.1']\n",
      "['python', 'train_hnn.py', '--dyn_network_type', 'LagNet', '--dyn_input_dim', '2', '--dyn_weight', '0.01', '--structure_weight', '1.0', '--max_angle', '0.5235987755982988', '--ae_network_type', 'mlp', '--env_name', 'pendulum', '--learn_rate', '0.0001', '--vae_weight', '0.1']\n",
      "['python', 'train_hnn.py', '--dyn_network_type', 'LagNet', '--dyn_input_dim', '2', '--dyn_weight', '0.01', '--structure_weight', '1.0', '--max_angle', '1.0471975511965976', '--ae_network_type', 'mlp', '--env_name', 'pendulum', '--learn_rate', '0.0001', '--vae_weight', '0.1']\n",
      "['python', 'train_hnn.py', '--dyn_network_type', 'LagNet', '--dyn_input_dim', '2', '--dyn_weight', '0.01', '--structure_weight', '1.0', '--max_angle', '1.5707963267948966', '--ae_network_type', 'mlp', '--env_name', 'pendulum', '--learn_rate', '0.0001', '--vae_weight', '0.1']\n",
      "['python', 'train_hnn.py', '--dyn_network_type', 'LagNet', '--dyn_input_dim', '2', '--dyn_weight', '0.01', '--structure_weight', '1.0', '--max_angle', '3.141592653589793', '--ae_network_type', 'mlp', '--env_name', 'pendulum', '--learn_rate', '0.0001', '--vae_weight', '0.1']\n"
     ]
    },
    {
     "name": "stdout",
     "output_type": "stream",
     "text": [
      "['python', 'train_hnn.py', '--dyn_network_type', 'LagNet', '--dyn_input_dim', '4', '--dyn_weight', '0.01', '--structure_weight', '1.0', '--max_angle', '0.5235987755982988', '--ae_network_type', 'mlp', '--env_name', 'pendulum', '--learn_rate', '0.0001', '--vae_weight', '0.1']\n",
      "['python', 'train_hnn.py', '--dyn_network_type', 'LagNet', '--dyn_input_dim', '4', '--dyn_weight', '0.01', '--structure_weight', '1.0', '--max_angle', '1.0471975511965976', '--ae_network_type', 'mlp', '--env_name', 'pendulum', '--learn_rate', '0.0001', '--vae_weight', '0.1']\n",
      "['python', 'train_hnn.py', '--dyn_network_type', 'LagNet', '--dyn_input_dim', '4', '--dyn_weight', '0.01', '--structure_weight', '1.0', '--max_angle', '1.5707963267948966', '--ae_network_type', 'mlp', '--env_name', 'pendulum', '--learn_rate', '0.0001', '--vae_weight', '0.1']\n",
      "['python', 'train_hnn.py', '--dyn_network_type', 'LagNet', '--dyn_input_dim', '4', '--dyn_weight', '0.01', '--structure_weight', '1.0', '--max_angle', '3.141592653589793', '--ae_network_type', 'mlp', '--env_name', 'pendulum', '--learn_rate', '0.0001', '--vae_weight', '0.1']\n",
      "['python', 'train_hnn.py', '--dyn_network_type', 'LagNet', '--dyn_input_dim', '6', '--dyn_weight', '0.01', '--structure_weight', '1.0', '--max_angle', '0.5235987755982988', '--ae_network_type', 'mlp', '--env_name', 'pendulum', '--learn_rate', '0.0001', '--vae_weight', '0.1']\n",
      "['python', 'train_hnn.py', '--dyn_network_type', 'LagNet', '--dyn_input_dim', '6', '--dyn_weight', '0.01', '--structure_weight', '1.0', '--max_angle', '1.0471975511965976', '--ae_network_type', 'mlp', '--env_name', 'pendulum', '--learn_rate', '0.0001', '--vae_weight', '0.1']\n",
      "['python', 'train_hnn.py', '--dyn_network_type', 'LagNet', '--dyn_input_dim', '6', '--dyn_weight', '0.01', '--structure_weight', '1.0', '--max_angle', '1.5707963267948966', '--ae_network_type', 'mlp', '--env_name', 'pendulum', '--learn_rate', '0.0001', '--vae_weight', '0.1']\n",
      "['python', 'train_hnn.py', '--dyn_network_type', 'LagNet', '--dyn_input_dim', '6', '--dyn_weight', '0.01', '--structure_weight', '1.0', '--max_angle', '3.141592653589793', '--ae_network_type', 'mlp', '--env_name', 'pendulum', '--learn_rate', '0.0001', '--vae_weight', '0.1']\n",
      "['python', 'train_hnn.py', '--dyn_network_type', 'LagNet', '--dyn_input_dim', '4', '--dyn_weight', '0.01', '--structure_weight', '1.0', '--max_angle', '0.5235987755982988', '--ae_network_type', 'vae', '--env_name', 'acrobot', '--learn_rate', '0.0001', '--vae_weight', '0.1']\n",
      "['python', 'train_hnn.py', '--dyn_network_type', 'LagNet', '--dyn_input_dim', '6', '--dyn_weight', '0.01', '--structure_weight', '1.0', '--max_angle', '0.5235987755982988', '--ae_network_type', 'vae', '--env_name', 'acrobot', '--learn_rate', '0.0001', '--vae_weight', '0.1']\n",
      "['python', 'train_hnn.py', '--dyn_network_type', 'LagNet', '--dyn_input_dim', '4', '--dyn_weight', '0.01', '--structure_weight', '1.0', '--max_angle', '0.5235987755982988', '--ae_network_type', 'mlp', '--env_name', 'acrobot', '--learn_rate', '0.0001', '--vae_weight', '0.1']\n",
      "['python', 'train_hnn.py', '--dyn_network_type', 'LagNet', '--dyn_input_dim', '6', '--dyn_weight', '0.01', '--structure_weight', '1.0', '--max_angle', '0.5235987755982988', '--ae_network_type', 'mlp', '--env_name', 'acrobot', '--learn_rate', '0.0001', '--vae_weight', '0.1']\n",
      "['python', 'train_hnn.py', '--dyn_network_type', 'LagNet', '--dyn_input_dim', '2', '--dyn_weight', '1.0', '--structure_weight', '1.0', '--max_angle', '0.5235987755982988', '--ae_network_type', 'vae', '--env_name', 'pendulum', '--learn_rate', '1e-05', '--vae_weight', '0.1']\n",
      "['python', 'train_hnn.py', '--dyn_network_type', 'LagNet', '--dyn_input_dim', '2', '--dyn_weight', '1.0', '--structure_weight', '1.0', '--max_angle', '1.0471975511965976', '--ae_network_type', 'vae', '--env_name', 'pendulum', '--learn_rate', '1e-05', '--vae_weight', '0.1']\n",
      "['python', 'train_hnn.py', '--dyn_network_type', 'LagNet', '--dyn_input_dim', '2', '--dyn_weight', '1.0', '--structure_weight', '1.0', '--max_angle', '1.5707963267948966', '--ae_network_type', 'vae', '--env_name', 'pendulum', '--learn_rate', '1e-05', '--vae_weight', '0.1']\n",
      "['python', 'train_hnn.py', '--dyn_network_type', 'LagNet', '--dyn_input_dim', '2', '--dyn_weight', '1.0', '--structure_weight', '1.0', '--max_angle', '3.141592653589793', '--ae_network_type', 'vae', '--env_name', 'pendulum', '--learn_rate', '1e-05', '--vae_weight', '0.1']\n",
      "['python', 'train_hnn.py', '--dyn_network_type', 'LagNet', '--dyn_input_dim', '4', '--dyn_weight', '1.0', '--structure_weight', '1.0', '--max_angle', '0.5235987755982988', '--ae_network_type', 'vae', '--env_name', 'pendulum', '--learn_rate', '1e-05', '--vae_weight', '0.1']\n",
      "['python', 'train_hnn.py', '--dyn_network_type', 'LagNet', '--dyn_input_dim', '4', '--dyn_weight', '1.0', '--structure_weight', '1.0', '--max_angle', '1.0471975511965976', '--ae_network_type', 'vae', '--env_name', 'pendulum', '--learn_rate', '1e-05', '--vae_weight', '0.1']\n",
      "['python', 'train_hnn.py', '--dyn_network_type', 'LagNet', '--dyn_input_dim', '4', '--dyn_weight', '1.0', '--structure_weight', '1.0', '--max_angle', '1.5707963267948966', '--ae_network_type', 'vae', '--env_name', 'pendulum', '--learn_rate', '1e-05', '--vae_weight', '0.1']\n",
      "['python', 'train_hnn.py', '--dyn_network_type', 'LagNet', '--dyn_input_dim', '4', '--dyn_weight', '1.0', '--structure_weight', '1.0', '--max_angle', '3.141592653589793', '--ae_network_type', 'vae', '--env_name', 'pendulum', '--learn_rate', '1e-05', '--vae_weight', '0.1']\n",
      "['python', 'train_hnn.py', '--dyn_network_type', 'LagNet', '--dyn_input_dim', '6', '--dyn_weight', '1.0', '--structure_weight', '1.0', '--max_angle', '0.5235987755982988', '--ae_network_type', 'vae', '--env_name', 'pendulum', '--learn_rate', '1e-05', '--vae_weight', '0.1']\n",
      "['python', 'train_hnn.py', '--dyn_network_type', 'LagNet', '--dyn_input_dim', '6', '--dyn_weight', '1.0', '--structure_weight', '1.0', '--max_angle', '1.0471975511965976', '--ae_network_type', 'vae', '--env_name', 'pendulum', '--learn_rate', '1e-05', '--vae_weight', '0.1']\n",
      "['python', 'train_hnn.py', '--dyn_network_type', 'LagNet', '--dyn_input_dim', '6', '--dyn_weight', '1.0', '--structure_weight', '1.0', '--max_angle', '1.5707963267948966', '--ae_network_type', 'vae', '--env_name', 'pendulum', '--learn_rate', '1e-05', '--vae_weight', '0.1']\n",
      "['python', 'train_hnn.py', '--dyn_network_type', 'LagNet', '--dyn_input_dim', '6', '--dyn_weight', '1.0', '--structure_weight', '1.0', '--max_angle', '3.141592653589793', '--ae_network_type', 'vae', '--env_name', 'pendulum', '--learn_rate', '1e-05', '--vae_weight', '0.1']\n",
      "['python', 'train_hnn.py', '--dyn_network_type', 'LagNet', '--dyn_input_dim', '2', '--dyn_weight', '1.0', '--structure_weight', '1.0', '--max_angle', '0.5235987755982988', '--ae_network_type', 'mlp', '--env_name', 'pendulum', '--learn_rate', '1e-05', '--vae_weight', '0.1']\n",
      "['python', 'train_hnn.py', '--dyn_network_type', 'LagNet', '--dyn_input_dim', '2', '--dyn_weight', '1.0', '--structure_weight', '1.0', '--max_angle', '1.0471975511965976', '--ae_network_type', 'mlp', '--env_name', 'pendulum', '--learn_rate', '1e-05', '--vae_weight', '0.1']\n",
      "['python', 'train_hnn.py', '--dyn_network_type', 'LagNet', '--dyn_input_dim', '2', '--dyn_weight', '1.0', '--structure_weight', '1.0', '--max_angle', '1.5707963267948966', '--ae_network_type', 'mlp', '--env_name', 'pendulum', '--learn_rate', '1e-05', '--vae_weight', '0.1']\n",
      "['python', 'train_hnn.py', '--dyn_network_type', 'LagNet', '--dyn_input_dim', '2', '--dyn_weight', '1.0', '--structure_weight', '1.0', '--max_angle', '3.141592653589793', '--ae_network_type', 'mlp', '--env_name', 'pendulum', '--learn_rate', '1e-05', '--vae_weight', '0.1']\n",
      "['python', 'train_hnn.py', '--dyn_network_type', 'LagNet', '--dyn_input_dim', '4', '--dyn_weight', '1.0', '--structure_weight', '1.0', '--max_angle', '0.5235987755982988', '--ae_network_type', 'mlp', '--env_name', 'pendulum', '--learn_rate', '1e-05', '--vae_weight', '0.1']\n",
      "['python', 'train_hnn.py', '--dyn_network_type', 'LagNet', '--dyn_input_dim', '4', '--dyn_weight', '1.0', '--structure_weight', '1.0', '--max_angle', '1.0471975511965976', '--ae_network_type', 'mlp', '--env_name', 'pendulum', '--learn_rate', '1e-05', '--vae_weight', '0.1']\n"
     ]
    },
    {
     "name": "stdout",
     "output_type": "stream",
     "text": [
      "['python', 'train_hnn.py', '--dyn_network_type', 'LagNet', '--dyn_input_dim', '4', '--dyn_weight', '1.0', '--structure_weight', '1.0', '--max_angle', '1.5707963267948966', '--ae_network_type', 'mlp', '--env_name', 'pendulum', '--learn_rate', '1e-05', '--vae_weight', '0.1']\n",
      "['python', 'train_hnn.py', '--dyn_network_type', 'LagNet', '--dyn_input_dim', '4', '--dyn_weight', '1.0', '--structure_weight', '1.0', '--max_angle', '3.141592653589793', '--ae_network_type', 'mlp', '--env_name', 'pendulum', '--learn_rate', '1e-05', '--vae_weight', '0.1']\n",
      "['python', 'train_hnn.py', '--dyn_network_type', 'LagNet', '--dyn_input_dim', '6', '--dyn_weight', '1.0', '--structure_weight', '1.0', '--max_angle', '0.5235987755982988', '--ae_network_type', 'mlp', '--env_name', 'pendulum', '--learn_rate', '1e-05', '--vae_weight', '0.1']\n",
      "['python', 'train_hnn.py', '--dyn_network_type', 'LagNet', '--dyn_input_dim', '6', '--dyn_weight', '1.0', '--structure_weight', '1.0', '--max_angle', '1.0471975511965976', '--ae_network_type', 'mlp', '--env_name', 'pendulum', '--learn_rate', '1e-05', '--vae_weight', '0.1']\n",
      "['python', 'train_hnn.py', '--dyn_network_type', 'LagNet', '--dyn_input_dim', '6', '--dyn_weight', '1.0', '--structure_weight', '1.0', '--max_angle', '1.5707963267948966', '--ae_network_type', 'mlp', '--env_name', 'pendulum', '--learn_rate', '1e-05', '--vae_weight', '0.1']\n",
      "['python', 'train_hnn.py', '--dyn_network_type', 'LagNet', '--dyn_input_dim', '6', '--dyn_weight', '1.0', '--structure_weight', '1.0', '--max_angle', '3.141592653589793', '--ae_network_type', 'mlp', '--env_name', 'pendulum', '--learn_rate', '1e-05', '--vae_weight', '0.1']\n",
      "['python', 'train_hnn.py', '--dyn_network_type', 'LagNet', '--dyn_input_dim', '4', '--dyn_weight', '1.0', '--structure_weight', '1.0', '--max_angle', '0.5235987755982988', '--ae_network_type', 'vae', '--env_name', 'acrobot', '--learn_rate', '1e-05', '--vae_weight', '0.1']\n",
      "['python', 'train_hnn.py', '--dyn_network_type', 'LagNet', '--dyn_input_dim', '6', '--dyn_weight', '1.0', '--structure_weight', '1.0', '--max_angle', '0.5235987755982988', '--ae_network_type', 'vae', '--env_name', 'acrobot', '--learn_rate', '1e-05', '--vae_weight', '0.1']\n",
      "['python', 'train_hnn.py', '--dyn_network_type', 'LagNet', '--dyn_input_dim', '4', '--dyn_weight', '1.0', '--structure_weight', '1.0', '--max_angle', '0.5235987755982988', '--ae_network_type', 'mlp', '--env_name', 'acrobot', '--learn_rate', '1e-05', '--vae_weight', '0.1']\n",
      "['python', 'train_hnn.py', '--dyn_network_type', 'LagNet', '--dyn_input_dim', '6', '--dyn_weight', '1.0', '--structure_weight', '1.0', '--max_angle', '0.5235987755982988', '--ae_network_type', 'mlp', '--env_name', 'acrobot', '--learn_rate', '1e-05', '--vae_weight', '0.1']\n",
      "['python', 'train_hnn.py', '--dyn_network_type', 'LagNet', '--dyn_input_dim', '2', '--dyn_weight', '0.1', '--structure_weight', '1.0', '--max_angle', '0.5235987755982988', '--ae_network_type', 'vae', '--env_name', 'pendulum', '--learn_rate', '1e-05', '--vae_weight', '0.1']\n",
      "['python', 'train_hnn.py', '--dyn_network_type', 'LagNet', '--dyn_input_dim', '2', '--dyn_weight', '0.1', '--structure_weight', '1.0', '--max_angle', '1.0471975511965976', '--ae_network_type', 'vae', '--env_name', 'pendulum', '--learn_rate', '1e-05', '--vae_weight', '0.1']\n",
      "['python', 'train_hnn.py', '--dyn_network_type', 'LagNet', '--dyn_input_dim', '2', '--dyn_weight', '0.1', '--structure_weight', '1.0', '--max_angle', '1.5707963267948966', '--ae_network_type', 'vae', '--env_name', 'pendulum', '--learn_rate', '1e-05', '--vae_weight', '0.1']\n",
      "['python', 'train_hnn.py', '--dyn_network_type', 'LagNet', '--dyn_input_dim', '2', '--dyn_weight', '0.1', '--structure_weight', '1.0', '--max_angle', '3.141592653589793', '--ae_network_type', 'vae', '--env_name', 'pendulum', '--learn_rate', '1e-05', '--vae_weight', '0.1']\n",
      "['python', 'train_hnn.py', '--dyn_network_type', 'LagNet', '--dyn_input_dim', '4', '--dyn_weight', '0.1', '--structure_weight', '1.0', '--max_angle', '0.5235987755982988', '--ae_network_type', 'vae', '--env_name', 'pendulum', '--learn_rate', '1e-05', '--vae_weight', '0.1']\n",
      "['python', 'train_hnn.py', '--dyn_network_type', 'LagNet', '--dyn_input_dim', '4', '--dyn_weight', '0.1', '--structure_weight', '1.0', '--max_angle', '1.0471975511965976', '--ae_network_type', 'vae', '--env_name', 'pendulum', '--learn_rate', '1e-05', '--vae_weight', '0.1']\n",
      "['python', 'train_hnn.py', '--dyn_network_type', 'LagNet', '--dyn_input_dim', '4', '--dyn_weight', '0.1', '--structure_weight', '1.0', '--max_angle', '1.5707963267948966', '--ae_network_type', 'vae', '--env_name', 'pendulum', '--learn_rate', '1e-05', '--vae_weight', '0.1']\n",
      "['python', 'train_hnn.py', '--dyn_network_type', 'LagNet', '--dyn_input_dim', '4', '--dyn_weight', '0.1', '--structure_weight', '1.0', '--max_angle', '3.141592653589793', '--ae_network_type', 'vae', '--env_name', 'pendulum', '--learn_rate', '1e-05', '--vae_weight', '0.1']\n",
      "['python', 'train_hnn.py', '--dyn_network_type', 'LagNet', '--dyn_input_dim', '6', '--dyn_weight', '0.1', '--structure_weight', '1.0', '--max_angle', '0.5235987755982988', '--ae_network_type', 'vae', '--env_name', 'pendulum', '--learn_rate', '1e-05', '--vae_weight', '0.1']\n",
      "['python', 'train_hnn.py', '--dyn_network_type', 'LagNet', '--dyn_input_dim', '6', '--dyn_weight', '0.1', '--structure_weight', '1.0', '--max_angle', '1.0471975511965976', '--ae_network_type', 'vae', '--env_name', 'pendulum', '--learn_rate', '1e-05', '--vae_weight', '0.1']\n",
      "['python', 'train_hnn.py', '--dyn_network_type', 'LagNet', '--dyn_input_dim', '6', '--dyn_weight', '0.1', '--structure_weight', '1.0', '--max_angle', '1.5707963267948966', '--ae_network_type', 'vae', '--env_name', 'pendulum', '--learn_rate', '1e-05', '--vae_weight', '0.1']\n",
      "['python', 'train_hnn.py', '--dyn_network_type', 'LagNet', '--dyn_input_dim', '6', '--dyn_weight', '0.1', '--structure_weight', '1.0', '--max_angle', '3.141592653589793', '--ae_network_type', 'vae', '--env_name', 'pendulum', '--learn_rate', '1e-05', '--vae_weight', '0.1']\n",
      "['python', 'train_hnn.py', '--dyn_network_type', 'LagNet', '--dyn_input_dim', '2', '--dyn_weight', '0.1', '--structure_weight', '1.0', '--max_angle', '0.5235987755982988', '--ae_network_type', 'mlp', '--env_name', 'pendulum', '--learn_rate', '1e-05', '--vae_weight', '0.1']\n",
      "['python', 'train_hnn.py', '--dyn_network_type', 'LagNet', '--dyn_input_dim', '2', '--dyn_weight', '0.1', '--structure_weight', '1.0', '--max_angle', '1.0471975511965976', '--ae_network_type', 'mlp', '--env_name', 'pendulum', '--learn_rate', '1e-05', '--vae_weight', '0.1']\n",
      "['python', 'train_hnn.py', '--dyn_network_type', 'LagNet', '--dyn_input_dim', '2', '--dyn_weight', '0.1', '--structure_weight', '1.0', '--max_angle', '1.5707963267948966', '--ae_network_type', 'mlp', '--env_name', 'pendulum', '--learn_rate', '1e-05', '--vae_weight', '0.1']\n",
      "['python', 'train_hnn.py', '--dyn_network_type', 'LagNet', '--dyn_input_dim', '2', '--dyn_weight', '0.1', '--structure_weight', '1.0', '--max_angle', '3.141592653589793', '--ae_network_type', 'mlp', '--env_name', 'pendulum', '--learn_rate', '1e-05', '--vae_weight', '0.1']\n",
      "['python', 'train_hnn.py', '--dyn_network_type', 'LagNet', '--dyn_input_dim', '4', '--dyn_weight', '0.1', '--structure_weight', '1.0', '--max_angle', '0.5235987755982988', '--ae_network_type', 'mlp', '--env_name', 'pendulum', '--learn_rate', '1e-05', '--vae_weight', '0.1']\n",
      "['python', 'train_hnn.py', '--dyn_network_type', 'LagNet', '--dyn_input_dim', '4', '--dyn_weight', '0.1', '--structure_weight', '1.0', '--max_angle', '1.0471975511965976', '--ae_network_type', 'mlp', '--env_name', 'pendulum', '--learn_rate', '1e-05', '--vae_weight', '0.1']\n",
      "['python', 'train_hnn.py', '--dyn_network_type', 'LagNet', '--dyn_input_dim', '4', '--dyn_weight', '0.1', '--structure_weight', '1.0', '--max_angle', '1.5707963267948966', '--ae_network_type', 'mlp', '--env_name', 'pendulum', '--learn_rate', '1e-05', '--vae_weight', '0.1']\n",
      "['python', 'train_hnn.py', '--dyn_network_type', 'LagNet', '--dyn_input_dim', '4', '--dyn_weight', '0.1', '--structure_weight', '1.0', '--max_angle', '3.141592653589793', '--ae_network_type', 'mlp', '--env_name', 'pendulum', '--learn_rate', '1e-05', '--vae_weight', '0.1']\n"
     ]
    },
    {
     "name": "stdout",
     "output_type": "stream",
     "text": [
      "['python', 'train_hnn.py', '--dyn_network_type', 'LagNet', '--dyn_input_dim', '6', '--dyn_weight', '0.1', '--structure_weight', '1.0', '--max_angle', '0.5235987755982988', '--ae_network_type', 'mlp', '--env_name', 'pendulum', '--learn_rate', '1e-05', '--vae_weight', '0.1']\n",
      "['python', 'train_hnn.py', '--dyn_network_type', 'LagNet', '--dyn_input_dim', '6', '--dyn_weight', '0.1', '--structure_weight', '1.0', '--max_angle', '1.0471975511965976', '--ae_network_type', 'mlp', '--env_name', 'pendulum', '--learn_rate', '1e-05', '--vae_weight', '0.1']\n",
      "['python', 'train_hnn.py', '--dyn_network_type', 'LagNet', '--dyn_input_dim', '6', '--dyn_weight', '0.1', '--structure_weight', '1.0', '--max_angle', '1.5707963267948966', '--ae_network_type', 'mlp', '--env_name', 'pendulum', '--learn_rate', '1e-05', '--vae_weight', '0.1']\n",
      "['python', 'train_hnn.py', '--dyn_network_type', 'LagNet', '--dyn_input_dim', '6', '--dyn_weight', '0.1', '--structure_weight', '1.0', '--max_angle', '3.141592653589793', '--ae_network_type', 'mlp', '--env_name', 'pendulum', '--learn_rate', '1e-05', '--vae_weight', '0.1']\n",
      "['python', 'train_hnn.py', '--dyn_network_type', 'LagNet', '--dyn_input_dim', '4', '--dyn_weight', '0.1', '--structure_weight', '1.0', '--max_angle', '0.5235987755982988', '--ae_network_type', 'vae', '--env_name', 'acrobot', '--learn_rate', '1e-05', '--vae_weight', '0.1']\n",
      "['python', 'train_hnn.py', '--dyn_network_type', 'LagNet', '--dyn_input_dim', '6', '--dyn_weight', '0.1', '--structure_weight', '1.0', '--max_angle', '0.5235987755982988', '--ae_network_type', 'vae', '--env_name', 'acrobot', '--learn_rate', '1e-05', '--vae_weight', '0.1']\n",
      "['python', 'train_hnn.py', '--dyn_network_type', 'LagNet', '--dyn_input_dim', '4', '--dyn_weight', '0.1', '--structure_weight', '1.0', '--max_angle', '0.5235987755982988', '--ae_network_type', 'mlp', '--env_name', 'acrobot', '--learn_rate', '1e-05', '--vae_weight', '0.1']\n",
      "['python', 'train_hnn.py', '--dyn_network_type', 'LagNet', '--dyn_input_dim', '6', '--dyn_weight', '0.1', '--structure_weight', '1.0', '--max_angle', '0.5235987755982988', '--ae_network_type', 'mlp', '--env_name', 'acrobot', '--learn_rate', '1e-05', '--vae_weight', '0.1']\n",
      "['python', 'train_hnn.py', '--dyn_network_type', 'LagNet', '--dyn_input_dim', '2', '--dyn_weight', '0.01', '--structure_weight', '1.0', '--max_angle', '0.5235987755982988', '--ae_network_type', 'vae', '--env_name', 'pendulum', '--learn_rate', '1e-05', '--vae_weight', '0.1']\n",
      "['python', 'train_hnn.py', '--dyn_network_type', 'LagNet', '--dyn_input_dim', '2', '--dyn_weight', '0.01', '--structure_weight', '1.0', '--max_angle', '1.0471975511965976', '--ae_network_type', 'vae', '--env_name', 'pendulum', '--learn_rate', '1e-05', '--vae_weight', '0.1']\n",
      "['python', 'train_hnn.py', '--dyn_network_type', 'LagNet', '--dyn_input_dim', '2', '--dyn_weight', '0.01', '--structure_weight', '1.0', '--max_angle', '1.5707963267948966', '--ae_network_type', 'vae', '--env_name', 'pendulum', '--learn_rate', '1e-05', '--vae_weight', '0.1']\n",
      "['python', 'train_hnn.py', '--dyn_network_type', 'LagNet', '--dyn_input_dim', '2', '--dyn_weight', '0.01', '--structure_weight', '1.0', '--max_angle', '3.141592653589793', '--ae_network_type', 'vae', '--env_name', 'pendulum', '--learn_rate', '1e-05', '--vae_weight', '0.1']\n",
      "['python', 'train_hnn.py', '--dyn_network_type', 'LagNet', '--dyn_input_dim', '4', '--dyn_weight', '0.01', '--structure_weight', '1.0', '--max_angle', '0.5235987755982988', '--ae_network_type', 'vae', '--env_name', 'pendulum', '--learn_rate', '1e-05', '--vae_weight', '0.1']\n",
      "['python', 'train_hnn.py', '--dyn_network_type', 'LagNet', '--dyn_input_dim', '4', '--dyn_weight', '0.01', '--structure_weight', '1.0', '--max_angle', '1.0471975511965976', '--ae_network_type', 'vae', '--env_name', 'pendulum', '--learn_rate', '1e-05', '--vae_weight', '0.1']\n",
      "['python', 'train_hnn.py', '--dyn_network_type', 'LagNet', '--dyn_input_dim', '4', '--dyn_weight', '0.01', '--structure_weight', '1.0', '--max_angle', '1.5707963267948966', '--ae_network_type', 'vae', '--env_name', 'pendulum', '--learn_rate', '1e-05', '--vae_weight', '0.1']\n",
      "['python', 'train_hnn.py', '--dyn_network_type', 'LagNet', '--dyn_input_dim', '4', '--dyn_weight', '0.01', '--structure_weight', '1.0', '--max_angle', '3.141592653589793', '--ae_network_type', 'vae', '--env_name', 'pendulum', '--learn_rate', '1e-05', '--vae_weight', '0.1']\n",
      "['python', 'train_hnn.py', '--dyn_network_type', 'LagNet', '--dyn_input_dim', '6', '--dyn_weight', '0.01', '--structure_weight', '1.0', '--max_angle', '0.5235987755982988', '--ae_network_type', 'vae', '--env_name', 'pendulum', '--learn_rate', '1e-05', '--vae_weight', '0.1']\n",
      "['python', 'train_hnn.py', '--dyn_network_type', 'LagNet', '--dyn_input_dim', '6', '--dyn_weight', '0.01', '--structure_weight', '1.0', '--max_angle', '1.0471975511965976', '--ae_network_type', 'vae', '--env_name', 'pendulum', '--learn_rate', '1e-05', '--vae_weight', '0.1']\n",
      "['python', 'train_hnn.py', '--dyn_network_type', 'LagNet', '--dyn_input_dim', '6', '--dyn_weight', '0.01', '--structure_weight', '1.0', '--max_angle', '1.5707963267948966', '--ae_network_type', 'vae', '--env_name', 'pendulum', '--learn_rate', '1e-05', '--vae_weight', '0.1']\n",
      "['python', 'train_hnn.py', '--dyn_network_type', 'LagNet', '--dyn_input_dim', '6', '--dyn_weight', '0.01', '--structure_weight', '1.0', '--max_angle', '3.141592653589793', '--ae_network_type', 'vae', '--env_name', 'pendulum', '--learn_rate', '1e-05', '--vae_weight', '0.1']\n",
      "['python', 'train_hnn.py', '--dyn_network_type', 'LagNet', '--dyn_input_dim', '2', '--dyn_weight', '0.01', '--structure_weight', '1.0', '--max_angle', '0.5235987755982988', '--ae_network_type', 'mlp', '--env_name', 'pendulum', '--learn_rate', '1e-05', '--vae_weight', '0.1']\n",
      "['python', 'train_hnn.py', '--dyn_network_type', 'LagNet', '--dyn_input_dim', '2', '--dyn_weight', '0.01', '--structure_weight', '1.0', '--max_angle', '1.0471975511965976', '--ae_network_type', 'mlp', '--env_name', 'pendulum', '--learn_rate', '1e-05', '--vae_weight', '0.1']\n",
      "['python', 'train_hnn.py', '--dyn_network_type', 'LagNet', '--dyn_input_dim', '2', '--dyn_weight', '0.01', '--structure_weight', '1.0', '--max_angle', '1.5707963267948966', '--ae_network_type', 'mlp', '--env_name', 'pendulum', '--learn_rate', '1e-05', '--vae_weight', '0.1']\n",
      "['python', 'train_hnn.py', '--dyn_network_type', 'LagNet', '--dyn_input_dim', '2', '--dyn_weight', '0.01', '--structure_weight', '1.0', '--max_angle', '3.141592653589793', '--ae_network_type', 'mlp', '--env_name', 'pendulum', '--learn_rate', '1e-05', '--vae_weight', '0.1']\n",
      "['python', 'train_hnn.py', '--dyn_network_type', 'LagNet', '--dyn_input_dim', '4', '--dyn_weight', '0.01', '--structure_weight', '1.0', '--max_angle', '0.5235987755982988', '--ae_network_type', 'mlp', '--env_name', 'pendulum', '--learn_rate', '1e-05', '--vae_weight', '0.1']\n",
      "['python', 'train_hnn.py', '--dyn_network_type', 'LagNet', '--dyn_input_dim', '4', '--dyn_weight', '0.01', '--structure_weight', '1.0', '--max_angle', '1.0471975511965976', '--ae_network_type', 'mlp', '--env_name', 'pendulum', '--learn_rate', '1e-05', '--vae_weight', '0.1']\n",
      "['python', 'train_hnn.py', '--dyn_network_type', 'LagNet', '--dyn_input_dim', '4', '--dyn_weight', '0.01', '--structure_weight', '1.0', '--max_angle', '1.5707963267948966', '--ae_network_type', 'mlp', '--env_name', 'pendulum', '--learn_rate', '1e-05', '--vae_weight', '0.1']\n",
      "['python', 'train_hnn.py', '--dyn_network_type', 'LagNet', '--dyn_input_dim', '4', '--dyn_weight', '0.01', '--structure_weight', '1.0', '--max_angle', '3.141592653589793', '--ae_network_type', 'mlp', '--env_name', 'pendulum', '--learn_rate', '1e-05', '--vae_weight', '0.1']\n",
      "['python', 'train_hnn.py', '--dyn_network_type', 'LagNet', '--dyn_input_dim', '6', '--dyn_weight', '0.01', '--structure_weight', '1.0', '--max_angle', '0.5235987755982988', '--ae_network_type', 'mlp', '--env_name', 'pendulum', '--learn_rate', '1e-05', '--vae_weight', '0.1']\n",
      "['python', 'train_hnn.py', '--dyn_network_type', 'LagNet', '--dyn_input_dim', '6', '--dyn_weight', '0.01', '--structure_weight', '1.0', '--max_angle', '1.0471975511965976', '--ae_network_type', 'mlp', '--env_name', 'pendulum', '--learn_rate', '1e-05', '--vae_weight', '0.1']\n"
     ]
    },
    {
     "name": "stdout",
     "output_type": "stream",
     "text": [
      "['python', 'train_hnn.py', '--dyn_network_type', 'LagNet', '--dyn_input_dim', '6', '--dyn_weight', '0.01', '--structure_weight', '1.0', '--max_angle', '1.5707963267948966', '--ae_network_type', 'mlp', '--env_name', 'pendulum', '--learn_rate', '1e-05', '--vae_weight', '0.1']\n",
      "['python', 'train_hnn.py', '--dyn_network_type', 'LagNet', '--dyn_input_dim', '6', '--dyn_weight', '0.01', '--structure_weight', '1.0', '--max_angle', '3.141592653589793', '--ae_network_type', 'mlp', '--env_name', 'pendulum', '--learn_rate', '1e-05', '--vae_weight', '0.1']\n",
      "['python', 'train_hnn.py', '--dyn_network_type', 'LagNet', '--dyn_input_dim', '4', '--dyn_weight', '0.01', '--structure_weight', '1.0', '--max_angle', '0.5235987755982988', '--ae_network_type', 'vae', '--env_name', 'acrobot', '--learn_rate', '1e-05', '--vae_weight', '0.1']\n",
      "['python', 'train_hnn.py', '--dyn_network_type', 'LagNet', '--dyn_input_dim', '6', '--dyn_weight', '0.01', '--structure_weight', '1.0', '--max_angle', '0.5235987755982988', '--ae_network_type', 'vae', '--env_name', 'acrobot', '--learn_rate', '1e-05', '--vae_weight', '0.1']\n",
      "['python', 'train_hnn.py', '--dyn_network_type', 'LagNet', '--dyn_input_dim', '4', '--dyn_weight', '0.01', '--structure_weight', '1.0', '--max_angle', '0.5235987755982988', '--ae_network_type', 'mlp', '--env_name', 'acrobot', '--learn_rate', '1e-05', '--vae_weight', '0.1']\n",
      "['python', 'train_hnn.py', '--dyn_network_type', 'LagNet', '--dyn_input_dim', '6', '--dyn_weight', '0.01', '--structure_weight', '1.0', '--max_angle', '0.5235987755982988', '--ae_network_type', 'mlp', '--env_name', 'acrobot', '--learn_rate', '1e-05', '--vae_weight', '0.1']\n"
     ]
    }
   ],
   "source": [
    "%run launch.py"
   ]
  },
  {
   "cell_type": "code",
   "execution_count": 1,
   "metadata": {},
   "outputs": [
    {
     "name": "stderr",
     "output_type": "stream",
     "text": [
      "\r",
      "  0%|          | 0/10001 [00:00<?, ?it/s]"
     ]
    },
    {
     "name": "stdout",
     "output_type": "stream",
     "text": [
      "Successfully loaded data from /home/ca15/lagrangian-nn/experiment-pixels/pendulum_S103_T200_MA0-52.pkl\n"
     ]
    },
    {
     "name": "stderr",
     "output_type": "stream",
     "text": [
      "100%|██████████| 10001/10001 [02:12<00:00, 75.38it/s]\n"
     ]
    },
    {
     "name": "stdout",
     "output_type": "stream",
     "text": [
      "Successfully loaded data from /home/ca15/lagrangian-nn/experiment-pixels/pendulum_S103_T200_MA0-52.pkl\n",
      "Final train loss 3.0445e-04 +/- 1.8131e-05\n",
      "Final test loss 3.1662e-04 +/- 1.8901e-05\n"
     ]
    }
   ],
   "source": [
    "%run train_hnn.py --gpu 2 --dyn_loss_type mse --total_steps 10000"
   ]
  },
  {
   "cell_type": "code",
   "execution_count": 8,
   "metadata": {},
   "outputs": [
    {
     "name": "stdout",
     "output_type": "stream",
     "text": [
      "model contains 925471 parameters\n"
     ]
    },
    {
     "name": "stderr",
     "output_type": "stream",
     "text": [
      "\r",
      "  0%|          | 0/50001 [00:00<?, ?it/s]"
     ]
    },
    {
     "name": "stdout",
     "output_type": "stream",
     "text": [
      "Successfully loaded data from /home/ca15/lagrangian-nn/experiment-pixels/pendulum-pixels-dataset.pkl\n"
     ]
    },
    {
     "name": "stderr",
     "output_type": "stream",
     "text": [
      "100%|██████████| 50001/50001 [16:12<00:00, 51.44it/s]\n"
     ]
    },
    {
     "name": "stdout",
     "output_type": "stream",
     "text": [
      "Final train loss 3.0519e-04 +/- 1.8222e-05\n",
      "Final test loss 3.1637e-04 +/- 1.8872e-05\n"
     ]
    }
   ],
   "source": [
    "%run train_symodenet.py --gpu 2 --total_steps 50000"
   ]
  },
  {
   "cell_type": "code",
   "execution_count": 9,
   "metadata": {},
   "outputs": [
    {
     "name": "stdout",
     "output_type": "stream",
     "text": [
      "model contains 831091 parameters\n"
     ]
    },
    {
     "name": "stderr",
     "output_type": "stream",
     "text": [
      "  0%|          | 6/50001 [00:00<15:07, 55.10it/s]"
     ]
    },
    {
     "name": "stdout",
     "output_type": "stream",
     "text": [
      "Successfully loaded data from /home/ca15/lagrangian-nn/experiment-pixels/pendulum-pixels-dataset.pkl\n"
     ]
    },
    {
     "name": "stderr",
     "output_type": "stream",
     "text": [
      "100%|██████████| 50001/50001 [15:59<00:00, 52.09it/s]\n"
     ]
    },
    {
     "name": "stdout",
     "output_type": "stream",
     "text": [
      "Final train loss 3.0222e-04 +/- 1.7869e-05\n",
      "Final test loss 3.1397e-04 +/- 1.8586e-05\n"
     ]
    }
   ],
   "source": [
    "%run train_lagnet.py --gpu 2 --total_steps 50000"
   ]
  },
  {
   "cell_type": "code",
   "execution_count": null,
   "metadata": {},
   "outputs": [
    {
     "name": "stdout",
     "output_type": "stream",
     "text": [
      "model contains 872372 parameters\n"
     ]
    },
    {
     "name": "stderr",
     "output_type": "stream",
     "text": [
      "\r",
      "  0%|          | 0/10001 [00:00<?, ?it/s]"
     ]
    },
    {
     "name": "stdout",
     "output_type": "stream",
     "text": [
      "Successfully loaded data from /home/ca15/lagrangian-nn/experiment-pixels/pendulum-pixels-dataset.pkl\n"
     ]
    },
    {
     "name": "stderr",
     "output_type": "stream",
     "text": [
      "  0%|          | 17/10001 [00:00<07:54, 21.04it/s]"
     ]
    }
   ],
   "source": [
    "%run train_hnn.py --conv --gpu 1"
   ]
  },
  {
   "cell_type": "code",
   "execution_count": null,
   "metadata": {},
   "outputs": [],
   "source": [
    "%run train_symodenet.py --conv --gpu 1"
   ]
  },
  {
   "cell_type": "code",
   "execution_count": null,
   "metadata": {},
   "outputs": [],
   "source": [
    "%run train_lagnet.py --conv --gpu 1"
   ]
  },
  {
   "cell_type": "code",
   "execution_count": null,
   "metadata": {},
   "outputs": [],
   "source": []
  }
 ],
 "metadata": {
  "kernelspec": {
   "display_name": "Python 3",
   "language": "python",
   "name": "python3"
  },
  "language_info": {
   "codemirror_mode": {
    "name": "ipython",
    "version": 3
   },
   "file_extension": ".py",
   "mimetype": "text/x-python",
   "name": "python",
   "nbconvert_exporter": "python",
   "pygments_lexer": "ipython3",
   "version": "3.6.8"
  }
 },
 "nbformat": 4,
 "nbformat_minor": 4
}
